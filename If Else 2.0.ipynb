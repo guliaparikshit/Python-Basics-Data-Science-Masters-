{
 "cells": [
  {
   "cell_type": "code",
   "execution_count": 1,
   "id": "79c0c332-b0a9-42f2-9867-84e19bd2361b",
   "metadata": {},
   "outputs": [],
   "source": [
    "#while loop continues looping until it fails"
   ]
  },
  {
   "cell_type": "code",
   "execution_count": 2,
   "id": "c561a096-1741-4539-8a51-dc4bc5414aa1",
   "metadata": {},
   "outputs": [
    {
     "name": "stdout",
     "output_type": "stream",
     "text": [
      "1\n",
      "2\n",
      "3\n",
      "4\n",
      "5\n",
      "6\n",
      "7\n",
      "8\n",
      "9\n"
     ]
    }
   ],
   "source": [
    "n=10\n",
    "i=1\n",
    "while i<10:\n",
    "    print(i)\n",
    "    i=i+1"
   ]
  },
  {
   "cell_type": "code",
   "execution_count": 26,
   "id": "b875be0e-4f97-489b-b744-8c4fcc89406b",
   "metadata": {},
   "outputs": [
    {
     "name": "stdout",
     "output_type": "stream",
     "text": [
      "1\n",
      "2\n",
      "3\n",
      "4\n",
      "5\n",
      "6\n",
      "7\n",
      "8\n",
      "9\n",
      "this will come only when while has finished his work\n"
     ]
    }
   ],
   "source": [
    "n=10\n",
    "i=1\n",
    "while i<n:\n",
    "    print(i)\n",
    "    i=i+1\n",
    "else:\n",
    "        print(\"this will come only when while has finished his work\")"
   ]
  },
  {
   "cell_type": "code",
   "execution_count": 22,
   "id": "c250f67e-3dbd-4c49-afe3-fe3ac0dc0b92",
   "metadata": {},
   "outputs": [
    {
     "name": "stdout",
     "output_type": "stream",
     "text": [
      "1\n",
      "2\n"
     ]
    }
   ],
   "source": [
    "n=10\n",
    "i=1\n",
    "while i<10:\n",
    "    print(i)\n",
    "    i=i+1\n",
    "    if i==3:\n",
    "        break"
   ]
  },
  {
   "cell_type": "code",
   "execution_count": 23,
   "id": "1aba3ecf-1e73-4092-9b15-d5a9d1f047c9",
   "metadata": {},
   "outputs": [
    {
     "name": "stdout",
     "output_type": "stream",
     "text": [
      "1\n",
      "2\n",
      "3\n",
      "4\n",
      "5\n",
      "6\n",
      "7\n",
      "8\n",
      "9\n"
     ]
    }
   ],
   "source": [
    "n=10\n",
    "i=1\n",
    "while i<10:\n",
    "    print(i)\n",
    "    i=i+1\n",
    "    if i==3:\n",
    "        continue"
   ]
  },
  {
   "cell_type": "code",
   "execution_count": 32,
   "id": "6793e77a-f9fc-4694-b677-11a18660dc90",
   "metadata": {},
   "outputs": [
    {
     "name": "stdout",
     "output_type": "stream",
     "text": [
      "2\n",
      "4\n",
      "5\n",
      "6\n",
      "7\n",
      "8\n",
      "9\n",
      "10\n",
      "this will come only when while has finished his work\n"
     ]
    }
   ],
   "source": [
    "n=10\n",
    "i=1\n",
    "while i<n:\n",
    "    \n",
    "    i=i+1\n",
    "    if i==3:\n",
    "         continue\n",
    "    print(i)\n",
    "else:\n",
    "        print(\"this will come only when while has finished his work\")"
   ]
  },
  {
   "cell_type": "raw",
   "id": "068bd630-d8c9-4d3e-8412-698cba2dca84",
   "metadata": {},
   "source": [
    "# basic funda is while loop will check first for eg it will first check i<10 it takes value 1 now checks 2nd statement i=i+1 so yaha i = 2 now it will check 3rd statement that is i==3 which is false i=2 so it will directly print that now it will choose 2 and again loop that 2=2+1 now value is 3 now checks 3==3 its true so it will continue means uske aage wala nhi hoga ekbr fhir upper bheja jayega and then same 4,5,6,7....."
   ]
  },
  {
   "cell_type": "code",
   "execution_count": 33,
   "id": "a56d9e29-d3c2-44d3-afd6-3c63c5e9bc49",
   "metadata": {},
   "outputs": [],
   "source": [
    "#for loop"
   ]
  },
  {
   "cell_type": "code",
   "execution_count": 35,
   "id": "de5301fb-1437-4441-ba2e-41e96a48ae29",
   "metadata": {},
   "outputs": [],
   "source": [
    "n=\"parikshit\""
   ]
  },
  {
   "cell_type": "code",
   "execution_count": 38,
   "id": "cbb5691b-7c87-4090-8952-a04f85e5387a",
   "metadata": {},
   "outputs": [
    {
     "name": "stdout",
     "output_type": "stream",
     "text": [
      "p\n",
      "a\n",
      "r\n",
      "i\n",
      "k\n",
      "s\n",
      "h\n",
      "i\n",
      "t\n"
     ]
    }
   ],
   "source": [
    "for i in n:\n",
    "      print(i)"
   ]
  },
  {
   "cell_type": "code",
   "execution_count": 41,
   "id": "aeaa4b2a-1285-4d3c-a54d-199ecae91c07",
   "metadata": {},
   "outputs": [
    {
     "name": "stdout",
     "output_type": "stream",
     "text": [
      "pp\n",
      "aa\n",
      "rr\n",
      "ii\n",
      "kk\n",
      "ss\n",
      "hh\n",
      "ii\n",
      "tt\n"
     ]
    }
   ],
   "source": [
    "for i in n:\n",
    "    print(i*2)"
   ]
  },
  {
   "cell_type": "code",
   "execution_count": 49,
   "id": "b2f39498-1a86-4a3b-bca9-6d40c1724ba1",
   "metadata": {},
   "outputs": [
    {
     "ename": "TypeError",
     "evalue": "'int' object is not callable",
     "output_type": "error",
     "traceback": [
      "\u001b[0;31m---------------------------------------------------------------------------\u001b[0m",
      "\u001b[0;31mTypeError\u001b[0m                                 Traceback (most recent call last)",
      "Cell \u001b[0;32mIn[49], line 1\u001b[0m\n\u001b[0;32m----> 1\u001b[0m \u001b[38;5;28;43mrange\u001b[39;49m\u001b[43m(\u001b[49m\u001b[38;5;241;43m18\u001b[39;49m\u001b[43m)\u001b[49m\n",
      "\u001b[0;31mTypeError\u001b[0m: 'int' object is not callable"
     ]
    }
   ],
   "source": [
    "range(18)"
   ]
  },
  {
   "cell_type": "code",
   "execution_count": 50,
   "id": "ad3d3da6-cfc2-4dc4-9f80-3b33b1ee85bd",
   "metadata": {},
   "outputs": [
    {
     "ename": "TypeError",
     "evalue": "'int' object is not callable",
     "output_type": "error",
     "traceback": [
      "\u001b[0;31m---------------------------------------------------------------------------\u001b[0m",
      "\u001b[0;31mTypeError\u001b[0m                                 Traceback (most recent call last)",
      "Cell \u001b[0;32mIn[50], line 1\u001b[0m\n\u001b[0;32m----> 1\u001b[0m \u001b[38;5;28mlist\u001b[39m(\u001b[38;5;28;43mrange\u001b[39;49m\u001b[43m(\u001b[49m\u001b[38;5;241;43m18\u001b[39;49m\u001b[43m)\u001b[49m)\n",
      "\u001b[0;31mTypeError\u001b[0m: 'int' object is not callable"
     ]
    }
   ],
   "source": [
    "list(range(18))"
   ]
  },
  {
   "cell_type": "code",
   "execution_count": null,
   "id": "589ecb85-2a21-460d-9c4c-323feade08eb",
   "metadata": {},
   "outputs": [],
   "source": []
  }
 ],
 "metadata": {
  "kernelspec": {
   "display_name": "Python 3 (ipykernel)",
   "language": "python",
   "name": "python3"
  },
  "language_info": {
   "codemirror_mode": {
    "name": "ipython",
    "version": 3
   },
   "file_extension": ".py",
   "mimetype": "text/x-python",
   "name": "python",
   "nbconvert_exporter": "python",
   "pygments_lexer": "ipython3",
   "version": "3.10.8"
  }
 },
 "nbformat": 4,
 "nbformat_minor": 5
}

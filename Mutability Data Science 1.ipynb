{
 "cells": [
  {
   "cell_type": "code",
   "execution_count": 1,
   "id": "85a37daf-9f43-4f78-90b6-26cfe07ded2e",
   "metadata": {},
   "outputs": [],
   "source": [
    "c=\"parikshit\""
   ]
  },
  {
   "cell_type": "code",
   "execution_count": 2,
   "id": "dcf69551-985b-4e13-aebf-2a67451ec8f2",
   "metadata": {},
   "outputs": [
    {
     "data": {
      "text/plain": [
       "'parikshit'"
      ]
     },
     "execution_count": 2,
     "metadata": {},
     "output_type": "execute_result"
    }
   ],
   "source": [
    "c"
   ]
  },
  {
   "cell_type": "code",
   "execution_count": 3,
   "id": "3d98bcac-56ef-47fd-b7ce-899701670484",
   "metadata": {},
   "outputs": [
    {
     "data": {
      "text/plain": [
       "'p'"
      ]
     },
     "execution_count": 3,
     "metadata": {},
     "output_type": "execute_result"
    }
   ],
   "source": [
    "c[0]"
   ]
  },
  {
   "cell_type": "code",
   "execution_count": 4,
   "id": "50f3594f-4586-40d1-a666-cec589dfd9f4",
   "metadata": {},
   "outputs": [
    {
     "data": {
      "text/plain": [
       "'t'"
      ]
     },
     "execution_count": 4,
     "metadata": {},
     "output_type": "execute_result"
    }
   ],
   "source": [
    "c[-1]"
   ]
  },
  {
   "cell_type": "code",
   "execution_count": 5,
   "id": "f372e9c2-c91f-4ffd-8121-4878d96d6568",
   "metadata": {},
   "outputs": [
    {
     "data": {
      "text/plain": [
       "'p'"
      ]
     },
     "execution_count": 5,
     "metadata": {},
     "output_type": "execute_result"
    }
   ],
   "source": [
    "c[-9]"
   ]
  },
  {
   "cell_type": "code",
   "execution_count": 6,
   "id": "b9ea6ba9-743e-4379-acf5-d59f969ed316",
   "metadata": {},
   "outputs": [],
   "source": [
    "a=[2,3,4,5,6,7,8,'parikshit',True,4+7j,57,'jaat']"
   ]
  },
  {
   "cell_type": "code",
   "execution_count": 7,
   "id": "c41852e8-2372-4d50-b4e7-aafd7be2ef22",
   "metadata": {},
   "outputs": [
    {
     "data": {
      "text/plain": [
       "list"
      ]
     },
     "execution_count": 7,
     "metadata": {},
     "output_type": "execute_result"
    }
   ],
   "source": [
    "type(a)"
   ]
  },
  {
   "cell_type": "code",
   "execution_count": 8,
   "id": "b7c3087c-8bfa-4ee8-8842-6c2134fdfdaf",
   "metadata": {},
   "outputs": [
    {
     "data": {
      "text/plain": [
       "3"
      ]
     },
     "execution_count": 8,
     "metadata": {},
     "output_type": "execute_result"
    }
   ],
   "source": [
    "a[1]"
   ]
  },
  {
   "cell_type": "code",
   "execution_count": 9,
   "id": "cf42cd61-4b50-4c2c-87a5-9836613f8b3f",
   "metadata": {},
   "outputs": [
    {
     "data": {
      "text/plain": [
       "'parikshit'"
      ]
     },
     "execution_count": 9,
     "metadata": {},
     "output_type": "execute_result"
    }
   ],
   "source": [
    "a[7]"
   ]
  },
  {
   "cell_type": "code",
   "execution_count": 10,
   "id": "bd4f3de3-9093-4518-8fd8-8316e0addaea",
   "metadata": {},
   "outputs": [
    {
     "data": {
      "text/plain": [
       "True"
      ]
     },
     "execution_count": 10,
     "metadata": {},
     "output_type": "execute_result"
    }
   ],
   "source": [
    "a[-4]"
   ]
  },
  {
   "cell_type": "code",
   "execution_count": 11,
   "id": "86626f4e-6bd7-461c-8319-ae92ef7f38d5",
   "metadata": {},
   "outputs": [
    {
     "data": {
      "text/plain": [
       "'parikshit'"
      ]
     },
     "execution_count": 11,
     "metadata": {},
     "output_type": "execute_result"
    }
   ],
   "source": [
    "c"
   ]
  },
  {
   "cell_type": "code",
   "execution_count": 12,
   "id": "54ef406e-d7ba-42b8-8d25-85b5b2b50dd0",
   "metadata": {},
   "outputs": [
    {
     "data": {
      "text/plain": [
       "[2, 3, 4, 5, 6, 7, 8, 'parikshit', True, (4+7j), 57, 'jaat']"
      ]
     },
     "execution_count": 12,
     "metadata": {},
     "output_type": "execute_result"
    }
   ],
   "source": [
    "a"
   ]
  },
  {
   "cell_type": "code",
   "execution_count": 13,
   "id": "1b07d5fb-d854-4c66-bce5-08f762b16aeb",
   "metadata": {},
   "outputs": [
    {
     "data": {
      "text/plain": [
       "7"
      ]
     },
     "execution_count": 13,
     "metadata": {},
     "output_type": "execute_result"
    }
   ],
   "source": [
    "a[5]"
   ]
  },
  {
   "cell_type": "code",
   "execution_count": 14,
   "id": "cd2e7d1f-07db-49e2-a748-c5380b73454e",
   "metadata": {},
   "outputs": [],
   "source": [
    "a[5]=100"
   ]
  },
  {
   "cell_type": "code",
   "execution_count": 15,
   "id": "6eb404e3-8ea4-4d0a-82ad-2c1eec83a19f",
   "metadata": {},
   "outputs": [
    {
     "data": {
      "text/plain": [
       "[2, 3, 4, 5, 6, 100, 8, 'parikshit', True, (4+7j), 57, 'jaat']"
      ]
     },
     "execution_count": 15,
     "metadata": {},
     "output_type": "execute_result"
    }
   ],
   "source": [
    "a"
   ]
  },
  {
   "cell_type": "code",
   "execution_count": 16,
   "id": "7ff3ac49-88f7-40d3-aa31-2db3b263f952",
   "metadata": {},
   "outputs": [
    {
     "data": {
      "text/plain": [
       "'parikshit'"
      ]
     },
     "execution_count": 16,
     "metadata": {},
     "output_type": "execute_result"
    }
   ],
   "source": [
    "c"
   ]
  },
  {
   "cell_type": "code",
   "execution_count": 17,
   "id": "4cdc7dc4-8b05-412b-b8b9-68ad56570c11",
   "metadata": {},
   "outputs": [
    {
     "data": {
      "text/plain": [
       "'r'"
      ]
     },
     "execution_count": 17,
     "metadata": {},
     "output_type": "execute_result"
    }
   ],
   "source": [
    "c[2]"
   ]
  },
  {
   "cell_type": "code",
   "execution_count": 1,
   "id": "0f294d50-4ea0-4ff0-9d3c-aba76fd1c664",
   "metadata": {},
   "outputs": [
    {
     "data": {
      "text/plain": [
       "3"
      ]
     },
     "execution_count": 1,
     "metadata": {},
     "output_type": "execute_result"
    }
   ],
   "source": [
    "1+2"
   ]
  },
  {
   "cell_type": "code",
   "execution_count": 2,
   "id": "ad39034a-d659-45f1-bc6e-5b5da64c0a63",
   "metadata": {},
   "outputs": [],
   "source": [
    "c = \"parikshit\""
   ]
  },
  {
   "cell_type": "code",
   "execution_count": 3,
   "id": "6ab8b0b8-7464-472a-b624-815c37570eb9",
   "metadata": {},
   "outputs": [
    {
     "data": {
      "text/plain": [
       "'parikshit'"
      ]
     },
     "execution_count": 3,
     "metadata": {},
     "output_type": "execute_result"
    }
   ],
   "source": [
    "c"
   ]
  },
  {
   "cell_type": "code",
   "execution_count": 4,
   "id": "ca49a1d0-55ae-4443-8a01-1b6de215edb3",
   "metadata": {},
   "outputs": [
    {
     "data": {
      "text/plain": [
       "'i'"
      ]
     },
     "execution_count": 4,
     "metadata": {},
     "output_type": "execute_result"
    }
   ],
   "source": [
    "c[3]"
   ]
  },
  {
   "cell_type": "code",
   "execution_count": 5,
   "id": "7827172f-f5bb-46a2-a451-013ca67997ad",
   "metadata": {},
   "outputs": [
    {
     "ename": "TypeError",
     "evalue": "'str' object does not support item assignment",
     "output_type": "error",
     "traceback": [
      "\u001b[0;31m---------------------------------------------------------------------------\u001b[0m",
      "\u001b[0;31mTypeError\u001b[0m                                 Traceback (most recent call last)",
      "Cell \u001b[0;32mIn[5], line 1\u001b[0m\n\u001b[0;32m----> 1\u001b[0m \u001b[43mc\u001b[49m\u001b[43m[\u001b[49m\u001b[38;5;241;43m3\u001b[39;49m\u001b[43m]\u001b[49m\u001b[38;5;241m=\u001b[39m\u001b[38;5;124m'\u001b[39m\u001b[38;5;124ms\u001b[39m\u001b[38;5;124m'\u001b[39m\n",
      "\u001b[0;31mTypeError\u001b[0m: 'str' object does not support item assignment"
     ]
    }
   ],
   "source": [
    "c[3]='s'"
   ]
  },
  {
   "cell_type": "code",
   "execution_count": null,
   "id": "d21991f8-d580-473d-aa14-167699330fe9",
   "metadata": {},
   "outputs": [],
   "source": []
  }
 ],
 "metadata": {
  "kernelspec": {
   "display_name": "Python 3 (ipykernel)",
   "language": "python",
   "name": "python3"
  },
  "language_info": {
   "codemirror_mode": {
    "name": "ipython",
    "version": 3
   },
   "file_extension": ".py",
   "mimetype": "text/x-python",
   "name": "python",
   "nbconvert_exporter": "python",
   "pygments_lexer": "ipython3",
   "version": "3.10.8"
  }
 },
 "nbformat": 4,
 "nbformat_minor": 5
}

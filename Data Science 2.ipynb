{
 "cells": [
  {
   "cell_type": "code",
   "execution_count": 1,
   "id": "8f42ca1f-81df-498d-b93d-5222a9d38cbf",
   "metadata": {},
   "outputs": [],
   "source": [
    "#arithmetic operators"
   ]
  },
  {
   "cell_type": "code",
   "execution_count": 2,
   "id": "38fbd375-2503-4302-ae71-bac0bc6dbef3",
   "metadata": {},
   "outputs": [
    {
     "data": {
      "text/plain": [
       "3"
      ]
     },
     "execution_count": 2,
     "metadata": {},
     "output_type": "execute_result"
    }
   ],
   "source": [
    "1+2"
   ]
  },
  {
   "cell_type": "code",
   "execution_count": 3,
   "id": "6332070c-4b98-4309-bc05-e98324bd6223",
   "metadata": {},
   "outputs": [
    {
     "data": {
      "text/plain": [
       "368"
      ]
     },
     "execution_count": 3,
     "metadata": {},
     "output_type": "execute_result"
    }
   ],
   "source": [
    "23+345"
   ]
  },
  {
   "cell_type": "code",
   "execution_count": 5,
   "id": "7c61a496-288d-45b4-8b4b-ac9d4c0ad3d8",
   "metadata": {},
   "outputs": [
    {
     "data": {
      "text/plain": [
       "178"
      ]
     },
     "execution_count": 5,
     "metadata": {},
     "output_type": "execute_result"
    }
   ],
   "source": [
    "234-56"
   ]
  },
  {
   "cell_type": "code",
   "execution_count": 6,
   "id": "2d12df24-b14e-413a-8555-d62447694fee",
   "metadata": {},
   "outputs": [
    {
     "data": {
      "text/plain": [
       "-986778"
      ]
     },
     "execution_count": 6,
     "metadata": {},
     "output_type": "execute_result"
    }
   ],
   "source": [
    "876-987654"
   ]
  },
  {
   "cell_type": "code",
   "execution_count": 7,
   "id": "562759d3-fec1-4d97-99f6-dd870efb76ab",
   "metadata": {},
   "outputs": [
    {
     "data": {
      "text/plain": [
       "258552"
      ]
     },
     "execution_count": 7,
     "metadata": {},
     "output_type": "execute_result"
    }
   ],
   "source": [
    "456*567"
   ]
  },
  {
   "cell_type": "code",
   "execution_count": 8,
   "id": "d4f69094-14bc-4170-99d0-1b140cc79ee5",
   "metadata": {},
   "outputs": [
    {
     "data": {
      "text/plain": [
       "6.095238095238095"
      ]
     },
     "execution_count": 8,
     "metadata": {},
     "output_type": "execute_result"
    }
   ],
   "source": [
    "3456/567"
   ]
  },
  {
   "cell_type": "code",
   "execution_count": 9,
   "id": "eeb8f437-e1ae-40d5-acdf-d841f73b66b9",
   "metadata": {},
   "outputs": [
    {
     "data": {
      "text/plain": [
       "1"
      ]
     },
     "execution_count": 9,
     "metadata": {},
     "output_type": "execute_result"
    }
   ],
   "source": [
    "10%9\n",
    "#reminder operator"
   ]
  },
  {
   "cell_type": "code",
   "execution_count": 10,
   "id": "00905686-0f70-4e2a-936e-6102cbd9e466",
   "metadata": {},
   "outputs": [
    {
     "data": {
      "text/plain": [
       "16"
      ]
     },
     "execution_count": 10,
     "metadata": {},
     "output_type": "execute_result"
    }
   ],
   "source": [
    "2**4\n",
    "#power operator"
   ]
  },
  {
   "cell_type": "code",
   "execution_count": 11,
   "id": "0a3912c1-4317-4e3e-84ae-5f05ca3a162d",
   "metadata": {},
   "outputs": [
    {
     "data": {
      "text/plain": [
       "1"
      ]
     },
     "execution_count": 11,
     "metadata": {},
     "output_type": "execute_result"
    }
   ],
   "source": [
    "10//9\n",
    "#division floor"
   ]
  },
  {
   "cell_type": "code",
   "execution_count": 12,
   "id": "e439358d-8f52-4ae0-b523-b9280a477500",
   "metadata": {},
   "outputs": [
    {
     "data": {
      "text/plain": [
       "4"
      ]
     },
     "execution_count": 12,
     "metadata": {},
     "output_type": "execute_result"
    }
   ],
   "source": [
    "20//5"
   ]
  },
  {
   "cell_type": "code",
   "execution_count": 13,
   "id": "f3360bc7-8d90-42a9-9ce1-fb143be44fac",
   "metadata": {},
   "outputs": [
    {
     "data": {
      "text/plain": [
       "4.0"
      ]
     },
     "execution_count": 13,
     "metadata": {},
     "output_type": "execute_result"
    }
   ],
   "source": [
    "20/5"
   ]
  },
  {
   "cell_type": "code",
   "execution_count": null,
   "id": "5db69ed6-5508-4147-b169-17c8ae18af14",
   "metadata": {},
   "outputs": [],
   "source": []
  },
  {
   "cell_type": "code",
   "execution_count": 15,
   "id": "0f63fcf3-3e33-413e-9b76-77f03e1bc516",
   "metadata": {},
   "outputs": [],
   "source": [
    "#comparison operators "
   ]
  },
  {
   "cell_type": "code",
   "execution_count": 16,
   "id": "d94beb69-bda7-4bd4-978b-dd6743f81121",
   "metadata": {},
   "outputs": [
    {
     "data": {
      "text/plain": [
       "False"
      ]
     },
     "execution_count": 16,
     "metadata": {},
     "output_type": "execute_result"
    }
   ],
   "source": [
    "1>2"
   ]
  },
  {
   "cell_type": "code",
   "execution_count": 17,
   "id": "4706206c-49a1-45fa-958e-47caa9f97516",
   "metadata": {},
   "outputs": [
    {
     "data": {
      "text/plain": [
       "True"
      ]
     },
     "execution_count": 17,
     "metadata": {},
     "output_type": "execute_result"
    }
   ],
   "source": [
    "2>1"
   ]
  },
  {
   "cell_type": "code",
   "execution_count": 18,
   "id": "44a302d4-a820-473a-a4d9-9f1666de0153",
   "metadata": {},
   "outputs": [
    {
     "ename": "SyntaxError",
     "evalue": "cannot assign to literal here. Maybe you meant '==' instead of '='? (3293032332.py, line 1)",
     "output_type": "error",
     "traceback": [
      "\u001b[0;36m  Cell \u001b[0;32mIn[18], line 1\u001b[0;36m\u001b[0m\n\u001b[0;31m    1=2\u001b[0m\n\u001b[0m    ^\u001b[0m\n\u001b[0;31mSyntaxError\u001b[0m\u001b[0;31m:\u001b[0m cannot assign to literal here. Maybe you meant '==' instead of '='?\n"
     ]
    }
   ],
   "source": [
    "1=2"
   ]
  },
  {
   "cell_type": "code",
   "execution_count": 19,
   "id": "06c77a7d-aafb-4602-a5c4-ff6e6385a213",
   "metadata": {},
   "outputs": [
    {
     "data": {
      "text/plain": [
       "False"
      ]
     },
     "execution_count": 19,
     "metadata": {},
     "output_type": "execute_result"
    }
   ],
   "source": [
    "1==2"
   ]
  },
  {
   "cell_type": "code",
   "execution_count": 20,
   "id": "35f865c3-a63b-4947-9e59-5a6169965ada",
   "metadata": {},
   "outputs": [
    {
     "data": {
      "text/plain": [
       "True"
      ]
     },
     "execution_count": 20,
     "metadata": {},
     "output_type": "execute_result"
    }
   ],
   "source": [
    "2==2"
   ]
  },
  {
   "cell_type": "code",
   "execution_count": 21,
   "id": "671b4692-90f7-4623-872c-8e3716305192",
   "metadata": {},
   "outputs": [
    {
     "data": {
      "text/plain": [
       "False"
      ]
     },
     "execution_count": 21,
     "metadata": {},
     "output_type": "execute_result"
    }
   ],
   "source": [
    "1>=2"
   ]
  },
  {
   "cell_type": "code",
   "execution_count": 22,
   "id": "2c168849-14fc-445c-a7bc-56b778584f82",
   "metadata": {},
   "outputs": [
    {
     "data": {
      "text/plain": [
       "True"
      ]
     },
     "execution_count": 22,
     "metadata": {},
     "output_type": "execute_result"
    }
   ],
   "source": [
    "2>=1"
   ]
  },
  {
   "cell_type": "code",
   "execution_count": 23,
   "id": "5d5d67f2-3d9a-423f-b3bf-082c18d5b49b",
   "metadata": {},
   "outputs": [
    {
     "data": {
      "text/plain": [
       "False"
      ]
     },
     "execution_count": 23,
     "metadata": {},
     "output_type": "execute_result"
    }
   ],
   "source": [
    "2>=3"
   ]
  },
  {
   "cell_type": "code",
   "execution_count": 24,
   "id": "3a59b871-7167-4560-ade9-2b92be0b4899",
   "metadata": {},
   "outputs": [],
   "source": [
    "#assignment operator \"=\"\n",
    "#comparing \"==\""
   ]
  },
  {
   "cell_type": "code",
   "execution_count": 25,
   "id": "d2b27abb-35eb-4514-a545-926fd70c94b1",
   "metadata": {},
   "outputs": [
    {
     "data": {
      "text/plain": [
       "False"
      ]
     },
     "execution_count": 25,
     "metadata": {},
     "output_type": "execute_result"
    }
   ],
   "source": [
    "1!=1"
   ]
  },
  {
   "cell_type": "code",
   "execution_count": 26,
   "id": "385a439c-32e4-4617-9c31-33ba991642ca",
   "metadata": {},
   "outputs": [
    {
     "data": {
      "text/plain": [
       "True"
      ]
     },
     "execution_count": 26,
     "metadata": {},
     "output_type": "execute_result"
    }
   ],
   "source": [
    "2!=1\n",
    "#not equal to"
   ]
  },
  {
   "cell_type": "code",
   "execution_count": null,
   "id": "ccc59ad2-236f-423b-a7c2-67c1e0c6b0ac",
   "metadata": {},
   "outputs": [],
   "source": []
  },
  {
   "cell_type": "code",
   "execution_count": 27,
   "id": "cee10f43-c64a-4e95-9091-3484acfdde02",
   "metadata": {},
   "outputs": [],
   "source": [
    "#logical operators"
   ]
  },
  {
   "cell_type": "code",
   "execution_count": 28,
   "id": "f487b98a-2ef0-4d14-a75e-26c3ca309397",
   "metadata": {},
   "outputs": [
    {
     "data": {
      "text/plain": [
       "False"
      ]
     },
     "execution_count": 28,
     "metadata": {},
     "output_type": "execute_result"
    }
   ],
   "source": [
    "True and False"
   ]
  },
  {
   "cell_type": "code",
   "execution_count": 29,
   "id": "f0b9d274-7aab-480b-bb2b-44bfdb0bea9e",
   "metadata": {},
   "outputs": [
    {
     "data": {
      "text/plain": [
       "False"
      ]
     },
     "execution_count": 29,
     "metadata": {},
     "output_type": "execute_result"
    }
   ],
   "source": [
    "False and True"
   ]
  },
  {
   "cell_type": "code",
   "execution_count": 30,
   "id": "f9ac3049-ee89-4b4e-b73a-256dab4c3875",
   "metadata": {},
   "outputs": [
    {
     "data": {
      "text/plain": [
       "True"
      ]
     },
     "execution_count": 30,
     "metadata": {},
     "output_type": "execute_result"
    }
   ],
   "source": [
    "True or True"
   ]
  },
  {
   "cell_type": "code",
   "execution_count": 31,
   "id": "2bff5c53-29eb-45fd-a458-772bcfff1195",
   "metadata": {},
   "outputs": [
    {
     "data": {
      "text/plain": [
       "1"
      ]
     },
     "execution_count": 31,
     "metadata": {},
     "output_type": "execute_result"
    }
   ],
   "source": [
    "1 or 1"
   ]
  },
  {
   "cell_type": "code",
   "execution_count": 32,
   "id": "c09a1637-1dbb-4d5c-afee-5749991e9041",
   "metadata": {},
   "outputs": [
    {
     "data": {
      "text/plain": [
       "False"
      ]
     },
     "execution_count": 32,
     "metadata": {},
     "output_type": "execute_result"
    }
   ],
   "source": [
    "not True"
   ]
  },
  {
   "cell_type": "code",
   "execution_count": 33,
   "id": "4a6c56c0-3db1-4867-a261-5ca36b7f121b",
   "metadata": {},
   "outputs": [
    {
     "data": {
      "text/plain": [
       "True"
      ]
     },
     "execution_count": 33,
     "metadata": {},
     "output_type": "execute_result"
    }
   ],
   "source": [
    "not 0"
   ]
  },
  {
   "cell_type": "raw",
   "id": "a14b641e-c055-4d1c-816a-13d9f4b81b5f",
   "metadata": {},
   "source": [
    "AND CASE\n",
    "\n",
    "True + True = True                  1 1 1\n",
    "True + False = False                1 0 0 \n",
    "False + True = False                0 1 0\n",
    "False + False = False               0 0 0"
   ]
  },
  {
   "cell_type": "raw",
   "id": "7c462be8-0ea1-466d-9236-9e5c74500839",
   "metadata": {},
   "source": [
    "OR CASE\n",
    "\n",
    "True + True = True                  1 1 1\n",
    "True + False = True                 1 0 1 \n",
    "False + True = True                 0 1 1\n",
    "False + False = False               0 0 0"
   ]
  },
  {
   "cell_type": "raw",
   "id": "9b169438-bef8-47c1-bfca-f2573a03703a",
   "metadata": {},
   "source": [
    "NOT CASE \n",
    "\n",
    "True = False                        1 0\n",
    "False = True                        0 1"
   ]
  },
  {
   "cell_type": "code",
   "execution_count": 34,
   "id": "ad5d6ab5-1872-4dfd-99f0-1386c555ec63",
   "metadata": {},
   "outputs": [],
   "source": [
    "#bitwise operators"
   ]
  },
  {
   "cell_type": "code",
   "execution_count": 35,
   "id": "104388cb-6eaa-49f6-b6d5-29b69209d676",
   "metadata": {},
   "outputs": [
    {
     "data": {
      "text/plain": [
       "10"
      ]
     },
     "execution_count": 35,
     "metadata": {},
     "output_type": "execute_result"
    }
   ],
   "source": [
    "10&10"
   ]
  },
  {
   "cell_type": "code",
   "execution_count": 37,
   "id": "582db16f-c03c-4d73-8ca8-c8a64f29e483",
   "metadata": {},
   "outputs": [
    {
     "data": {
      "text/plain": [
       "'0b1010'"
      ]
     },
     "execution_count": 37,
     "metadata": {},
     "output_type": "execute_result"
    }
   ],
   "source": [
    "bin(10)"
   ]
  },
  {
   "cell_type": "code",
   "execution_count": 38,
   "id": "c9546938-7165-4ae7-924d-1cd5eacc5147",
   "metadata": {},
   "outputs": [
    {
     "data": {
      "text/plain": [
       "'0b1010'"
      ]
     },
     "execution_count": 38,
     "metadata": {},
     "output_type": "execute_result"
    }
   ],
   "source": [
    "bin(10)"
   ]
  },
  {
   "cell_type": "raw",
   "id": "22bd18a8-2c02-4c82-8e77-4fbed2242981",
   "metadata": {},
   "source": [
    "#0b is a notation or preffix \n",
    "\n",
    "1  1   1\n",
    "0  0   0\n",
    "1  1   1\n",
    "0  0   0\n",
    "using operation AND we get 1010 thats exactly 10 so 10&10 = 10 , similarly rest of operations \n"
   ]
  },
  {
   "cell_type": "code",
   "execution_count": 39,
   "id": "4c6d974d-341d-42af-ab66-b003f211c50f",
   "metadata": {},
   "outputs": [
    {
     "data": {
      "text/plain": [
       "5"
      ]
     },
     "execution_count": 39,
     "metadata": {},
     "output_type": "execute_result"
    }
   ],
   "source": [
    "23&5"
   ]
  },
  {
   "cell_type": "code",
   "execution_count": 40,
   "id": "fbc2ec6b-84cd-4b0b-8ac8-e7e4fae87776",
   "metadata": {},
   "outputs": [
    {
     "data": {
      "text/plain": [
       "'0b10111'"
      ]
     },
     "execution_count": 40,
     "metadata": {},
     "output_type": "execute_result"
    }
   ],
   "source": [
    "bin(23)"
   ]
  },
  {
   "cell_type": "code",
   "execution_count": 41,
   "id": "54af2879-cbd7-4224-af00-070a5a8a6a0d",
   "metadata": {},
   "outputs": [
    {
     "data": {
      "text/plain": [
       "'0b101'"
      ]
     },
     "execution_count": 41,
     "metadata": {},
     "output_type": "execute_result"
    }
   ],
   "source": [
    "bin(5)"
   ]
  },
  {
   "cell_type": "raw",
   "id": "6e19fc4d-77a4-448c-82b1-ad662ca20a99",
   "metadata": {},
   "source": [
    "1  0   0\n",
    "0  0   0\n",
    "1  1   1\n",
    "1  0   0\n",
    "1  1   1\n",
    "using operation we get 00101 which is 101 , = 5"
   ]
  },
  {
   "cell_type": "code",
   "execution_count": 42,
   "id": "9ce87824-9770-47fc-b310-45415fa507da",
   "metadata": {},
   "outputs": [
    {
     "data": {
      "text/plain": [
       "0"
      ]
     },
     "execution_count": 42,
     "metadata": {},
     "output_type": "execute_result"
    }
   ],
   "source": [
    "24&5"
   ]
  },
  {
   "cell_type": "code",
   "execution_count": 43,
   "id": "1e0a30ee-2b8d-489c-840f-a1388498d387",
   "metadata": {},
   "outputs": [
    {
     "data": {
      "text/plain": [
       "'0b11000'"
      ]
     },
     "execution_count": 43,
     "metadata": {},
     "output_type": "execute_result"
    }
   ],
   "source": [
    "bin(24)"
   ]
  },
  {
   "cell_type": "code",
   "execution_count": 44,
   "id": "06d26f38-b204-486d-b548-23e5d6003112",
   "metadata": {},
   "outputs": [
    {
     "data": {
      "text/plain": [
       "'0b101'"
      ]
     },
     "execution_count": 44,
     "metadata": {},
     "output_type": "execute_result"
    }
   ],
   "source": [
    "bin(5)"
   ]
  },
  {
   "cell_type": "code",
   "execution_count": 45,
   "id": "1a9ddff8-3561-4634-bfab-6c8812636c30",
   "metadata": {},
   "outputs": [
    {
     "data": {
      "text/plain": [
       "55"
      ]
     },
     "execution_count": 45,
     "metadata": {},
     "output_type": "execute_result"
    }
   ],
   "source": [
    "34|23"
   ]
  },
  {
   "cell_type": "code",
   "execution_count": 46,
   "id": "ed80d43b-98fd-4a8b-ad52-488fe3f755e1",
   "metadata": {},
   "outputs": [
    {
     "data": {
      "text/plain": [
       "'0b100010'"
      ]
     },
     "execution_count": 46,
     "metadata": {},
     "output_type": "execute_result"
    }
   ],
   "source": [
    "bin(34)"
   ]
  },
  {
   "cell_type": "code",
   "execution_count": 47,
   "id": "d440858c-8b66-4741-bef8-82770fb1de6d",
   "metadata": {},
   "outputs": [
    {
     "data": {
      "text/plain": [
       "'0b10111'"
      ]
     },
     "execution_count": 47,
     "metadata": {},
     "output_type": "execute_result"
    }
   ],
   "source": [
    "bin(23)"
   ]
  },
  {
   "cell_type": "code",
   "execution_count": 48,
   "id": "0c2b71b2-bdf0-4f82-9cd0-686e40932714",
   "metadata": {},
   "outputs": [
    {
     "data": {
      "text/plain": [
       "'0b110111'"
      ]
     },
     "execution_count": 48,
     "metadata": {},
     "output_type": "execute_result"
    }
   ],
   "source": [
    "bin(55)"
   ]
  },
  {
   "cell_type": "raw",
   "id": "028f695f-6357-43e5-a91f-9ea53beb67ce",
   "metadata": {},
   "source": [
    "| is a OR operator or pipe opeartor \n",
    " \n",
    "34|23 = 55\n",
    "\n",
    "1  0  1\n",
    "0  1  1\n",
    "0  0  0\n",
    "0  1  1\n",
    "1  1  1\n",
    "0  1  1\n",
    "\n",
    "OR operaotr gives u answer 110111 which is same as bin(55)"
   ]
  },
  {
   "cell_type": "code",
   "execution_count": 51,
   "id": "0f0b5d1c-5152-470b-8c9d-c638159f3fa8",
   "metadata": {},
   "outputs": [
    {
     "data": {
      "text/plain": [
       "-35"
      ]
     },
     "execution_count": 51,
     "metadata": {},
     "output_type": "execute_result"
    }
   ],
   "source": [
    "~34"
   ]
  },
  {
   "cell_type": "code",
   "execution_count": 52,
   "id": "7d7c501c-8511-4d6e-8d7f-b98fdbd9b455",
   "metadata": {},
   "outputs": [
    {
     "data": {
      "text/plain": [
       "'0b100010'"
      ]
     },
     "execution_count": 52,
     "metadata": {},
     "output_type": "execute_result"
    }
   ],
   "source": [
    "bin(34)"
   ]
  },
  {
   "cell_type": "code",
   "execution_count": 53,
   "id": "74d88dfd-66b4-4953-b172-f4e3d260b506",
   "metadata": {},
   "outputs": [
    {
     "data": {
      "text/plain": [
       "'0b100011'"
      ]
     },
     "execution_count": 53,
     "metadata": {},
     "output_type": "execute_result"
    }
   ],
   "source": [
    "bin(35)"
   ]
  },
  {
   "cell_type": "raw",
   "id": "0ca9073e-c694-4253-ab74-09a63319717a",
   "metadata": {},
   "source": [
    "~ operation bitwise not operator \n",
    "34 = 100010\n",
    "~34 =  - ( 100010 + 1 )\n",
    "    =  - 100011 = -35\n",
    "    "
   ]
  },
  {
   "cell_type": "code",
   "execution_count": 54,
   "id": "3bfa7ae8-dcb4-4576-9a01-e05c874ab1b3",
   "metadata": {},
   "outputs": [
    {
     "data": {
      "text/plain": [
       "-24"
      ]
     },
     "execution_count": 54,
     "metadata": {},
     "output_type": "execute_result"
    }
   ],
   "source": [
    "~23"
   ]
  },
  {
   "cell_type": "code",
   "execution_count": 55,
   "id": "fb2bd4f2-c029-472d-9887-b2268bd5c9a4",
   "metadata": {},
   "outputs": [
    {
     "data": {
      "text/plain": [
       "-100"
      ]
     },
     "execution_count": 55,
     "metadata": {},
     "output_type": "execute_result"
    }
   ],
   "source": [
    "~99"
   ]
  },
  {
   "cell_type": "raw",
   "id": "f4224ab2-44dc-4697-884c-5de69ba0fc56",
   "metadata": {},
   "source": [
    "~ something plus one no. and that too minus -"
   ]
  },
  {
   "cell_type": "code",
   "execution_count": 56,
   "id": "4932544c-c232-45de-a7dc-8384c64ab43c",
   "metadata": {},
   "outputs": [
    {
     "data": {
      "text/plain": [
       "-14590"
      ]
     },
     "execution_count": 56,
     "metadata": {},
     "output_type": "execute_result"
    }
   ],
   "source": [
    "~14589"
   ]
  },
  {
   "cell_type": "code",
   "execution_count": 57,
   "id": "42b0636e-8132-4d92-b9aa-4876ad380c62",
   "metadata": {},
   "outputs": [],
   "source": [
    "# right shift opearator "
   ]
  },
  {
   "cell_type": "code",
   "execution_count": 58,
   "id": "27ab88fa-505f-47ac-b211-74b07e16a83a",
   "metadata": {},
   "outputs": [
    {
     "data": {
      "text/plain": [
       "8"
      ]
     },
     "execution_count": 58,
     "metadata": {},
     "output_type": "execute_result"
    }
   ],
   "source": [
    "34>>2"
   ]
  },
  {
   "cell_type": "code",
   "execution_count": 59,
   "id": "7c3f0be3-1957-4b23-98d9-18c99c0d5d09",
   "metadata": {},
   "outputs": [
    {
     "data": {
      "text/plain": [
       "'0b100010'"
      ]
     },
     "execution_count": 59,
     "metadata": {},
     "output_type": "execute_result"
    }
   ],
   "source": [
    "bin(34)"
   ]
  },
  {
   "cell_type": "code",
   "execution_count": 60,
   "id": "396d3571-c1ae-42e4-8044-c51583052640",
   "metadata": {},
   "outputs": [
    {
     "data": {
      "text/plain": [
       "'0b1000'"
      ]
     },
     "execution_count": 60,
     "metadata": {},
     "output_type": "execute_result"
    }
   ],
   "source": [
    "bin(8)"
   ]
  },
  {
   "cell_type": "raw",
   "id": "22eab282-fd98-45ea-9dec-e490656eb3a9",
   "metadata": {},
   "source": [
    "right shift opeartor >>>>>>> aage ja rhe hai shifting in right hand side\n",
    "34>>2 means 2 digit shift krdi right side me hmne \n",
    "100010 last 2 digits shift krdi gayab krdi we get 1000\n",
    "and 1000 is bin(8)\n",
    "so answer is 8"
   ]
  },
  {
   "cell_type": "code",
   "execution_count": 61,
   "id": "85c8b640-3de7-465d-bbeb-2ba31d69c342",
   "metadata": {},
   "outputs": [
    {
     "data": {
      "text/plain": [
       "0"
      ]
     },
     "execution_count": 61,
     "metadata": {},
     "output_type": "execute_result"
    }
   ],
   "source": [
    "45>>7"
   ]
  },
  {
   "cell_type": "code",
   "execution_count": 62,
   "id": "e70278fa-b7f5-4ade-84c0-32d4a0d3e406",
   "metadata": {},
   "outputs": [
    {
     "data": {
      "text/plain": [
       "'0b101101'"
      ]
     },
     "execution_count": 62,
     "metadata": {},
     "output_type": "execute_result"
    }
   ],
   "source": [
    "bin(45)"
   ]
  },
  {
   "cell_type": "code",
   "execution_count": 63,
   "id": "131d60ce-23ce-4dd8-b4e0-979af89c7a5d",
   "metadata": {},
   "outputs": [
    {
     "data": {
      "text/plain": [
       "'0b0'"
      ]
     },
     "execution_count": 63,
     "metadata": {},
     "output_type": "execute_result"
    }
   ],
   "source": [
    "bin(0)"
   ]
  },
  {
   "cell_type": "code",
   "execution_count": 64,
   "id": "0ac15e67-9d4c-47a2-a18b-e1323281545f",
   "metadata": {},
   "outputs": [
    {
     "data": {
      "text/plain": [
       "4"
      ]
     },
     "execution_count": 64,
     "metadata": {},
     "output_type": "execute_result"
    }
   ],
   "source": [
    "32>>3"
   ]
  },
  {
   "cell_type": "code",
   "execution_count": 65,
   "id": "2d35ee63-cd1d-4bd7-84b6-6eccefd19cce",
   "metadata": {},
   "outputs": [
    {
     "data": {
      "text/plain": [
       "'0b100000'"
      ]
     },
     "execution_count": 65,
     "metadata": {},
     "output_type": "execute_result"
    }
   ],
   "source": [
    "bin(32)"
   ]
  },
  {
   "cell_type": "code",
   "execution_count": 66,
   "id": "eb5cccfe-1459-4441-b3c8-bad991b10452",
   "metadata": {},
   "outputs": [
    {
     "data": {
      "text/plain": [
       "'0b11'"
      ]
     },
     "execution_count": 66,
     "metadata": {},
     "output_type": "execute_result"
    }
   ],
   "source": [
    "bin(3)\n"
   ]
  },
  {
   "cell_type": "code",
   "execution_count": 67,
   "id": "6247551d-2563-4d3c-9f2f-40e3a6551db4",
   "metadata": {},
   "outputs": [],
   "source": [
    "#similarly left shift operator"
   ]
  },
  {
   "cell_type": "code",
   "execution_count": 68,
   "id": "a4462543-9eb3-4263-9141-a8e4218bdbd1",
   "metadata": {},
   "outputs": [
    {
     "data": {
      "text/plain": [
       "280"
      ]
     },
     "execution_count": 68,
     "metadata": {},
     "output_type": "execute_result"
    }
   ],
   "source": [
    "35<<3"
   ]
  },
  {
   "cell_type": "code",
   "execution_count": 69,
   "id": "88a9e1fa-50cb-4b88-b68c-614ebb4dd441",
   "metadata": {},
   "outputs": [
    {
     "data": {
      "text/plain": [
       "'0b100011'"
      ]
     },
     "execution_count": 69,
     "metadata": {},
     "output_type": "execute_result"
    }
   ],
   "source": [
    "bin(35)"
   ]
  },
  {
   "cell_type": "code",
   "execution_count": 70,
   "id": "c2d0d109-7ef7-480d-b8f8-8e0789de5c2a",
   "metadata": {},
   "outputs": [
    {
     "data": {
      "text/plain": [
       "'0b100011000'"
      ]
     },
     "execution_count": 70,
     "metadata": {},
     "output_type": "execute_result"
    }
   ],
   "source": [
    "bin(280)"
   ]
  },
  {
   "cell_type": "code",
   "execution_count": 71,
   "id": "3b2297f5-34c9-4ae2-9084-d42a44eee9aa",
   "metadata": {},
   "outputs": [],
   "source": [
    "#left side add krdiya zeros 3 br and 1 at end "
   ]
  },
  {
   "cell_type": "code",
   "execution_count": 72,
   "id": "4c7236a8-d8c3-4a11-9a97-48dac9a4ce22",
   "metadata": {},
   "outputs": [
    {
     "data": {
      "text/plain": [
       "180"
      ]
     },
     "execution_count": 72,
     "metadata": {},
     "output_type": "execute_result"
    }
   ],
   "source": [
    "45<<2"
   ]
  },
  {
   "cell_type": "code",
   "execution_count": 89,
   "id": "31defcb4-01a4-4512-9810-e61976401065",
   "metadata": {},
   "outputs": [
    {
     "data": {
      "text/plain": [
       "'0b101101'"
      ]
     },
     "execution_count": 89,
     "metadata": {},
     "output_type": "execute_result"
    }
   ],
   "source": [
    "bin(45)"
   ]
  },
  {
   "cell_type": "code",
   "execution_count": 88,
   "id": "0fd9a388-78c8-4fc9-8734-27bee2129f3e",
   "metadata": {},
   "outputs": [
    {
     "data": {
      "text/plain": [
       "'0b10110100'"
      ]
     },
     "execution_count": 88,
     "metadata": {},
     "output_type": "execute_result"
    }
   ],
   "source": [
    "bin(180)"
   ]
  },
  {
   "cell_type": "code",
   "execution_count": 75,
   "id": "5c6a4bb0-de4f-46b3-9699-ba59140cb342",
   "metadata": {},
   "outputs": [],
   "source": [
    "#assignment operator "
   ]
  },
  {
   "cell_type": "code",
   "execution_count": 76,
   "id": "7e46289f-ed1b-4757-8090-59182d347078",
   "metadata": {},
   "outputs": [],
   "source": [
    "a = 1"
   ]
  },
  {
   "cell_type": "code",
   "execution_count": 77,
   "id": "1601026e-b04e-4a4b-ace9-2c1a80a9dc75",
   "metadata": {},
   "outputs": [
    {
     "data": {
      "text/plain": [
       "1"
      ]
     },
     "execution_count": 77,
     "metadata": {},
     "output_type": "execute_result"
    }
   ],
   "source": [
    "a"
   ]
  },
  {
   "cell_type": "code",
   "execution_count": 78,
   "id": "c5981260-7aeb-47aa-8bda-9e7f4f110122",
   "metadata": {},
   "outputs": [],
   "source": [
    "a = a + 5"
   ]
  },
  {
   "cell_type": "code",
   "execution_count": 79,
   "id": "8e95898a-aaf3-41ab-82a8-7f65fdc5e008",
   "metadata": {},
   "outputs": [
    {
     "data": {
      "text/plain": [
       "6"
      ]
     },
     "execution_count": 79,
     "metadata": {},
     "output_type": "execute_result"
    }
   ],
   "source": [
    "a"
   ]
  },
  {
   "cell_type": "code",
   "execution_count": 80,
   "id": "0c243514-be5b-4d86-a9f6-e4861bc667eb",
   "metadata": {},
   "outputs": [],
   "source": [
    "a +=3"
   ]
  },
  {
   "cell_type": "code",
   "execution_count": 81,
   "id": "1b324a10-56a7-4017-97be-bfdbde6d62cc",
   "metadata": {},
   "outputs": [
    {
     "data": {
      "text/plain": [
       "9"
      ]
     },
     "execution_count": 81,
     "metadata": {},
     "output_type": "execute_result"
    }
   ],
   "source": [
    "a"
   ]
  },
  {
   "cell_type": "code",
   "execution_count": 82,
   "id": "4827523c-7f6e-4a99-9b4d-ea3d321c28b3",
   "metadata": {},
   "outputs": [],
   "source": [
    "b = 5"
   ]
  },
  {
   "cell_type": "code",
   "execution_count": 83,
   "id": "6073c2c6-9f5f-4f00-8835-70686f42d26b",
   "metadata": {},
   "outputs": [
    {
     "data": {
      "text/plain": [
       "5"
      ]
     },
     "execution_count": 83,
     "metadata": {},
     "output_type": "execute_result"
    }
   ],
   "source": [
    "b"
   ]
  },
  {
   "cell_type": "code",
   "execution_count": 84,
   "id": "d26a03c6-afe8-4171-a38b-0cdef28f2827",
   "metadata": {},
   "outputs": [],
   "source": [
    "b = b-1"
   ]
  },
  {
   "cell_type": "code",
   "execution_count": 85,
   "id": "7a8f5423-f7f0-4c09-9ec5-609efd8e14ac",
   "metadata": {},
   "outputs": [
    {
     "data": {
      "text/plain": [
       "4"
      ]
     },
     "execution_count": 85,
     "metadata": {},
     "output_type": "execute_result"
    }
   ],
   "source": [
    "b"
   ]
  },
  {
   "cell_type": "code",
   "execution_count": 86,
   "id": "b2af27fc-361c-466d-beb8-36ed0c957609",
   "metadata": {},
   "outputs": [],
   "source": [
    "b-=2"
   ]
  },
  {
   "cell_type": "code",
   "execution_count": 87,
   "id": "b31f0ea0-418c-457c-880c-fcc005565022",
   "metadata": {},
   "outputs": [
    {
     "data": {
      "text/plain": [
       "2"
      ]
     },
     "execution_count": 87,
     "metadata": {},
     "output_type": "execute_result"
    }
   ],
   "source": [
    "b"
   ]
  },
  {
   "cell_type": "code",
   "execution_count": 90,
   "id": "98e7a371-0444-46c6-bd77-4f442fddf988",
   "metadata": {},
   "outputs": [
    {
     "data": {
      "text/plain": [
       "180"
      ]
     },
     "execution_count": 90,
     "metadata": {},
     "output_type": "execute_result"
    }
   ],
   "source": [
    "45<<2"
   ]
  },
  {
   "cell_type": "code",
   "execution_count": 91,
   "id": "3e50c78c-aa4d-40eb-9ca5-442b1ddf2b5b",
   "metadata": {},
   "outputs": [
    {
     "data": {
      "text/plain": [
       "11"
      ]
     },
     "execution_count": 91,
     "metadata": {},
     "output_type": "execute_result"
    }
   ],
   "source": [
    "45>>2"
   ]
  },
  {
   "cell_type": "code",
   "execution_count": 92,
   "id": "932899fe-db10-4ad7-bbd2-7d58a65846fc",
   "metadata": {},
   "outputs": [
    {
     "data": {
      "text/plain": [
       "'0b101101'"
      ]
     },
     "execution_count": 92,
     "metadata": {},
     "output_type": "execute_result"
    }
   ],
   "source": [
    "bin(45)"
   ]
  },
  {
   "cell_type": "code",
   "execution_count": 93,
   "id": "543d2f8c-bbe3-4dae-98e7-157a0fff4045",
   "metadata": {},
   "outputs": [
    {
     "data": {
      "text/plain": [
       "'0b1011'"
      ]
     },
     "execution_count": 93,
     "metadata": {},
     "output_type": "execute_result"
    }
   ],
   "source": [
    "bin(11)"
   ]
  },
  {
   "cell_type": "code",
   "execution_count": 94,
   "id": "634da699-eaf1-4cc2-9c35-1040ec1e061f",
   "metadata": {},
   "outputs": [
    {
     "data": {
      "text/plain": [
       "'0b10110100'"
      ]
     },
     "execution_count": 94,
     "metadata": {},
     "output_type": "execute_result"
    }
   ],
   "source": [
    "bin(180)"
   ]
  },
  {
   "cell_type": "code",
   "execution_count": null,
   "id": "f71daf90-bd70-484a-ad40-e47f8d737293",
   "metadata": {},
   "outputs": [],
   "source": []
  }
 ],
 "metadata": {
  "kernelspec": {
   "display_name": "Python 3 (ipykernel)",
   "language": "python",
   "name": "python3"
  },
  "language_info": {
   "codemirror_mode": {
    "name": "ipython",
    "version": 3
   },
   "file_extension": ".py",
   "mimetype": "text/x-python",
   "name": "python",
   "nbconvert_exporter": "python",
   "pygments_lexer": "ipython3",
   "version": "3.10.8"
  }
 },
 "nbformat": 4,
 "nbformat_minor": 5
}

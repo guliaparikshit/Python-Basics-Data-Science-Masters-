{
 "cells": [
  {
   "cell_type": "markdown",
   "id": "1fa2eeea-7cfa-4f40-9ada-0510dfcb695c",
   "metadata": {},
   "source": [
    "assignment 02"
   ]
  },
  {
   "cell_type": "code",
   "execution_count": null,
   "id": "e4095cab-5498-4ceb-ae69-9e97b6cb25a7",
   "metadata": {},
   "outputs": [],
   "source": []
  },
  {
   "cell_type": "markdown",
   "id": "805bd3bb-d348-49f8-a9c1-ecf1c5877f2e",
   "metadata": {},
   "source": [
    "Q1. How do you comment code in Python? What are the different types of comments?"
   ]
  },
  {
   "cell_type": "markdown",
   "id": "f5ad0357-1ac7-4bfd-99e1-7271cf4f5d86",
   "metadata": {},
   "source": [
    "for commenting a code in python we use either # or ''' triple quotes \n",
    "There are 2 types of comment in python\n",
    "(1) single line comment\n",
    "(2) multiple line comment\n",
    "\n",
    "\n",
    "single line comment\n",
    "use # in front of the code it will automatically convert it in into comment, for eg see comment 01 named my name is parikshit.\n",
    "\n",
    "multiple line comment\n",
    "use # in front of each single line u use it will convert it into comment or u can use triplle quotes (''') in starting and ending of the code, for eg see comment 02 named my name is parikshit gulia, i am 19 years old."
   ]
  },
  {
   "cell_type": "code",
   "execution_count": 3,
   "id": "a88fd898-6600-4137-85fb-a9d098baf021",
   "metadata": {},
   "outputs": [],
   "source": [
    "#my name is parikshit"
   ]
  },
  {
   "cell_type": "code",
   "execution_count": 7,
   "id": "56fb586b-754e-49c5-bdb0-58da3165bf23",
   "metadata": {},
   "outputs": [],
   "source": [
    "#my name is parikshit gulia.\n",
    "# i am 19 years old."
   ]
  },
  {
   "cell_type": "code",
   "execution_count": 8,
   "id": "141df989-953a-4766-9726-36b1da9e22df",
   "metadata": {},
   "outputs": [
    {
     "data": {
      "text/plain": [
       "'my name is parikshit gulia\\ni am 19 years old'"
      ]
     },
     "execution_count": 8,
     "metadata": {},
     "output_type": "execute_result"
    }
   ],
   "source": [
    "'''my name is parikshit gulia\n",
    "i am 19 years old'''"
   ]
  },
  {
   "cell_type": "code",
   "execution_count": null,
   "id": "af8ad945-b710-412f-9477-eb36aa78ff7d",
   "metadata": {},
   "outputs": [],
   "source": []
  },
  {
   "cell_type": "markdown",
   "id": "24393362-da05-484c-89a8-853f2bdba067",
   "metadata": {},
   "source": [
    "Q2. What are variables in Python? How do you declare and assign values to variables?"
   ]
  },
  {
   "cell_type": "markdown",
   "id": "1533c767-bf1d-4893-bf04-ca00d129f294",
   "metadata": {},
   "source": [
    "variables are defined as soemthing whose value changes bascially whose value can vary hence they are called variables.\n",
    "for declaring a variable u just need to give a value for instance lets declare value 10 to a variable \"a\" as shown below.\n",
    "variables are declared in datasets which have diff types for eg string,character,integer etc..\n",
    "\n",
    "Correct way of declaring a variable:\n",
    "    a = 10\n",
    "    a1 = 10\n",
    "    _a = 22\n",
    "    \n",
    "Incorrect way of declaring a variable:\n",
    "    11 = 10\n",
    "    @ = 23\n",
    "    %a = 34\n",
    "    "
   ]
  },
  {
   "cell_type": "code",
   "execution_count": 10,
   "id": "0be5daba-0b6e-4e14-97e1-490907254566",
   "metadata": {},
   "outputs": [],
   "source": [
    "a = 10"
   ]
  },
  {
   "cell_type": "code",
   "execution_count": 11,
   "id": "2af04249-884a-4c02-a020-825f6591e7d7",
   "metadata": {},
   "outputs": [
    {
     "data": {
      "text/plain": [
       "10"
      ]
     },
     "execution_count": 11,
     "metadata": {},
     "output_type": "execute_result"
    }
   ],
   "source": [
    "a"
   ]
  },
  {
   "cell_type": "code",
   "execution_count": 14,
   "id": "67dd1da5-2cfc-4a8a-8c6f-bbe99ae6ab25",
   "metadata": {},
   "outputs": [
    {
     "ename": "SyntaxError",
     "evalue": "invalid syntax (1407219883.py, line 1)",
     "output_type": "error",
     "traceback": [
      "\u001b[0;36m  Cell \u001b[0;32mIn[14], line 1\u001b[0;36m\u001b[0m\n\u001b[0;31m    @ = 10\u001b[0m\n\u001b[0m      ^\u001b[0m\n\u001b[0;31mSyntaxError\u001b[0m\u001b[0;31m:\u001b[0m invalid syntax\n"
     ]
    }
   ],
   "source": [
    "@ = 10"
   ]
  }
 ],
 "metadata": {
  "kernelspec": {
   "display_name": "Python 3 (ipykernel)",
   "language": "python",
   "name": "python3"
  },
  "language_info": {
   "codemirror_mode": {
    "name": "ipython",
    "version": 3
   },
   "file_extension": ".py",
   "mimetype": "text/x-python",
   "name": "python",
   "nbconvert_exporter": "python",
   "pygments_lexer": "ipython3",
   "version": "3.10.8"
  }
 },
 "nbformat": 4,
 "nbformat_minor": 5
}

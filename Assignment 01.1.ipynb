{
 "cells": [
  {
   "cell_type": "raw",
   "id": "9eb3128b-83aa-49b8-838a-fc953206a851",
   "metadata": {},
   "source": [
    "Using a while loop, verify if the number A is purely divisible by number B and if so then how many\n",
    "times it can be divisible."
   ]
  },
  {
   "cell_type": "code",
   "execution_count": 72,
   "id": "4bdb1fd3-a8b4-4e5d-978d-3f640419d4ac",
   "metadata": {},
   "outputs": [
    {
     "name": "stdin",
     "output_type": "stream",
     "text": [
      "enter the number a 10\n",
      "enter the number b 2\n"
     ]
    },
    {
     "name": "stdout",
     "output_type": "stream",
     "text": [
      "a is purely divisble by b\n"
     ]
    }
   ],
   "source": [
    "a=int(input(\"enter the number a\"))\n",
    "b=int(input(\"enter the number b\"))\n",
    "if a%b==0:\n",
    "    print(\"a is purely divisble by b\")\n",
    "else:\n",
    "    print(\"a is not purely divisble by b\")"
   ]
  },
  {
   "cell_type": "raw",
   "id": "aa105090-5b6c-4a77-8671-fc82cea1cb18",
   "metadata": {},
   "source": [
    "Create a list containing 25 int type data. Using for loop and if-else condition print if the element is\n",
    "divisible by 3 or not."
   ]
  },
  {
   "cell_type": "code",
   "execution_count": 36,
   "id": "a48d5a4e-29fb-4ab4-8994-b4a95b01da3a",
   "metadata": {},
   "outputs": [],
   "source": [
    "z=[1,2,3,4,5,6,7,8,9,10,11,12,13,14,15,16,17,18,19,20,21,22,23,24,25]"
   ]
  },
  {
   "cell_type": "code",
   "execution_count": 69,
   "id": "9e04958f-5324-45ec-a031-01d1e7ea1f58",
   "metadata": {},
   "outputs": [
    {
     "name": "stdout",
     "output_type": "stream",
     "text": [
      "1\n",
      "2\n",
      "3\n",
      "4\n",
      "5\n",
      "6\n",
      "7\n",
      "8\n",
      "9\n",
      "10\n",
      "11\n",
      "12\n",
      "13\n",
      "14\n",
      "15\n",
      "16\n",
      "17\n",
      "18\n",
      "19\n",
      "20\n",
      "21\n",
      "22\n",
      "23\n",
      "24\n",
      "25\n",
      "the number is not divisible by 3\n"
     ]
    }
   ],
   "source": [
    "for i in z:\n",
    "    print(i)\n",
    "if i%3==0:\n",
    "    print(\"the number is divisible by 3\")\n",
    "else:\n",
    "    print(\"the number is not divisible by 3\")"
   ]
  },
  {
   "cell_type": "raw",
   "id": "0d683cf0-485a-4e7f-9156-8b22ae66d524",
   "metadata": {},
   "source": [
    "What do you understand about mutable and immutable data types? Give examples for both showing\n",
    "this property."
   ]
  },
  {
   "cell_type": "raw",
   "id": "2998e623-0803-46a8-90e2-4128b80e1345",
   "metadata": {},
   "source": [
    "mutable data types are basically the type of data types in which we can change something at a particular index. for example list is a mutable data type as shown below we created a list named it 'p'. now we want to change first element from 2 to 1 so we can change at particular index p[0] data available at 1st index is 2 replaced by 1."
   ]
  },
  {
   "cell_type": "code",
   "execution_count": 50,
   "id": "62f3c857-c32a-4389-9bfe-37d0aa1842eb",
   "metadata": {},
   "outputs": [],
   "source": [
    "p=[2,3,45,6,\"parikshit\"]"
   ]
  },
  {
   "cell_type": "code",
   "execution_count": 51,
   "id": "44053a8a-56a6-4aa4-8cc5-696ad9d00654",
   "metadata": {},
   "outputs": [],
   "source": [
    "p[0]=1"
   ]
  },
  {
   "cell_type": "code",
   "execution_count": 52,
   "id": "34629167-e7ad-48eb-a2b0-9dcd03277dcc",
   "metadata": {},
   "outputs": [
    {
     "data": {
      "text/plain": [
       "[1, 3, 45, 6, 'parikshit']"
      ]
     },
     "execution_count": 52,
     "metadata": {},
     "output_type": "execute_result"
    }
   ],
   "source": [
    "p"
   ]
  },
  {
   "cell_type": "raw",
   "id": "10218fb7-a071-4940-8b4c-11ce007a2aa7",
   "metadata": {},
   "source": [
    "whereas immutable data types are basically the type of data types in which we cannot change something at a particular index. for example string is an immutable data type as shown below we created a string named it 's'. now we want to change first element from 's' to 'p' so we cannot change at particular index as string is immutable hence it will give an error."
   ]
  },
  {
   "cell_type": "code",
   "execution_count": 53,
   "id": "ce33d8f7-cf14-417c-a186-f961728d9ad6",
   "metadata": {},
   "outputs": [],
   "source": [
    "s=\"snake\""
   ]
  },
  {
   "cell_type": "code",
   "execution_count": 55,
   "id": "a42eba70-0510-4226-8f96-5acbb52d810c",
   "metadata": {},
   "outputs": [
    {
     "ename": "TypeError",
     "evalue": "'str' object does not support item assignment",
     "output_type": "error",
     "traceback": [
      "\u001b[0;31m---------------------------------------------------------------------------\u001b[0m",
      "\u001b[0;31mTypeError\u001b[0m                                 Traceback (most recent call last)",
      "Cell \u001b[0;32mIn[55], line 1\u001b[0m\n\u001b[0;32m----> 1\u001b[0m \u001b[43ms\u001b[49m\u001b[43m[\u001b[49m\u001b[38;5;241;43m0\u001b[39;49m\u001b[43m]\u001b[49m\u001b[38;5;241m=\u001b[39mp\n",
      "\u001b[0;31mTypeError\u001b[0m: 'str' object does not support item assignment"
     ]
    }
   ],
   "source": [
    "s[0]=p"
   ]
  },
  {
   "cell_type": "code",
   "execution_count": null,
   "id": "fc632df4-23dd-4406-9f0e-ba0a1f43634e",
   "metadata": {},
   "outputs": [],
   "source": []
  }
 ],
 "metadata": {
  "kernelspec": {
   "display_name": "Python 3 (ipykernel)",
   "language": "python",
   "name": "python3"
  },
  "language_info": {
   "codemirror_mode": {
    "name": "ipython",
    "version": 3
   },
   "file_extension": ".py",
   "mimetype": "text/x-python",
   "name": "python",
   "nbconvert_exporter": "python",
   "pygments_lexer": "ipython3",
   "version": "3.10.8"
  }
 },
 "nbformat": 4,
 "nbformat_minor": 5
}

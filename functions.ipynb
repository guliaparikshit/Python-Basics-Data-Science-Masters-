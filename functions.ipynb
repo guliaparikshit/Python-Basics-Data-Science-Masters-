{
 "cells": [
  {
   "cell_type": "code",
   "execution_count": 1,
   "id": "71d30db9-9b17-4bad-9e9f-b08c0765af20",
   "metadata": {},
   "outputs": [
    {
     "data": {
      "text/plain": [
       "3"
      ]
     },
     "execution_count": 1,
     "metadata": {},
     "output_type": "execute_result"
    }
   ],
   "source": [
    "1+2"
   ]
  },
  {
   "cell_type": "code",
   "execution_count": 2,
   "id": "9e1d9110-bdb9-4924-876d-803735aaf42e",
   "metadata": {},
   "outputs": [
    {
     "name": "stdout",
     "output_type": "stream",
     "text": [
      "hello\n"
     ]
    }
   ],
   "source": [
    "print(\"hello\")"
   ]
  },
  {
   "cell_type": "code",
   "execution_count": 3,
   "id": "1274d577-856e-48ad-ae66-5f368ad61005",
   "metadata": {},
   "outputs": [
    {
     "ename": "SyntaxError",
     "evalue": "expected ':' (1201755700.py, line 1)",
     "output_type": "error",
     "traceback": [
      "\u001b[0;36m  Cell \u001b[0;32mIn[3], line 1\u001b[0;36m\u001b[0m\n\u001b[0;31m    def parik()\u001b[0m\n\u001b[0m               ^\u001b[0m\n\u001b[0;31mSyntaxError\u001b[0m\u001b[0;31m:\u001b[0m expected ':'\n"
     ]
    }
   ],
   "source": [
    "def parik()"
   ]
  },
  {
   "cell_type": "code",
   "execution_count": 4,
   "id": "2e527640-bc60-4ee9-b485-80a02a26d312",
   "metadata": {},
   "outputs": [],
   "source": [
    "def parik():\n",
    "    pass"
   ]
  },
  {
   "cell_type": "code",
   "execution_count": 9,
   "id": "31e49762-fdbf-4597-aec5-2e634c9c6a21",
   "metadata": {},
   "outputs": [],
   "source": [
    "parik()"
   ]
  },
  {
   "cell_type": "code",
   "execution_count": 6,
   "id": "3419374f-bd0e-4110-b489-08620e5438d0",
   "metadata": {},
   "outputs": [],
   "source": [
    "def parik1():\n",
    "    print(\"this is my very first function\")"
   ]
  },
  {
   "cell_type": "code",
   "execution_count": 8,
   "id": "ad498e81-4897-4c2a-8728-a74737e917e8",
   "metadata": {},
   "outputs": [
    {
     "name": "stdout",
     "output_type": "stream",
     "text": [
      "this is my very first function\n"
     ]
    }
   ],
   "source": [
    "parik1()"
   ]
  },
  {
   "cell_type": "code",
   "execution_count": 10,
   "id": "49cd5a24-eee5-4a41-ad56-5e9bc6288725",
   "metadata": {},
   "outputs": [
    {
     "name": "stdout",
     "output_type": "stream",
     "text": [
      "this is my very first function\n"
     ]
    },
    {
     "ename": "TypeError",
     "evalue": "unsupported operand type(s) for +: 'NoneType' and 'str'",
     "output_type": "error",
     "traceback": [
      "\u001b[0;31m---------------------------------------------------------------------------\u001b[0m",
      "\u001b[0;31mTypeError\u001b[0m                                 Traceback (most recent call last)",
      "Cell \u001b[0;32mIn[10], line 1\u001b[0m\n\u001b[0;32m----> 1\u001b[0m \u001b[43mparik1\u001b[49m\u001b[43m(\u001b[49m\u001b[43m)\u001b[49m\u001b[43m \u001b[49m\u001b[38;5;241;43m+\u001b[39;49m\u001b[43m \u001b[49m\u001b[38;5;124;43m\"\u001b[39;49m\u001b[38;5;124;43mjaat\u001b[39;49m\u001b[38;5;124;43m\"\u001b[39;49m\n",
      "\u001b[0;31mTypeError\u001b[0m: unsupported operand type(s) for +: 'NoneType' and 'str'"
     ]
    }
   ],
   "source": [
    "parik1() + \"jaat\""
   ]
  },
  {
   "cell_type": "markdown",
   "id": "ee1e0eef-96df-437f-b1ed-4223ebbda825",
   "metadata": {},
   "source": [
    "print always returns none type by default "
   ]
  },
  {
   "cell_type": "code",
   "execution_count": 14,
   "id": "72eceb22-5660-4194-9bf5-1bbaf3b944fb",
   "metadata": {},
   "outputs": [],
   "source": [
    "def parik2():\n",
    "    return \"this is my name \""
   ]
  },
  {
   "cell_type": "code",
   "execution_count": 16,
   "id": "4d2faa99-a8b5-4ce0-ba8e-ce720387265b",
   "metadata": {},
   "outputs": [
    {
     "data": {
      "text/plain": [
       "'this is my name '"
      ]
     },
     "execution_count": 16,
     "metadata": {},
     "output_type": "execute_result"
    }
   ],
   "source": [
    "parik2()"
   ]
  },
  {
   "cell_type": "code",
   "execution_count": 15,
   "id": "f2a409ac-9e40-4049-abb8-ebfdae2aa9ac",
   "metadata": {},
   "outputs": [
    {
     "data": {
      "text/plain": [
       "'this is my name haha'"
      ]
     },
     "execution_count": 15,
     "metadata": {},
     "output_type": "execute_result"
    }
   ],
   "source": [
    "parik2() + \"haha\""
   ]
  },
  {
   "cell_type": "code",
   "execution_count": 17,
   "id": "f858c53c-764f-453b-8a54-03ac37c84898",
   "metadata": {},
   "outputs": [],
   "source": [
    "def parik3():\n",
    "    return 1,2,3,4,6.45,\"jaat\""
   ]
  },
  {
   "cell_type": "code",
   "execution_count": 18,
   "id": "7bc4d36e-ba3b-48e1-9787-3507cbc8e9c7",
   "metadata": {},
   "outputs": [
    {
     "data": {
      "text/plain": [
       "(1, 2, 3, 4, 6.45, 'jaat')"
      ]
     },
     "execution_count": 18,
     "metadata": {},
     "output_type": "execute_result"
    }
   ],
   "source": [
    "parik3()"
   ]
  },
  {
   "cell_type": "code",
   "execution_count": 19,
   "id": "8c17cc12-6ad0-422f-883f-20fc0acc2bc9",
   "metadata": {},
   "outputs": [],
   "source": [
    "a,b,c = 356,9.76,False"
   ]
  },
  {
   "cell_type": "code",
   "execution_count": 20,
   "id": "29249033-cec4-4a7a-a275-fcc546351830",
   "metadata": {},
   "outputs": [
    {
     "data": {
      "text/plain": [
       "356"
      ]
     },
     "execution_count": 20,
     "metadata": {},
     "output_type": "execute_result"
    }
   ],
   "source": [
    "a"
   ]
  },
  {
   "cell_type": "code",
   "execution_count": 21,
   "id": "a5ac391a-5ee4-44d6-acbb-d3e2c71947ca",
   "metadata": {},
   "outputs": [
    {
     "data": {
      "text/plain": [
       "9.76"
      ]
     },
     "execution_count": 21,
     "metadata": {},
     "output_type": "execute_result"
    }
   ],
   "source": [
    "b"
   ]
  },
  {
   "cell_type": "code",
   "execution_count": 22,
   "id": "256554e4-5488-41e0-ae22-2bc65b59d5df",
   "metadata": {},
   "outputs": [
    {
     "data": {
      "text/plain": [
       "False"
      ]
     },
     "execution_count": 22,
     "metadata": {},
     "output_type": "execute_result"
    }
   ],
   "source": [
    "c"
   ]
  },
  {
   "cell_type": "code",
   "execution_count": 24,
   "id": "c9596819-43e0-404b-8fd0-d664b44cfa82",
   "metadata": {},
   "outputs": [
    {
     "data": {
      "text/plain": [
       "(1, 2, 3, 4, 6.45, 'jaat')"
      ]
     },
     "execution_count": 24,
     "metadata": {},
     "output_type": "execute_result"
    }
   ],
   "source": [
    "parik3()"
   ]
  },
  {
   "cell_type": "code",
   "execution_count": 25,
   "id": "e52bb129-9def-49ed-a2ef-85cc315d8f53",
   "metadata": {},
   "outputs": [
    {
     "data": {
      "text/plain": [
       "1"
      ]
     },
     "execution_count": 25,
     "metadata": {},
     "output_type": "execute_result"
    }
   ],
   "source": [
    "parik3()[0]"
   ]
  },
  {
   "cell_type": "code",
   "execution_count": 1,
   "id": "9f47f481-b6b4-4d08-8af8-f2dbeb884bd6",
   "metadata": {},
   "outputs": [
    {
     "ename": "NameError",
     "evalue": "name 'parik3' is not defined",
     "output_type": "error",
     "traceback": [
      "\u001b[0;31m---------------------------------------------------------------------------\u001b[0m",
      "\u001b[0;31mNameError\u001b[0m                                 Traceback (most recent call last)",
      "Cell \u001b[0;32mIn[1], line 1\u001b[0m\n\u001b[0;32m----> 1\u001b[0m \u001b[43mparik3\u001b[49m()\n",
      "\u001b[0;31mNameError\u001b[0m: name 'parik3' is not defined"
     ]
    }
   ],
   "source": [
    "parik3()"
   ]
  },
  {
   "cell_type": "code",
   "execution_count": 2,
   "id": "1f92336a-8d14-451b-ae7e-0b995f8b75d3",
   "metadata": {},
   "outputs": [],
   "source": [
    "def parik3():\n",
    "    return \"myself\""
   ]
  },
  {
   "cell_type": "code",
   "execution_count": 3,
   "id": "6b240993-107c-44df-aa33-4b3594b2de0b",
   "metadata": {},
   "outputs": [
    {
     "data": {
      "text/plain": [
       "'myself'"
      ]
     },
     "execution_count": 3,
     "metadata": {},
     "output_type": "execute_result"
    }
   ],
   "source": [
    "parik3()"
   ]
  },
  {
   "cell_type": "code",
   "execution_count": 4,
   "id": "aaa2f55f-7c97-4b40-87de-63a19d66b8bb",
   "metadata": {},
   "outputs": [],
   "source": [
    "def parik4():\n",
    "    return 1,2,3,4,5"
   ]
  },
  {
   "cell_type": "code",
   "execution_count": 5,
   "id": "068d7601-136a-47df-8226-92aa6cd66130",
   "metadata": {},
   "outputs": [
    {
     "data": {
      "text/plain": [
       "(1, 2, 3, 4, 5)"
      ]
     },
     "execution_count": 5,
     "metadata": {},
     "output_type": "execute_result"
    }
   ],
   "source": [
    "parik4()"
   ]
  },
  {
   "cell_type": "code",
   "execution_count": 6,
   "id": "f0080a90-3bcd-4f7a-86a7-d4ddd2bb8919",
   "metadata": {},
   "outputs": [
    {
     "data": {
      "text/plain": [
       "2"
      ]
     },
     "execution_count": 6,
     "metadata": {},
     "output_type": "execute_result"
    }
   ],
   "source": [
    "parik4()[1]"
   ]
  },
  {
   "cell_type": "code",
   "execution_count": 7,
   "id": "221e728b-a787-4511-87ad-6058ee89434f",
   "metadata": {},
   "outputs": [],
   "source": [
    "a,b,c,d,e = parik4()"
   ]
  },
  {
   "cell_type": "code",
   "execution_count": 8,
   "id": "e4379268-3a53-4958-a635-3e4219759952",
   "metadata": {},
   "outputs": [
    {
     "data": {
      "text/plain": [
       "1"
      ]
     },
     "execution_count": 8,
     "metadata": {},
     "output_type": "execute_result"
    }
   ],
   "source": [
    "a"
   ]
  },
  {
   "cell_type": "code",
   "execution_count": 9,
   "id": "eee23cd0-d689-4237-a502-6dd80d1eecc8",
   "metadata": {},
   "outputs": [
    {
     "data": {
      "text/plain": [
       "2"
      ]
     },
     "execution_count": 9,
     "metadata": {},
     "output_type": "execute_result"
    }
   ],
   "source": [
    "b"
   ]
  },
  {
   "cell_type": "code",
   "execution_count": 10,
   "id": "e1a85273-cae9-41ed-8ba8-712b38e2a95c",
   "metadata": {},
   "outputs": [
    {
     "data": {
      "text/plain": [
       "3"
      ]
     },
     "execution_count": 10,
     "metadata": {},
     "output_type": "execute_result"
    }
   ],
   "source": [
    "c"
   ]
  },
  {
   "cell_type": "code",
   "execution_count": 11,
   "id": "cc30f149-4edc-40f3-836e-062e2acf4912",
   "metadata": {},
   "outputs": [
    {
     "data": {
      "text/plain": [
       "4"
      ]
     },
     "execution_count": 11,
     "metadata": {},
     "output_type": "execute_result"
    }
   ],
   "source": [
    "d"
   ]
  },
  {
   "cell_type": "code",
   "execution_count": 12,
   "id": "12c42f02-c925-439a-8920-af8fc7babc6c",
   "metadata": {},
   "outputs": [
    {
     "data": {
      "text/plain": [
       "5"
      ]
     },
     "execution_count": 12,
     "metadata": {},
     "output_type": "execute_result"
    }
   ],
   "source": [
    "e"
   ]
  },
  {
   "cell_type": "code",
   "execution_count": 13,
   "id": "a1a56df7-f963-4cee-b169-e4fa378fe963",
   "metadata": {},
   "outputs": [],
   "source": [
    "def parik5():\n",
    "    a = 4*5 + 4\n",
    "    return a"
   ]
  },
  {
   "cell_type": "code",
   "execution_count": 14,
   "id": "236ed757-57d1-48cb-9b54-ddbd64b1db5c",
   "metadata": {},
   "outputs": [
    {
     "data": {
      "text/plain": [
       "24"
      ]
     },
     "execution_count": 14,
     "metadata": {},
     "output_type": "execute_result"
    }
   ],
   "source": [
    "parik5()"
   ]
  },
  {
   "cell_type": "code",
   "execution_count": 15,
   "id": "0f602b76-fa70-4f34-a49f-c35545fd1ee4",
   "metadata": {},
   "outputs": [
    {
     "data": {
      "text/plain": [
       "int"
      ]
     },
     "execution_count": 15,
     "metadata": {},
     "output_type": "execute_result"
    }
   ],
   "source": [
    "type(parik5())"
   ]
  },
  {
   "cell_type": "code",
   "execution_count": 16,
   "id": "e28b6d85-9c50-487a-bc1e-e65776d206a4",
   "metadata": {},
   "outputs": [
    {
     "data": {
      "text/plain": [
       "69"
      ]
     },
     "execution_count": 16,
     "metadata": {},
     "output_type": "execute_result"
    }
   ],
   "source": [
    "parik5() +45"
   ]
  },
  {
   "cell_type": "code",
   "execution_count": 17,
   "id": "2006df71-d85c-4f60-a139-e653c144bff4",
   "metadata": {},
   "outputs": [],
   "source": [
    "def parik6(a,b):\n",
    "    c = a+b\n",
    "    return c"
   ]
  },
  {
   "cell_type": "code",
   "execution_count": 19,
   "id": "2a323975-d726-44a1-a7d9-1d2a33ef986a",
   "metadata": {},
   "outputs": [
    {
     "data": {
      "text/plain": [
       "13"
      ]
     },
     "execution_count": 19,
     "metadata": {},
     "output_type": "execute_result"
    }
   ],
   "source": [
    "parik6(5,8)"
   ]
  },
  {
   "cell_type": "code",
   "execution_count": 20,
   "id": "aad40634-41d2-41c3-884f-7b4a0beedbad",
   "metadata": {},
   "outputs": [
    {
     "data": {
      "text/plain": [
       "[1, 2, 3, 4, 5, 6]"
      ]
     },
     "execution_count": 20,
     "metadata": {},
     "output_type": "execute_result"
    }
   ],
   "source": [
    "parik6([1,2,3],[4,5,6])"
   ]
  },
  {
   "cell_type": "code",
   "execution_count": 21,
   "id": "a700e9f4-5d23-4a01-886b-429b464c0257",
   "metadata": {},
   "outputs": [],
   "source": [
    "#create a function which will take list as input and give a output as list with all numeric values."
   ]
  },
  {
   "cell_type": "code",
   "execution_count": 22,
   "id": "ce8ddb22-57a3-47dc-8f5d-5740af286f7f",
   "metadata": {},
   "outputs": [],
   "source": [
    "l=[1,2,3,4,5,\"parikshit\",\"class\",[45,76,76]]"
   ]
  },
  {
   "cell_type": "code",
   "execution_count": 28,
   "id": "86021914-4aee-404f-87ae-2f4a62e66398",
   "metadata": {},
   "outputs": [],
   "source": [
    "def test1(a):\n",
    "    n =[]\n",
    "    for i in a:\n",
    "        if type(i)==int or type(i)==float:\n",
    "            n.append(i)\n",
    "    return n    "
   ]
  },
  {
   "cell_type": "code",
   "execution_count": 29,
   "id": "ee08ab94-acfd-42ee-b9e3-9c551010ed75",
   "metadata": {},
   "outputs": [
    {
     "data": {
      "text/plain": [
       "[1, 2, 3, 4, 5]"
      ]
     },
     "execution_count": 29,
     "metadata": {},
     "output_type": "execute_result"
    }
   ],
   "source": [
    "test1([1,2,3,4,5,\"jaat\"])"
   ]
  },
  {
   "cell_type": "code",
   "execution_count": 30,
   "id": "7ed693bc-8ed4-4050-8db4-062d87607550",
   "metadata": {},
   "outputs": [
    {
     "data": {
      "text/plain": [
       "[1, 2, 3, 4, 5]"
      ]
     },
     "execution_count": 30,
     "metadata": {},
     "output_type": "execute_result"
    }
   ],
   "source": [
    "test1(l)"
   ]
  },
  {
   "cell_type": "code",
   "execution_count": 31,
   "id": "e983bfd2-62db-4cad-8aa6-ddd09e43e10b",
   "metadata": {},
   "outputs": [
    {
     "data": {
      "text/plain": [
       "[1, 2, 3, 4, 5, 'parikshit', 'class', [45, 76, 76]]"
      ]
     },
     "execution_count": 31,
     "metadata": {},
     "output_type": "execute_result"
    }
   ],
   "source": [
    "l"
   ]
  },
  {
   "cell_type": "code",
   "execution_count": 45,
   "id": "1416a0eb-3bb0-4531-ace1-c7b0a5be9a60",
   "metadata": {},
   "outputs": [],
   "source": [
    "def test2(a):\n",
    "    n=[]\n",
    "    for i in a:\n",
    "        if type(i)==list:\n",
    "            for j in i:\n",
    "                if type(j)==int or type(j)==float:\n",
    "                    n.append(j)\n",
    "                \n",
    "        else:\n",
    "            if type(i)==int or type(i)==float:\n",
    "                n.append(i)\n",
    "            \n",
    "    return n"
   ]
  },
  {
   "cell_type": "code",
   "execution_count": 46,
   "id": "3cb5dd5a-950d-43d1-a08f-7fa58bed09c9",
   "metadata": {},
   "outputs": [
    {
     "data": {
      "text/plain": [
       "[1, 2, 3, 4, 5, 45, 76, 76]"
      ]
     },
     "execution_count": 46,
     "metadata": {},
     "output_type": "execute_result"
    }
   ],
   "source": [
    "test2(l)"
   ]
  },
  {
   "cell_type": "code",
   "execution_count": 34,
   "id": "4cecb774-bace-4594-807e-d136cdb8ca41",
   "metadata": {},
   "outputs": [
    {
     "data": {
      "text/plain": [
       "[1, 2, 3, 4, 5, 'parikshit', 'class', [45, 76, 76]]"
      ]
     },
     "execution_count": 34,
     "metadata": {},
     "output_type": "execute_result"
    }
   ],
   "source": [
    "l"
   ]
  },
  {
   "cell_type": "code",
   "execution_count": 47,
   "id": "e70bf961-1e3a-4925-861e-4a9ff71bc433",
   "metadata": {},
   "outputs": [],
   "source": [
    "def test3(*args):\n",
    "    return args"
   ]
  },
  {
   "cell_type": "code",
   "execution_count": 48,
   "id": "7c9b018c-ed5d-4236-ac25-d22fdb9d204b",
   "metadata": {},
   "outputs": [
    {
     "data": {
      "text/plain": [
       "(3, 5, 5, 65, 43)"
      ]
     },
     "execution_count": 48,
     "metadata": {},
     "output_type": "execute_result"
    }
   ],
   "source": [
    "test3(3,5,5,65,43)"
   ]
  },
  {
   "cell_type": "code",
   "execution_count": null,
   "id": "c6f03e7a-0e64-42ab-b418-9d3d0e3228ae",
   "metadata": {},
   "outputs": [],
   "source": [
    "def test4(**arg)"
   ]
  }
 ],
 "metadata": {
  "kernelspec": {
   "display_name": "Python 3 (ipykernel)",
   "language": "python",
   "name": "python3"
  },
  "language_info": {
   "codemirror_mode": {
    "name": "ipython",
    "version": 3
   },
   "file_extension": ".py",
   "mimetype": "text/x-python",
   "name": "python",
   "nbconvert_exporter": "python",
   "pygments_lexer": "ipython3",
   "version": "3.10.8"
  }
 },
 "nbformat": 4,
 "nbformat_minor": 5
}

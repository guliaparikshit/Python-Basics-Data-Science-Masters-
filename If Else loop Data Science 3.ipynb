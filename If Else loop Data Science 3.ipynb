{
 "cells": [
  {
   "cell_type": "code",
   "execution_count": 1,
   "id": "11692f42-277e-40fb-b298-96e6d64d2aaa",
   "metadata": {},
   "outputs": [],
   "source": [
    "a = 30"
   ]
  },
  {
   "cell_type": "code",
   "execution_count": 2,
   "id": "fbdeb142-8898-4559-a103-fcbc609580b9",
   "metadata": {},
   "outputs": [],
   "source": [
    "if a>30 :\n",
    "    print(\"the value of a is greater than 30\")\n"
   ]
  },
  {
   "cell_type": "code",
   "execution_count": 3,
   "id": "4605aadf-0851-47d7-a861-e15943b24dc8",
   "metadata": {},
   "outputs": [
    {
     "data": {
      "text/plain": [
       "False"
      ]
     },
     "execution_count": 3,
     "metadata": {},
     "output_type": "execute_result"
    }
   ],
   "source": [
    "a>30"
   ]
  },
  {
   "cell_type": "code",
   "execution_count": 4,
   "id": "bf34446d-cea9-4cc1-99d1-eba06cb34433",
   "metadata": {},
   "outputs": [],
   "source": [
    "b=10"
   ]
  },
  {
   "cell_type": "code",
   "execution_count": 8,
   "id": "fd01343a-6242-4a75-abca-14383fb62012",
   "metadata": {},
   "outputs": [
    {
     "name": "stdout",
     "output_type": "stream",
     "text": [
      "the value of b is lesser than 10\n"
     ]
    }
   ],
   "source": [
    "if b>10:\n",
    "    print(\"the value of b is greater than 10\")\n",
    "else:\n",
    "    print(\"the value of b is lesser than 10\")"
   ]
  },
  {
   "cell_type": "code",
   "execution_count": 13,
   "id": "1489e8d3-9db4-45f0-9cc0-e0b94819ca21",
   "metadata": {},
   "outputs": [],
   "source": [
    "c=15"
   ]
  },
  {
   "cell_type": "code",
   "execution_count": 14,
   "id": "96b5e336-d64f-4116-9c80-3cb4430f0a16",
   "metadata": {},
   "outputs": [
    {
     "data": {
      "text/plain": [
       "15"
      ]
     },
     "execution_count": 14,
     "metadata": {},
     "output_type": "execute_result"
    }
   ],
   "source": [
    "c"
   ]
  },
  {
   "cell_type": "code",
   "execution_count": 22,
   "id": "dff1b0d7-e675-4e50-8aeb-f881b4024b29",
   "metadata": {},
   "outputs": [
    {
     "name": "stdout",
     "output_type": "stream",
     "text": [
      "the value of c is equal to 15 or less than 15 trying to check the condition\n"
     ]
    }
   ],
   "source": [
    "if c>15:\n",
    "    print(\"the value of c is greater than 15\")\n",
    "elif c<=15:\n",
    "        print(\"the value of c is equal to 15 or less than 15 trying to check the condition\")\n",
    "else:\n",
    "            print(\"value of c is less than 15\")"
   ]
  },
  {
   "cell_type": "code",
   "execution_count": 23,
   "id": "1e9fd8d5-aa48-46a7-b409-849180a831ca",
   "metadata": {},
   "outputs": [],
   "source": [
    "c+=2"
   ]
  },
  {
   "cell_type": "code",
   "execution_count": 24,
   "id": "6a1a97ba-b484-4bbd-87b3-6f52e46f93be",
   "metadata": {},
   "outputs": [
    {
     "data": {
      "text/plain": [
       "17"
      ]
     },
     "execution_count": 24,
     "metadata": {},
     "output_type": "execute_result"
    }
   ],
   "source": [
    "c"
   ]
  },
  {
   "cell_type": "code",
   "execution_count": 26,
   "id": "477719b4-553a-4371-b290-251c0abf8ee0",
   "metadata": {},
   "outputs": [
    {
     "name": "stdout",
     "output_type": "stream",
     "text": [
      "c is greater than 15\n"
     ]
    }
   ],
   "source": [
    "if c>15:\n",
    "    print(\"c is greater than 15\")"
   ]
  },
  {
   "cell_type": "code",
   "execution_count": 30,
   "id": "82d3943a-cf61-4f3d-b235-e1fcad3ec088",
   "metadata": {},
   "outputs": [
    {
     "name": "stdout",
     "output_type": "stream",
     "text": [
      "c is greater than or equal to 15\n"
     ]
    }
   ],
   "source": [
    "if c<15:\n",
    "    print(\"c is less than 15\")\n",
    "else:\n",
    "        print(\"c is greater than or equal to 15\")"
   ]
  },
  {
   "cell_type": "code",
   "execution_count": 31,
   "id": "4f04ed7d-5606-498f-a4cb-8b7da21ce459",
   "metadata": {},
   "outputs": [
    {
     "name": "stdout",
     "output_type": "stream",
     "text": [
      "the value of c is greater than 15\n"
     ]
    }
   ],
   "source": [
    "if c>15:\n",
    "    print(\"the value of c is greater than 15\")\n",
    "elif c<=15:\n",
    "        print(\"the value of c can be less than or equal to 15\")\n",
    "else:\n",
    "            print(\"sorry\")"
   ]
  },
  {
   "cell_type": "code",
   "execution_count": 32,
   "id": "8cd248f1-2b74-4280-88a7-0ca30cdf82f3",
   "metadata": {},
   "outputs": [],
   "source": [
    "c=10"
   ]
  },
  {
   "cell_type": "code",
   "execution_count": 33,
   "id": "3df656d0-4758-496e-9d06-8a13c640172f",
   "metadata": {},
   "outputs": [
    {
     "name": "stdout",
     "output_type": "stream",
     "text": [
      "the value of c can be less than or equal to 15\n"
     ]
    }
   ],
   "source": [
    "if c>15:\n",
    "    print(\"the value of c is greater than 15\")\n",
    "elif c<=15:\n",
    "        print(\"the value of c can be less than or equal to 15\")\n",
    "else:\n",
    "            print(\"sorry\")"
   ]
  },
  {
   "cell_type": "code",
   "execution_count": 34,
   "id": "499d04cd-1edd-4721-b286-37b63a811d1f",
   "metadata": {},
   "outputs": [],
   "source": [
    "c=15"
   ]
  },
  {
   "cell_type": "code",
   "execution_count": 35,
   "id": "315ab808-f6a1-47aa-857f-1b6597527242",
   "metadata": {},
   "outputs": [
    {
     "name": "stdout",
     "output_type": "stream",
     "text": [
      "the value of c can be less than or equal to 15\n"
     ]
    }
   ],
   "source": [
    "if c>15:\n",
    "    print(\"the value of c is greater than 15\")\n",
    "elif c<=15:\n",
    "        print(\"the value of c can be less than or equal to 15\")\n",
    "else:\n",
    "            print(\"sorry\")"
   ]
  },
  {
   "cell_type": "code",
   "execution_count": 36,
   "id": "0d72118f-9740-4caf-97ad-75c8d8a4a96d",
   "metadata": {},
   "outputs": [],
   "source": [
    "c=15"
   ]
  },
  {
   "cell_type": "code",
   "execution_count": 38,
   "id": "c4922ec3-c79d-4c99-b7dc-e2ff7fdcd75b",
   "metadata": {},
   "outputs": [
    {
     "name": "stdout",
     "output_type": "stream",
     "text": [
      "the value of c can be less than or equal to 15\n"
     ]
    }
   ],
   "source": [
    "if c>15:\n",
    "    print(\"the value of c is greater than 15\")\n",
    "elif c==15:\n",
    "        print(\"the value of c can be less than or equal to 15\")\n",
    "else:\n",
    "            print(\"sorry\")"
   ]
  },
  {
   "cell_type": "code",
   "execution_count": 39,
   "id": "0fe960f1-3cbd-4e8e-9041-4f1798c361c6",
   "metadata": {},
   "outputs": [],
   "source": [
    "c=1"
   ]
  },
  {
   "cell_type": "code",
   "execution_count": 40,
   "id": "21832d85-b748-4ea7-a8bb-01beb8f20144",
   "metadata": {},
   "outputs": [
    {
     "name": "stdout",
     "output_type": "stream",
     "text": [
      "sorry\n"
     ]
    }
   ],
   "source": [
    "if c>15:\n",
    "    print(\"the value of c is greater than 15\")\n",
    "elif c==15:\n",
    "        print(\"the value of c can be less than or equal to 15\")\n",
    "else:\n",
    "            print(\"sorry\")"
   ]
  },
  {
   "cell_type": "code",
   "execution_count": null,
   "id": "555ea5b1-a49c-4959-a5b9-6ed2c0ef345d",
   "metadata": {},
   "outputs": [],
   "source": [
    "c=int(input(\"enter the value of c\"))\n",
    "\n",
    "if c>15:\n",
    "    print(\"the value of c is greater than 15\")\n",
    "elif c==15:\n",
    "        print(\"the value of c can be less than or equal to 15\")\n",
    "else:\n",
    "            print(\"sorry\")"
   ]
  }
 ],
 "metadata": {
  "kernelspec": {
   "display_name": "Python 3 (ipykernel)",
   "language": "python",
   "name": "python3"
  },
  "language_info": {
   "codemirror_mode": {
    "name": "ipython",
    "version": 3
   },
   "file_extension": ".py",
   "mimetype": "text/x-python",
   "name": "python",
   "nbconvert_exporter": "python",
   "pygments_lexer": "ipython3",
   "version": "3.10.8"
  }
 },
 "nbformat": 4,
 "nbformat_minor": 5
}

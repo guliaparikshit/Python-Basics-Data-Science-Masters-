{
 "cells": [
  {
   "cell_type": "code",
   "execution_count": 1,
   "id": "5d179baa-e8aa-415a-ad80-1f8dbccbdece",
   "metadata": {},
   "outputs": [],
   "source": [
    "#dictionary"
   ]
  },
  {
   "cell_type": "code",
   "execution_count": 2,
   "id": "21f01a65-e173-48a9-8f41-9a943db88cc0",
   "metadata": {},
   "outputs": [
    {
     "data": {
      "text/plain": [
       "3"
      ]
     },
     "execution_count": 2,
     "metadata": {},
     "output_type": "execute_result"
    }
   ],
   "source": [
    "1+2"
   ]
  },
  {
   "cell_type": "code",
   "execution_count": 3,
   "id": "e4f71e95-b74c-4dc3-b8a3-4b27cbfc21d9",
   "metadata": {},
   "outputs": [],
   "source": [
    "d={}"
   ]
  },
  {
   "cell_type": "code",
   "execution_count": 4,
   "id": "b64e7757-bc0d-46b5-b229-a45e33dcc9c6",
   "metadata": {},
   "outputs": [
    {
     "data": {
      "text/plain": [
       "dict"
      ]
     },
     "execution_count": 4,
     "metadata": {},
     "output_type": "execute_result"
    }
   ],
   "source": [
    "type(d)"
   ]
  },
  {
   "cell_type": "code",
   "execution_count": 5,
   "id": "4aa28c9a-aa31-4ef1-b555-6675f24e8c1a",
   "metadata": {},
   "outputs": [],
   "source": [
    "d1={\"name\":\"parikshit\",\"class\":\"seventh\",\"email\":\"parikshit@gmail.com\"}"
   ]
  },
  {
   "cell_type": "code",
   "execution_count": 6,
   "id": "3e3716b5-c3ba-477e-b297-fb1aad6b3f76",
   "metadata": {},
   "outputs": [
    {
     "data": {
      "text/plain": [
       "{'name': 'parikshit', 'class': 'seventh', 'email': 'parikshit@gmail.com'}"
      ]
     },
     "execution_count": 6,
     "metadata": {},
     "output_type": "execute_result"
    }
   ],
   "source": [
    "d1"
   ]
  },
  {
   "cell_type": "code",
   "execution_count": 7,
   "id": "830e9152-34a1-4f51-af52-0a459462d8bf",
   "metadata": {},
   "outputs": [
    {
     "data": {
      "text/plain": [
       "dict"
      ]
     },
     "execution_count": 7,
     "metadata": {},
     "output_type": "execute_result"
    }
   ],
   "source": [
    "type(d1)"
   ]
  },
  {
   "cell_type": "code",
   "execution_count": 8,
   "id": "24664aac-0560-40ba-8171-971db123ccc9",
   "metadata": {},
   "outputs": [],
   "source": [
    "d2={\"name\":\"parik\",\"name\":\"pari\"}"
   ]
  },
  {
   "cell_type": "code",
   "execution_count": 9,
   "id": "f72206b9-5e65-45d0-8ef1-bcc4de319d4a",
   "metadata": {},
   "outputs": [
    {
     "data": {
      "text/plain": [
       "{'name': 'pari'}"
      ]
     },
     "execution_count": 9,
     "metadata": {},
     "output_type": "execute_result"
    }
   ],
   "source": [
    "d2"
   ]
  },
  {
   "cell_type": "markdown",
   "id": "d24dc0bc-b6a0-46c8-bbd8-01cf1fa64318",
   "metadata": {},
   "source": [
    "updating 1st one"
   ]
  },
  {
   "cell_type": "code",
   "execution_count": 10,
   "id": "0d815197-8bcb-4d56-be12-e0086a06dfac",
   "metadata": {},
   "outputs": [],
   "source": [
    "d3={3456:\"asfgh\"}"
   ]
  },
  {
   "cell_type": "code",
   "execution_count": 11,
   "id": "e728a3bb-4d92-4eb6-959a-17cb32a80eae",
   "metadata": {},
   "outputs": [
    {
     "data": {
      "text/plain": [
       "{3456: 'asfgh'}"
      ]
     },
     "execution_count": 11,
     "metadata": {},
     "output_type": "execute_result"
    }
   ],
   "source": [
    "d3"
   ]
  },
  {
   "cell_type": "code",
   "execution_count": 12,
   "id": "8ad1015e-aeed-46f1-85f6-99bea9faa6c8",
   "metadata": {},
   "outputs": [
    {
     "ename": "SyntaxError",
     "evalue": "incomplete input (563323396.py, line 1)",
     "output_type": "error",
     "traceback": [
      "\u001b[0;36m  Cell \u001b[0;32mIn[12], line 1\u001b[0;36m\u001b[0m\n\u001b[0;31m    d4={#:\"uyt\"}\u001b[0m\n\u001b[0m                ^\u001b[0m\n\u001b[0;31mSyntaxError\u001b[0m\u001b[0;31m:\u001b[0m incomplete input\n"
     ]
    }
   ],
   "source": [
    "d4={#:\"uyt\"}"
   ]
  },
  {
   "cell_type": "code",
   "execution_count": 13,
   "id": "a9abb720-5e6e-4e15-b696-1c556073d529",
   "metadata": {},
   "outputs": [
    {
     "ename": "TypeError",
     "evalue": "unhashable type: 'list'",
     "output_type": "error",
     "traceback": [
      "\u001b[0;31m---------------------------------------------------------------------------\u001b[0m",
      "\u001b[0;31mTypeError\u001b[0m                                 Traceback (most recent call last)",
      "Cell \u001b[0;32mIn[13], line 1\u001b[0m\n\u001b[0;32m----> 1\u001b[0m d5\u001b[38;5;241m=\u001b[39m{[\u001b[38;5;241m1\u001b[39m,\u001b[38;5;241m2\u001b[39m,\u001b[38;5;241m3\u001b[39m]:\u001b[38;5;124m\"\u001b[39m\u001b[38;5;124mugf\u001b[39m\u001b[38;5;124m\"\u001b[39m}\n",
      "\u001b[0;31mTypeError\u001b[0m: unhashable type: 'list'"
     ]
    }
   ],
   "source": [
    "d5={[1,2,3]:\"ugf\"}"
   ]
  },
  {
   "cell_type": "code",
   "execution_count": 14,
   "id": "40d4eea7-1743-4028-9d51-311c511c562c",
   "metadata": {},
   "outputs": [],
   "source": [
    "d6={(1,2):\"afg\"}"
   ]
  },
  {
   "cell_type": "code",
   "execution_count": 15,
   "id": "5885f0e3-9dd3-4b33-9f8c-867ea1aab44a",
   "metadata": {},
   "outputs": [
    {
     "data": {
      "text/plain": [
       "{(1, 2): 'afg'}"
      ]
     },
     "execution_count": 15,
     "metadata": {},
     "output_type": "execute_result"
    }
   ],
   "source": [
    "d6"
   ]
  },
  {
   "cell_type": "code",
   "execution_count": 16,
   "id": "39d1f8a0-171a-4684-929d-d5d56b8f9533",
   "metadata": {},
   "outputs": [
    {
     "ename": "TypeError",
     "evalue": "unhashable type: 'set'",
     "output_type": "error",
     "traceback": [
      "\u001b[0;31m---------------------------------------------------------------------------\u001b[0m",
      "\u001b[0;31mTypeError\u001b[0m                                 Traceback (most recent call last)",
      "Cell \u001b[0;32mIn[16], line 1\u001b[0m\n\u001b[0;32m----> 1\u001b[0m d7\u001b[38;5;241m=\u001b[39m{{\u001b[38;5;241m1\u001b[39m,\u001b[38;5;241m2\u001b[39m}:\u001b[38;5;124m\"\u001b[39m\u001b[38;5;124miuygf\u001b[39m\u001b[38;5;124m\"\u001b[39m}\n",
      "\u001b[0;31mTypeError\u001b[0m: unhashable type: 'set'"
     ]
    }
   ],
   "source": [
    "d7={{1,2}:\"iuygf\"}"
   ]
  },
  {
   "cell_type": "code",
   "execution_count": 19,
   "id": "62f82b8f-da91-455c-a694-210816c861a0",
   "metadata": {},
   "outputs": [
    {
     "ename": "TypeError",
     "evalue": "unhashable type: 'dict'",
     "output_type": "error",
     "traceback": [
      "\u001b[0;31m---------------------------------------------------------------------------\u001b[0m",
      "\u001b[0;31mTypeError\u001b[0m                                 Traceback (most recent call last)",
      "Cell \u001b[0;32mIn[19], line 1\u001b[0m\n\u001b[0;32m----> 1\u001b[0m d8\u001b[38;5;241m=\u001b[39m{{\u001b[38;5;124m\"\u001b[39m\u001b[38;5;124mname\u001b[39m\u001b[38;5;124m\"\u001b[39m:\u001b[38;5;124m\"\u001b[39m\u001b[38;5;124mdfg\u001b[39m\u001b[38;5;124m\"\u001b[39m}:\u001b[38;5;124m\"\u001b[39m\u001b[38;5;124mssbh\u001b[39m\u001b[38;5;124m\"\u001b[39m}\n",
      "\u001b[0;31mTypeError\u001b[0m: unhashable type: 'dict'"
     ]
    }
   ],
   "source": [
    "d8={{\"name\":\"dfg\"}:\"ssbh\"}"
   ]
  },
  {
   "cell_type": "code",
   "execution_count": 20,
   "id": "b95e18f0-9026-4703-a4c9-6a3a9a98a658",
   "metadata": {},
   "outputs": [],
   "source": [
    "d9={\"class_name\":[\"eleventh\",\"sixth\"]}"
   ]
  },
  {
   "cell_type": "code",
   "execution_count": 21,
   "id": "3e9c14b9-7ed2-4f02-969a-b8ba0b345ec0",
   "metadata": {},
   "outputs": [
    {
     "data": {
      "text/plain": [
       "{'class_name': ['eleventh', 'sixth']}"
      ]
     },
     "execution_count": 21,
     "metadata": {},
     "output_type": "execute_result"
    }
   ],
   "source": [
    "d9"
   ]
  },
  {
   "cell_type": "code",
   "execution_count": 22,
   "id": "1de1f1cb-fddb-44ef-a693-d679592d3097",
   "metadata": {},
   "outputs": [],
   "source": [
    "d10={\"class\":{\"name\":\"sudh\",\"age\":\"nine\"}}"
   ]
  },
  {
   "cell_type": "code",
   "execution_count": 23,
   "id": "b15f163c-9cdb-4e37-8fe7-89b62bc76027",
   "metadata": {},
   "outputs": [
    {
     "data": {
      "text/plain": [
       "{'class': {'name': 'sudh', 'age': 'nine'}}"
      ]
     },
     "execution_count": 23,
     "metadata": {},
     "output_type": "execute_result"
    }
   ],
   "source": [
    "d10"
   ]
  },
  {
   "cell_type": "code",
   "execution_count": 24,
   "id": "fd3968fa-6c1f-4865-bcac-f92081103376",
   "metadata": {},
   "outputs": [
    {
     "data": {
      "text/plain": [
       "{'class': {'name': 'sudh', 'age': 'nine'}}"
      ]
     },
     "execution_count": 24,
     "metadata": {},
     "output_type": "execute_result"
    }
   ],
   "source": [
    "d10"
   ]
  },
  {
   "cell_type": "code",
   "execution_count": 25,
   "id": "ad561b87-fcd7-4b35-9516-89269db11c42",
   "metadata": {},
   "outputs": [
    {
     "data": {
      "text/plain": [
       "{(1, 2): 'afg'}"
      ]
     },
     "execution_count": 25,
     "metadata": {},
     "output_type": "execute_result"
    }
   ],
   "source": [
    "d6"
   ]
  },
  {
   "cell_type": "code",
   "execution_count": 26,
   "id": "98b2baee-c2a2-406f-929c-da4b8493b227",
   "metadata": {},
   "outputs": [],
   "source": [
    "d6[\"class\"]=(7)"
   ]
  },
  {
   "cell_type": "code",
   "execution_count": 27,
   "id": "c32a0d72-d586-4bb7-9a1e-cac04c379816",
   "metadata": {},
   "outputs": [
    {
     "data": {
      "text/plain": [
       "{(1, 2): 'afg', 'class': 7}"
      ]
     },
     "execution_count": 27,
     "metadata": {},
     "output_type": "execute_result"
    }
   ],
   "source": [
    "d6"
   ]
  },
  {
   "cell_type": "code",
   "execution_count": 28,
   "id": "b2238ed9-9a71-41c7-ab91-fd2728b7b7f1",
   "metadata": {},
   "outputs": [
    {
     "data": {
      "text/plain": [
       "7"
      ]
     },
     "execution_count": 28,
     "metadata": {},
     "output_type": "execute_result"
    }
   ],
   "source": [
    "d6[\"class\"]"
   ]
  },
  {
   "cell_type": "code",
   "execution_count": 29,
   "id": "106041df-901a-46aa-9a1c-26558fd45abe",
   "metadata": {},
   "outputs": [
    {
     "data": {
      "text/plain": [
       "'afg'"
      ]
     },
     "execution_count": 29,
     "metadata": {},
     "output_type": "execute_result"
    }
   ],
   "source": [
    "d6[(1,2)]"
   ]
  },
  {
   "cell_type": "code",
   "execution_count": 32,
   "id": "3284c53f-3e35-470e-a230-40c6942a0159",
   "metadata": {},
   "outputs": [
    {
     "data": {
      "text/plain": [
       "'AFG'"
      ]
     },
     "execution_count": 32,
     "metadata": {},
     "output_type": "execute_result"
    }
   ],
   "source": [
    "d6[(1,2)].upper()"
   ]
  },
  {
   "cell_type": "code",
   "execution_count": 33,
   "id": "d5b28eb7-49be-42c6-9bad-14ea02031c3f",
   "metadata": {},
   "outputs": [
    {
     "data": {
      "text/plain": [
       "{(1, 2): 'afg', 'class': 7}"
      ]
     },
     "execution_count": 33,
     "metadata": {},
     "output_type": "execute_result"
    }
   ],
   "source": [
    "d6"
   ]
  },
  {
   "cell_type": "code",
   "execution_count": 34,
   "id": "434c250c-a1c6-4168-8c20-55676a4f9663",
   "metadata": {},
   "outputs": [],
   "source": [
    "d6.clear()"
   ]
  },
  {
   "cell_type": "code",
   "execution_count": 35,
   "id": "0e351654-f752-472d-b088-114ec75b8c96",
   "metadata": {},
   "outputs": [
    {
     "data": {
      "text/plain": [
       "{}"
      ]
     },
     "execution_count": 35,
     "metadata": {},
     "output_type": "execute_result"
    }
   ],
   "source": [
    "d6"
   ]
  },
  {
   "cell_type": "code",
   "execution_count": 37,
   "id": "8fe83f99-09f0-4507-bf90-42cee92d8d8d",
   "metadata": {},
   "outputs": [
    {
     "data": {
      "text/plain": [
       "{3456: 'asfgh'}"
      ]
     },
     "execution_count": 37,
     "metadata": {},
     "output_type": "execute_result"
    }
   ],
   "source": [
    "d3"
   ]
  },
  {
   "cell_type": "code",
   "execution_count": 38,
   "id": "d3b4b44b-dd61-4454-9410-163f919ffb56",
   "metadata": {},
   "outputs": [
    {
     "data": {
      "text/plain": [
       "1"
      ]
     },
     "execution_count": 38,
     "metadata": {},
     "output_type": "execute_result"
    }
   ],
   "source": [
    "len(d3)"
   ]
  },
  {
   "cell_type": "code",
   "execution_count": 39,
   "id": "b62c4291-4706-48f6-8583-ad0643d15fec",
   "metadata": {},
   "outputs": [
    {
     "data": {
      "text/plain": [
       "{'class': {'name': 'sudh', 'age': 'nine'}}"
      ]
     },
     "execution_count": 39,
     "metadata": {},
     "output_type": "execute_result"
    }
   ],
   "source": [
    "d10"
   ]
  },
  {
   "cell_type": "code",
   "execution_count": 40,
   "id": "98febaac-3f09-404d-977f-4f87bc0530ac",
   "metadata": {},
   "outputs": [
    {
     "data": {
      "text/plain": [
       "dict_keys(['class'])"
      ]
     },
     "execution_count": 40,
     "metadata": {},
     "output_type": "execute_result"
    }
   ],
   "source": [
    "d10.keys()"
   ]
  },
  {
   "cell_type": "code",
   "execution_count": 41,
   "id": "9d5d6c7f-b3d2-4501-8fc6-a1db064533df",
   "metadata": {},
   "outputs": [
    {
     "data": {
      "text/plain": [
       "dict_values([{'name': 'sudh', 'age': 'nine'}])"
      ]
     },
     "execution_count": 41,
     "metadata": {},
     "output_type": "execute_result"
    }
   ],
   "source": [
    "d10.values()"
   ]
  },
  {
   "cell_type": "code",
   "execution_count": 42,
   "id": "09fae040-0dba-4694-b50d-e34f84364d97",
   "metadata": {},
   "outputs": [
    {
     "data": {
      "text/plain": [
       "[{'name': 'sudh', 'age': 'nine'}]"
      ]
     },
     "execution_count": 42,
     "metadata": {},
     "output_type": "execute_result"
    }
   ],
   "source": [
    "list(d10.values())"
   ]
  },
  {
   "cell_type": "code",
   "execution_count": 43,
   "id": "583d838f-65f7-4eff-b7de-709e3d10d18c",
   "metadata": {},
   "outputs": [
    {
     "data": {
      "text/plain": [
       "dict_items([('class', {'name': 'sudh', 'age': 'nine'})])"
      ]
     },
     "execution_count": 43,
     "metadata": {},
     "output_type": "execute_result"
    }
   ],
   "source": [
    "d10.items()"
   ]
  },
  {
   "cell_type": "code",
   "execution_count": 44,
   "id": "1c89574f-69c0-476b-bf2b-d4547e51b8e3",
   "metadata": {},
   "outputs": [
    {
     "data": {
      "text/plain": [
       "[('class', {'name': 'sudh', 'age': 'nine'})]"
      ]
     },
     "execution_count": 44,
     "metadata": {},
     "output_type": "execute_result"
    }
   ],
   "source": [
    "list(d10.items())"
   ]
  },
  {
   "cell_type": "code",
   "execution_count": 45,
   "id": "5c636668-3cae-49f3-9c94-cb10f479798d",
   "metadata": {},
   "outputs": [],
   "source": [
    "d11=d10.copy()"
   ]
  },
  {
   "cell_type": "code",
   "execution_count": 46,
   "id": "aefe0025-262a-4463-ab1f-8faf75717fc0",
   "metadata": {},
   "outputs": [
    {
     "data": {
      "text/plain": [
       "{'class': {'name': 'sudh', 'age': 'nine'}}"
      ]
     },
     "execution_count": 46,
     "metadata": {},
     "output_type": "execute_result"
    }
   ],
   "source": [
    "d10"
   ]
  },
  {
   "cell_type": "code",
   "execution_count": 47,
   "id": "35ff980e-9469-4172-a777-446a58c710d7",
   "metadata": {},
   "outputs": [
    {
     "data": {
      "text/plain": [
       "{'class': {'name': 'sudh', 'age': 'nine'}}"
      ]
     },
     "execution_count": 47,
     "metadata": {},
     "output_type": "execute_result"
    }
   ],
   "source": [
    "d11"
   ]
  },
  {
   "cell_type": "code",
   "execution_count": 48,
   "id": "b4790235-c1ce-41f6-b000-6affc2dabeee",
   "metadata": {},
   "outputs": [],
   "source": [
    "d10=d11"
   ]
  },
  {
   "cell_type": "code",
   "execution_count": 49,
   "id": "44133341-a091-486c-b0aa-9c8fce1601ff",
   "metadata": {},
   "outputs": [
    {
     "data": {
      "text/plain": [
       "{'class': {'name': 'sudh', 'age': 'nine'}}"
      ]
     },
     "execution_count": 49,
     "metadata": {},
     "output_type": "execute_result"
    }
   ],
   "source": [
    "d11"
   ]
  },
  {
   "cell_type": "code",
   "execution_count": 50,
   "id": "f8957a2f-9699-457f-a42d-a67f14a715c9",
   "metadata": {},
   "outputs": [
    {
     "data": {
      "text/plain": [
       "{'class': {'name': 'sudh', 'age': 'nine'}}"
      ]
     },
     "execution_count": 50,
     "metadata": {},
     "output_type": "execute_result"
    }
   ],
   "source": [
    "d11"
   ]
  },
  {
   "cell_type": "code",
   "execution_count": 51,
   "id": "07a1f122-32b1-472f-bc8a-dd227e3d3c97",
   "metadata": {},
   "outputs": [
    {
     "data": {
      "text/plain": [
       "{'name': 'sudh', 'age': 'nine'}"
      ]
     },
     "execution_count": 51,
     "metadata": {},
     "output_type": "execute_result"
    }
   ],
   "source": [
    "d11.pop(\"class\")"
   ]
  },
  {
   "cell_type": "code",
   "execution_count": 52,
   "id": "4ba0a7ee-d0d2-47c0-904b-5d25b4c74d10",
   "metadata": {},
   "outputs": [
    {
     "data": {
      "text/plain": [
       "{}"
      ]
     },
     "execution_count": 52,
     "metadata": {},
     "output_type": "execute_result"
    }
   ],
   "source": [
    "d11"
   ]
  },
  {
   "cell_type": "code",
   "execution_count": 53,
   "id": "05807bf2-c2bc-4a65-b049-847fb9fe3c54",
   "metadata": {},
   "outputs": [
    {
     "data": {
      "text/plain": [
       "{1: ('a', 'b', 'c'), 2: ('a', 'b', 'c'), 3: ('a', 'b', 'c')}"
      ]
     },
     "execution_count": 53,
     "metadata": {},
     "output_type": "execute_result"
    }
   ],
   "source": [
    "d.fromkeys((1,2,3),(\"a\",\"b\",\"c\"))"
   ]
  },
  {
   "cell_type": "code",
   "execution_count": 58,
   "id": "c335a32d-51bb-4610-b898-d90f1c8a10f5",
   "metadata": {},
   "outputs": [],
   "source": [
    "d19={\"key1\":\"value1\",\"key2\":\"value2\"}\n",
    "d20={\"key3\":\"value3\",\"key4\":\"value4\"}"
   ]
  },
  {
   "cell_type": "code",
   "execution_count": 55,
   "id": "634e4072-2ded-407e-b69b-92b38c1a11f6",
   "metadata": {},
   "outputs": [
    {
     "data": {
      "text/plain": [
       "({'key1': 'value1', 'key2': 'value2'}, {'kay3': 'value3', 'kay4': 'value4'})"
      ]
     },
     "execution_count": 55,
     "metadata": {},
     "output_type": "execute_result"
    }
   ],
   "source": [
    "(d19,d20)"
   ]
  },
  {
   "cell_type": "code",
   "execution_count": 59,
   "id": "e4690cef-1e17-4380-ac83-b92f5fbb36c8",
   "metadata": {},
   "outputs": [],
   "source": [
    "d19.update(d20)"
   ]
  },
  {
   "cell_type": "code",
   "execution_count": 60,
   "id": "3aa5edb7-bdf1-462c-bbdf-baec2678d91a",
   "metadata": {},
   "outputs": [
    {
     "data": {
      "text/plain": [
       "{'key1': 'value1', 'key2': 'value2', 'key3': 'value3', 'key4': 'value4'}"
      ]
     },
     "execution_count": 60,
     "metadata": {},
     "output_type": "execute_result"
    }
   ],
   "source": [
    "d19"
   ]
  },
  {
   "cell_type": "code",
   "execution_count": 61,
   "id": "a85ee44d-c8f9-49f9-92c1-8b9fab7924ec",
   "metadata": {},
   "outputs": [
    {
     "data": {
      "text/plain": [
       "{'key3': 'value3', 'key4': 'value4'}"
      ]
     },
     "execution_count": 61,
     "metadata": {},
     "output_type": "execute_result"
    }
   ],
   "source": [
    "d20"
   ]
  },
  {
   "cell_type": "code",
   "execution_count": 62,
   "id": "db8caed8-5aec-493e-98ec-7bde024b4344",
   "metadata": {},
   "outputs": [],
   "source": [
    "d20.get(\"jaat\")"
   ]
  },
  {
   "cell_type": "code",
   "execution_count": 64,
   "id": "68ff6a66-f3c9-4e0d-b591-766238d6e41b",
   "metadata": {},
   "outputs": [
    {
     "data": {
      "text/plain": [
       "'value3'"
      ]
     },
     "execution_count": 64,
     "metadata": {},
     "output_type": "execute_result"
    }
   ],
   "source": [
    "d20.get(\"key3\")"
   ]
  },
  {
   "cell_type": "markdown",
   "id": "732868e2-2731-47bf-8f93-1973a4d906c7",
   "metadata": {},
   "source": [
    "dictionary comprehensions"
   ]
  },
  {
   "cell_type": "code",
   "execution_count": 69,
   "id": "c9aa78b5-f78e-407a-8fdb-f8705e0683f8",
   "metadata": {},
   "outputs": [
    {
     "data": {
      "text/plain": [
       "{1: 1, 2: 4, 3: 9, 4: 16, 5: 25, 6: 36, 7: 49, 8: 64, 9: 81, 10: 100}"
      ]
     },
     "execution_count": 69,
     "metadata": {},
     "output_type": "execute_result"
    }
   ],
   "source": [
    "{i: i*i for i in range (1,11)}"
   ]
  },
  {
   "cell_type": "code",
   "execution_count": 70,
   "id": "ce0dc3e1-c857-4fbf-9731-7fa67868ead2",
   "metadata": {},
   "outputs": [
    {
     "data": {
      "text/plain": [
       "{1: 11, 2: 12, 3: 13, 4: 14, 5: 15, 6: 16, 7: 17, 8: 18, 9: 19, 10: 20}"
      ]
     },
     "execution_count": 70,
     "metadata": {},
     "output_type": "execute_result"
    }
   ],
   "source": [
    "{i: i+10 for i in range (1,11)}"
   ]
  },
  {
   "cell_type": "code",
   "execution_count": 81,
   "id": "8f7d1862-5168-42ca-b864-d43977864752",
   "metadata": {},
   "outputs": [],
   "source": [
    "import math\n",
    "d21={i: math.log10(i) for i in range (1,11)}"
   ]
  },
  {
   "cell_type": "code",
   "execution_count": 79,
   "id": "a2ad2238-21eb-4be2-ae14-c68bafe07aae",
   "metadata": {},
   "outputs": [],
   "source": [
    "import math\n",
    "math."
   ]
  },
  {
   "cell_type": "code",
   "execution_count": 80,
   "id": "b0faf107-376b-4760-bf10-f5e940f0fb4c",
   "metadata": {},
   "outputs": [
    {
     "data": {
      "text/plain": [
       "{'key3': 'value3', 'key4': 'value4'}"
      ]
     },
     "execution_count": 80,
     "metadata": {},
     "output_type": "execute_result"
    }
   ],
   "source": [
    "d20"
   ]
  },
  {
   "cell_type": "code",
   "execution_count": 82,
   "id": "56421af1-18a8-4877-92ae-2b7cacda89cd",
   "metadata": {},
   "outputs": [
    {
     "data": {
      "text/plain": [
       "{1: 0.0,\n",
       " 2: 0.3010299956639812,\n",
       " 3: 0.47712125471966244,\n",
       " 4: 0.6020599913279624,\n",
       " 5: 0.6989700043360189,\n",
       " 6: 0.7781512503836436,\n",
       " 7: 0.8450980400142568,\n",
       " 8: 0.9030899869919435,\n",
       " 9: 0.9542425094393249,\n",
       " 10: 1.0}"
      ]
     },
     "execution_count": 82,
     "metadata": {},
     "output_type": "execute_result"
    }
   ],
   "source": [
    "d21"
   ]
  },
  {
   "cell_type": "code",
   "execution_count": 124,
   "id": "33fca064-98b3-4f24-a10d-39d1cafd5861",
   "metadata": {},
   "outputs": [
    {
     "name": "stdout",
     "output_type": "stream",
     "text": [
      "2 0.3010299956639812\n",
      "4 0.6020599913279624\n",
      "6 0.7781512503836436\n",
      "8 0.9030899869919435\n",
      "10 1.0\n"
     ]
    }
   ],
   "source": [
    "import math\n",
    "for i in d21.keys():\n",
    "    if i%2==0:\n",
    "        print(i,math.log10(i))"
   ]
  },
  {
   "cell_type": "code",
   "execution_count": 126,
   "id": "68604846-7cbf-474a-a85d-074b8e4dcb00",
   "metadata": {},
   "outputs": [
    {
     "name": "stdout",
     "output_type": "stream",
     "text": [
      "0.3010299956639812\n",
      "0.6020599913279624\n",
      "0.7781512503836436\n",
      "0.9030899869919435\n",
      "1.0\n"
     ]
    }
   ],
   "source": [
    "import math\n",
    "for i in d21.keys():\n",
    "    if i%2==0:\n",
    "        print(d21[i])"
   ]
  },
  {
   "cell_type": "code",
   "execution_count": null,
   "id": "8bb32e59-12cf-4ec4-96e1-efae16fcaf07",
   "metadata": {},
   "outputs": [],
   "source": []
  }
 ],
 "metadata": {
  "kernelspec": {
   "display_name": "Python 3 (ipykernel)",
   "language": "python",
   "name": "python3"
  },
  "language_info": {
   "codemirror_mode": {
    "name": "ipython",
    "version": 3
   },
   "file_extension": ".py",
   "mimetype": "text/x-python",
   "name": "python",
   "nbconvert_exporter": "python",
   "pygments_lexer": "ipython3",
   "version": "3.10.8"
  }
 },
 "nbformat": 4,
 "nbformat_minor": 5
}

{
 "cells": [
  {
   "cell_type": "code",
   "execution_count": 1,
   "id": "9556dc2d-6bef-4662-b935-228a02a4756c",
   "metadata": {},
   "outputs": [],
   "source": [
    "#ASSIGNMENT 01"
   ]
  },
  {
   "cell_type": "raw",
   "id": "6b1e9821-b3cc-4827-8de0-7a8a155c0867",
   "metadata": {},
   "source": [
    "Create one variable using following data types\n",
    "string\n",
    "list\n",
    "float\n",
    "tuple"
   ]
  },
  {
   "cell_type": "code",
   "execution_count": 2,
   "id": "0873de86-d1c5-4bda-bccc-b061757d329d",
   "metadata": {},
   "outputs": [],
   "source": [
    "a=\"parikshit\""
   ]
  },
  {
   "cell_type": "code",
   "execution_count": 3,
   "id": "60aef8d3-0f9a-4648-a098-306a85ce717c",
   "metadata": {},
   "outputs": [
    {
     "data": {
      "text/plain": [
       "'parikshit'"
      ]
     },
     "execution_count": 3,
     "metadata": {},
     "output_type": "execute_result"
    }
   ],
   "source": [
    "a"
   ]
  },
  {
   "cell_type": "code",
   "execution_count": 4,
   "id": "d8f52339-78b9-433a-9231-e595058a48a7",
   "metadata": {},
   "outputs": [
    {
     "data": {
      "text/plain": [
       "str"
      ]
     },
     "execution_count": 4,
     "metadata": {},
     "output_type": "execute_result"
    }
   ],
   "source": [
    "type(a)"
   ]
  },
  {
   "cell_type": "code",
   "execution_count": 5,
   "id": "7921ff35-f274-4882-8b7f-337f33df2f1b",
   "metadata": {},
   "outputs": [],
   "source": [
    "b=[1,3,5,6,8,9,\"parikshit\",]"
   ]
  },
  {
   "cell_type": "code",
   "execution_count": 6,
   "id": "ff1d93d5-19fb-4974-9d48-854049003995",
   "metadata": {},
   "outputs": [
    {
     "data": {
      "text/plain": [
       "[1, 3, 5, 6, 8, 9, 'parikshit']"
      ]
     },
     "execution_count": 6,
     "metadata": {},
     "output_type": "execute_result"
    }
   ],
   "source": [
    "b"
   ]
  },
  {
   "cell_type": "code",
   "execution_count": 7,
   "id": "214f3cbb-3336-4d30-a1b0-c6e76cf76617",
   "metadata": {},
   "outputs": [
    {
     "data": {
      "text/plain": [
       "list"
      ]
     },
     "execution_count": 7,
     "metadata": {},
     "output_type": "execute_result"
    }
   ],
   "source": [
    "type(b)"
   ]
  },
  {
   "cell_type": "code",
   "execution_count": 8,
   "id": "4254d2ea-2c90-40a9-8050-164643669726",
   "metadata": {},
   "outputs": [],
   "source": [
    "c=234.345"
   ]
  },
  {
   "cell_type": "code",
   "execution_count": 9,
   "id": "525c9b11-bff0-493e-b375-e7bdbc47bdbf",
   "metadata": {},
   "outputs": [
    {
     "data": {
      "text/plain": [
       "234.345"
      ]
     },
     "execution_count": 9,
     "metadata": {},
     "output_type": "execute_result"
    }
   ],
   "source": [
    "c"
   ]
  },
  {
   "cell_type": "code",
   "execution_count": 10,
   "id": "0dd873e7-0659-4853-a584-d7f29e3a1cf0",
   "metadata": {},
   "outputs": [
    {
     "data": {
      "text/plain": [
       "float"
      ]
     },
     "execution_count": 10,
     "metadata": {},
     "output_type": "execute_result"
    }
   ],
   "source": [
    "type(c)"
   ]
  },
  {
   "cell_type": "code",
   "execution_count": 11,
   "id": "2e412c14-28b7-495f-af85-d716ac67befd",
   "metadata": {},
   "outputs": [],
   "source": [
    "d=(2,4,5)"
   ]
  },
  {
   "cell_type": "code",
   "execution_count": 12,
   "id": "b122b9f5-a4f0-4997-b190-8bfd7d844bd2",
   "metadata": {},
   "outputs": [
    {
     "data": {
      "text/plain": [
       "(2, 4, 5)"
      ]
     },
     "execution_count": 12,
     "metadata": {},
     "output_type": "execute_result"
    }
   ],
   "source": [
    "d"
   ]
  },
  {
   "cell_type": "code",
   "execution_count": 13,
   "id": "8053672e-13f8-4dfb-8efb-6972c11af052",
   "metadata": {},
   "outputs": [
    {
     "data": {
      "text/plain": [
       "tuple"
      ]
     },
     "execution_count": 13,
     "metadata": {},
     "output_type": "execute_result"
    }
   ],
   "source": [
    "type(d)"
   ]
  },
  {
   "cell_type": "raw",
   "id": "86089945-0466-4eb4-9293-49fcd15dfa82",
   "metadata": {},
   "source": [
    "Checking the data types of the given variables\n",
    "var1 = ‘ ‘\n",
    "var2 = ‘[ DS , ML , Python]’\n",
    "var3 = [ ‘DS’ , ’ML’ , ‘Python’ ]\n",
    "var4 = 1"
   ]
  },
  {
   "cell_type": "code",
   "execution_count": 14,
   "id": "4ce65843-fa47-4850-a5ee-642afce13d29",
   "metadata": {},
   "outputs": [],
   "source": [
    "a=''"
   ]
  },
  {
   "cell_type": "code",
   "execution_count": 21,
   "id": "7f0143d4-31cf-4e6d-83df-78cb94e5dd1b",
   "metadata": {},
   "outputs": [
    {
     "data": {
      "text/plain": [
       "str"
      ]
     },
     "execution_count": 21,
     "metadata": {},
     "output_type": "execute_result"
    }
   ],
   "source": [
    "type(a)"
   ]
  },
  {
   "cell_type": "code",
   "execution_count": 22,
   "id": "bfab533b-b37e-4fa0-8d5c-4e3a496aac07",
   "metadata": {},
   "outputs": [],
   "source": [
    "b='DS,ML,Python'"
   ]
  },
  {
   "cell_type": "code",
   "execution_count": 23,
   "id": "72edefa9-894b-4a5d-b4b7-a4a61f5a069c",
   "metadata": {},
   "outputs": [
    {
     "data": {
      "text/plain": [
       "str"
      ]
     },
     "execution_count": 23,
     "metadata": {},
     "output_type": "execute_result"
    }
   ],
   "source": [
    "type(b)"
   ]
  },
  {
   "cell_type": "code",
   "execution_count": 25,
   "id": "130813dc-000f-44cc-8ed1-7fd989ff5a6f",
   "metadata": {},
   "outputs": [],
   "source": [
    "c=['DS','ML','Python']"
   ]
  },
  {
   "cell_type": "code",
   "execution_count": 26,
   "id": "e612437b-fb4c-4122-947b-f542f1b0f0e9",
   "metadata": {},
   "outputs": [
    {
     "data": {
      "text/plain": [
       "list"
      ]
     },
     "execution_count": 26,
     "metadata": {},
     "output_type": "execute_result"
    }
   ],
   "source": [
    "type(c)"
   ]
  },
  {
   "cell_type": "code",
   "execution_count": 27,
   "id": "a5995134-2149-4398-8b08-cc759d651463",
   "metadata": {},
   "outputs": [],
   "source": [
    "d=1"
   ]
  },
  {
   "cell_type": "code",
   "execution_count": 28,
   "id": "3569e940-aba8-4583-a02c-2a91fe902ffc",
   "metadata": {},
   "outputs": [
    {
     "data": {
      "text/plain": [
       "int"
      ]
     },
     "execution_count": 28,
     "metadata": {},
     "output_type": "execute_result"
    }
   ],
   "source": [
    "type(d)"
   ]
  },
  {
   "cell_type": "raw",
   "id": "eec31b69-7f6e-45e6-9d48-5452e892a77b",
   "metadata": {},
   "source": [
    "Explain the use of following opeartors using examples\n",
    "/\n",
    "%\n",
    "//\n",
    "**"
   ]
  },
  {
   "cell_type": "raw",
   "id": "147a5b98-7fc2-4624-a066-0cb07379500e",
   "metadata": {},
   "source": [
    "/ is an arithmetic operator used for division as shown below 10 on division with 2 gives 5 ."
   ]
  },
  {
   "cell_type": "code",
   "execution_count": 34,
   "id": "d9d17d41-927c-44b0-a3e3-a47485237767",
   "metadata": {},
   "outputs": [
    {
     "data": {
      "text/plain": [
       "5.0"
      ]
     },
     "execution_count": 34,
     "metadata": {},
     "output_type": "execute_result"
    }
   ],
   "source": [
    "10/2"
   ]
  },
  {
   "cell_type": "raw",
   "id": "dedda41b-f95d-4ab7-8a0c-043dba96e67f",
   "metadata": {},
   "source": [
    "% is also an arithmetic operator further classified as remainder operator , as given below 2 completely divides 10 so answer is zero."
   ]
  },
  {
   "cell_type": "code",
   "execution_count": 30,
   "id": "a40e06a3-be35-495e-bd9d-44c929f6a459",
   "metadata": {},
   "outputs": [
    {
     "data": {
      "text/plain": [
       "0"
      ]
     },
     "execution_count": 30,
     "metadata": {},
     "output_type": "execute_result"
    }
   ],
   "source": [
    "10%2"
   ]
  },
  {
   "cell_type": "raw",
   "id": "8678b1e0-3201-4484-afe3-5c8b601d19d0",
   "metadata": {},
   "source": [
    "// it is a division floor it rounds the result to nearest whole number , as given below basically quotient that is 3 as 3*3 is 9 on further dividing it will result in points so its rounding off till 3 only."
   ]
  },
  {
   "cell_type": "code",
   "execution_count": 32,
   "id": "00ff4fca-60c7-4417-977c-3e10fbac151b",
   "metadata": {},
   "outputs": [
    {
     "data": {
      "text/plain": [
       "3"
      ]
     },
     "execution_count": 32,
     "metadata": {},
     "output_type": "execute_result"
    }
   ],
   "source": [
    "11//3"
   ]
  },
  {
   "cell_type": "raw",
   "id": "e7069d70-212f-4d13-a1bd-2c472243e4ee",
   "metadata": {},
   "source": [
    "** it is an power operator used for solving power questions or someething related as it basically tells u the power of the number and how many times , as given below power of 2 , 3 times is 2*2 which is 4 further*2 which is 8. 2**3 = 2*2*2"
   ]
  },
  {
   "cell_type": "code",
   "execution_count": 35,
   "id": "e7792d86-49e4-47c6-8edb-29d4b2d794a7",
   "metadata": {},
   "outputs": [
    {
     "data": {
      "text/plain": [
       "8"
      ]
     },
     "execution_count": 35,
     "metadata": {},
     "output_type": "execute_result"
    }
   ],
   "source": [
    "2**3"
   ]
  },
  {
   "cell_type": "raw",
   "id": "fc413227-612f-49ae-b985-ddb4b27a6f99",
   "metadata": {},
   "source": [
    "Create a list of length 10 of your choice containing multiple types of data. Using for loop print the\n",
    "element and its data type."
   ]
  },
  {
   "cell_type": "code",
   "execution_count": 36,
   "id": "5a4523c2-34b4-480e-903d-ae21b6548765",
   "metadata": {},
   "outputs": [],
   "source": [
    "z=[1,2,3,4,5,'parikshit',5+7j,True,13.54,100]"
   ]
  },
  {
   "cell_type": "code",
   "execution_count": 44,
   "id": "ab0427ff-a63e-4a2c-9e99-10bcd5d46711",
   "metadata": {},
   "outputs": [
    {
     "data": {
      "text/plain": [
       "[1, 2, 3, 4, 5, 'parikshit', '5+7j', True, 13.54, 100]"
      ]
     },
     "execution_count": 44,
     "metadata": {},
     "output_type": "execute_result"
    }
   ],
   "source": [
    "z"
   ]
  },
  {
   "cell_type": "code",
   "execution_count": 45,
   "id": "db95eb24-715c-49cb-aedf-07b0937a364d",
   "metadata": {},
   "outputs": [
    {
     "name": "stdout",
     "output_type": "stream",
     "text": [
      "1\n",
      "2\n",
      "3\n",
      "4\n",
      "5\n",
      "parikshit\n",
      "5+7j\n",
      "True\n",
      "13.54\n",
      "100\n"
     ]
    }
   ],
   "source": [
    "for i in z:\n",
    "    print(i)"
   ]
  },
  {
   "cell_type": "code",
   "execution_count": 46,
   "id": "87df8f4f-d202-4b3d-97df-dc5b64f3ec1d",
   "metadata": {},
   "outputs": [
    {
     "name": "stdout",
     "output_type": "stream",
     "text": [
      "1\n",
      "<class 'int'>\n",
      "2\n",
      "<class 'int'>\n",
      "3\n",
      "<class 'int'>\n",
      "4\n",
      "<class 'int'>\n",
      "5\n",
      "<class 'int'>\n",
      "parikshit\n",
      "<class 'str'>\n",
      "5+7j\n",
      "<class 'str'>\n",
      "True\n",
      "<class 'bool'>\n",
      "13.54\n",
      "<class 'float'>\n",
      "100\n",
      "<class 'int'>\n"
     ]
    }
   ],
   "source": [
    "for i in z:\n",
    "    print(i)\n",
    "    print(type(i))"
   ]
  }
 ],
 "metadata": {
  "kernelspec": {
   "display_name": "Python 3 (ipykernel)",
   "language": "python",
   "name": "python3"
  },
  "language_info": {
   "codemirror_mode": {
    "name": "ipython",
    "version": 3
   },
   "file_extension": ".py",
   "mimetype": "text/x-python",
   "name": "python",
   "nbconvert_exporter": "python",
   "pygments_lexer": "ipython3",
   "version": "3.10.8"
  }
 },
 "nbformat": 4,
 "nbformat_minor": 5
}

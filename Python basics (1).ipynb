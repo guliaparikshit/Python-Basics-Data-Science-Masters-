{
 "cells": [
  {
   "cell_type": "code",
   "execution_count": 1,
   "id": "e571936e-9581-411f-8ee3-ef56363c8427",
   "metadata": {},
   "outputs": [
    {
     "data": {
      "text/plain": [
       "3"
      ]
     },
     "execution_count": 1,
     "metadata": {},
     "output_type": "execute_result"
    }
   ],
   "source": [
    "1+2"
   ]
  },
  {
   "cell_type": "code",
   "execution_count": 2,
   "id": "05b0ef82-9ed9-4497-8f3a-129585a41314",
   "metadata": {},
   "outputs": [
    {
     "name": "stdout",
     "output_type": "stream",
     "text": [
      "3\n"
     ]
    }
   ],
   "source": [
    "print(1+2)"
   ]
  },
  {
   "cell_type": "code",
   "execution_count": 3,
   "id": "10f50294-a85b-4895-8f3b-e087959b16ec",
   "metadata": {},
   "outputs": [
    {
     "name": "stdout",
     "output_type": "stream",
     "text": [
      "\n"
     ]
    }
   ],
   "source": [
    "print()"
   ]
  },
  {
   "cell_type": "code",
   "execution_count": 4,
   "id": "f5d3535b-1029-4baa-834e-613b49b298bb",
   "metadata": {},
   "outputs": [
    {
     "name": "stdout",
     "output_type": "stream",
     "text": [
      "parikshit \n",
      " 231302245\n"
     ]
    }
   ],
   "source": [
    "print(\"parikshit \\n 231302245\")"
   ]
  },
  {
   "cell_type": "code",
   "execution_count": 7,
   "id": "cc6dca68-135e-4bdf-b4f0-6af7db2ffc37",
   "metadata": {},
   "outputs": [],
   "source": [
    "b=\"parikshit\""
   ]
  },
  {
   "cell_type": "code",
   "execution_count": 8,
   "id": "659250f2-73d2-4029-9ca0-4d3abb70b7bc",
   "metadata": {},
   "outputs": [
    {
     "data": {
      "text/plain": [
       "str"
      ]
     },
     "execution_count": 8,
     "metadata": {},
     "output_type": "execute_result"
    }
   ],
   "source": [
    "type(\"parikshit\")"
   ]
  },
  {
   "cell_type": "code",
   "execution_count": 9,
   "id": "9d8536f5-e0e9-4d94-a3f5-52e2e9662b0c",
   "metadata": {},
   "outputs": [
    {
     "data": {
      "text/plain": [
       "'23'"
      ]
     },
     "execution_count": 9,
     "metadata": {},
     "output_type": "execute_result"
    }
   ],
   "source": [
    "str(23)"
   ]
  },
  {
   "cell_type": "code",
   "execution_count": 10,
   "id": "a30e696b-eab6-4de3-a527-ee0b91b7754f",
   "metadata": {},
   "outputs": [
    {
     "data": {
      "text/plain": [
       "str"
      ]
     },
     "execution_count": 10,
     "metadata": {},
     "output_type": "execute_result"
    }
   ],
   "source": [
    "type(str(23))"
   ]
  },
  {
   "cell_type": "code",
   "execution_count": 1,
   "id": "c3ea3e2c-eef6-4b38-8a04-595596e019ae",
   "metadata": {},
   "outputs": [],
   "source": [
    "#concatination happens in string"
   ]
  },
  {
   "cell_type": "code",
   "execution_count": 2,
   "id": "9f039133-2bdd-462f-9bcc-b1327741ad31",
   "metadata": {},
   "outputs": [
    {
     "data": {
      "text/plain": [
       "'11'"
      ]
     },
     "execution_count": 2,
     "metadata": {},
     "output_type": "execute_result"
    }
   ],
   "source": [
    "\"1\"+\"1\""
   ]
  },
  {
   "cell_type": "code",
   "execution_count": 3,
   "id": "46e72d8c-83f5-424f-b2ad-55a39e3029df",
   "metadata": {},
   "outputs": [
    {
     "data": {
      "text/plain": [
       "2"
      ]
     },
     "execution_count": 3,
     "metadata": {},
     "output_type": "execute_result"
    }
   ],
   "source": [
    "int(1)+int(1)"
   ]
  },
  {
   "cell_type": "code",
   "execution_count": 4,
   "id": "a8573303-36a2-494e-8603-700eacb53b58",
   "metadata": {},
   "outputs": [
    {
     "ename": "TypeError",
     "evalue": "can't multiply sequence by non-int of type 'str'",
     "output_type": "error",
     "traceback": [
      "\u001b[0;31m---------------------------------------------------------------------------\u001b[0m",
      "\u001b[0;31mTypeError\u001b[0m                                 Traceback (most recent call last)",
      "Cell \u001b[0;32mIn[4], line 1\u001b[0m\n\u001b[0;32m----> 1\u001b[0m \u001b[38;5;124;43m\"\u001b[39;49m\u001b[38;5;124;43m1\u001b[39;49m\u001b[38;5;124;43m\"\u001b[39;49m\u001b[38;5;241;43m*\u001b[39;49m\u001b[38;5;124;43m\"\u001b[39;49m\u001b[38;5;124;43m1\u001b[39;49m\u001b[38;5;124;43m\"\u001b[39;49m\n",
      "\u001b[0;31mTypeError\u001b[0m: can't multiply sequence by non-int of type 'str'"
     ]
    }
   ],
   "source": [
    "\"1\"*\"1\""
   ]
  },
  {
   "cell_type": "code",
   "execution_count": 5,
   "id": "95addca2-db0c-46b5-a207-3f9ed8992bcc",
   "metadata": {},
   "outputs": [
    {
     "data": {
      "text/plain": [
       "'1111111111111111111111111111111111111111111111111111111111111111111111111111111111111111111111111111'"
      ]
     },
     "execution_count": 5,
     "metadata": {},
     "output_type": "execute_result"
    }
   ],
   "source": [
    "\"1\" * 100"
   ]
  },
  {
   "cell_type": "code",
   "execution_count": 7,
   "id": "42880f83-acb4-4be0-bbaa-e9a5096d1082",
   "metadata": {},
   "outputs": [
    {
     "data": {
      "text/plain": [
       "'1111111111'"
      ]
     },
     "execution_count": 7,
     "metadata": {},
     "output_type": "execute_result"
    }
   ],
   "source": [
    "\"1\" * 10"
   ]
  },
  {
   "cell_type": "code",
   "execution_count": 1,
   "id": "14218d9c-3f8c-431e-b185-a1a7ff3dca89",
   "metadata": {},
   "outputs": [
    {
     "data": {
      "text/plain": [
       "3"
      ]
     },
     "execution_count": 1,
     "metadata": {},
     "output_type": "execute_result"
    }
   ],
   "source": [
    "1+2"
   ]
  },
  {
   "cell_type": "code",
   "execution_count": 2,
   "id": "448d4714-b7b4-4578-bfcc-49ffc01d4bca",
   "metadata": {},
   "outputs": [
    {
     "data": {
      "text/plain": [
       "3.5"
      ]
     },
     "execution_count": 2,
     "metadata": {},
     "output_type": "execute_result"
    }
   ],
   "source": [
    "7/2"
   ]
  },
  {
   "cell_type": "code",
   "execution_count": 3,
   "id": "2f2714d4-0345-499e-b563-d7d4c39ef0b3",
   "metadata": {},
   "outputs": [
    {
     "name": "stdout",
     "output_type": "stream",
     "text": [
      "my name is parikshit\n"
     ]
    }
   ],
   "source": [
    "print(\"my name is parikshit\")"
   ]
  },
  {
   "cell_type": "code",
   "execution_count": 7,
   "id": "19e59bd6-dba9-4676-862b-363ebbba9f78",
   "metadata": {},
   "outputs": [
    {
     "name": "stdout",
     "output_type": "stream",
     "text": [
      "my name is,  rahul\n"
     ]
    }
   ],
   "source": [
    "print(\"my name is, \",age)"
   ]
  },
  {
   "cell_type": "code",
   "execution_count": 6,
   "id": "a7050af5-7bdd-4cfb-a514-397b92f686d2",
   "metadata": {},
   "outputs": [],
   "source": [
    "age=\"rahul\""
   ]
  },
  {
   "cell_type": "code",
   "execution_count": 11,
   "id": "972afeb1-26ea-4689-960b-0da9df1bd407",
   "metadata": {},
   "outputs": [
    {
     "name": "stdout",
     "output_type": "stream",
     "text": [
      "my name is: rahul\n"
     ]
    }
   ],
   "source": [
    "print(f\"my name is: {age}\")"
   ]
  },
  {
   "cell_type": "code",
   "execution_count": 12,
   "id": "f889a31e-c886-4cd0-bac5-40808faaed00",
   "metadata": {},
   "outputs": [
    {
     "name": "stdout",
     "output_type": "stream",
     "text": [
      "my name is rahul\n"
     ]
    }
   ],
   "source": [
    "print(\"my name is {}\".format(age))"
   ]
  },
  {
   "cell_type": "code",
   "execution_count": 16,
   "id": "7bb5701b-bd71-4683-9aa5-b1f0dabf78d6",
   "metadata": {},
   "outputs": [],
   "source": [
    "name = \"parikshit\"\n",
    "age = 19\n",
    "degree = \"Btech\""
   ]
  },
  {
   "cell_type": "code",
   "execution_count": 17,
   "id": "3e814914-91f4-4a17-a3df-07d1b6bd5024",
   "metadata": {},
   "outputs": [
    {
     "name": "stdout",
     "output_type": "stream",
     "text": [
      "my age is 19 and my degree is Btech with the name of parikshit\n"
     ]
    }
   ],
   "source": [
    "print(\"my age is {} and my degree is {} with the name of {}\".format(age,degree,name))"
   ]
  },
  {
   "cell_type": "code",
   "execution_count": 18,
   "id": "5042aa4b-a702-47e6-a08c-72af73580126",
   "metadata": {},
   "outputs": [
    {
     "name": "stdout",
     "output_type": "stream",
     "text": [
      "my age is Btech and my degree is 19 with the name of parikshit\n"
     ]
    }
   ],
   "source": [
    "print(\"my age is {} and my degree is {} with the name of {}\".format(degree,age,name))"
   ]
  },
  {
   "cell_type": "code",
   "execution_count": 19,
   "id": "c23a162c-7d91-49be-bca9-fc7340136a59",
   "metadata": {},
   "outputs": [],
   "source": [
    "#to solve this we use placeholder bascially assigns a value to the placce holder"
   ]
  },
  {
   "cell_type": "code",
   "execution_count": 20,
   "id": "24a3020e-eb02-42e2-bc11-f656bab34187",
   "metadata": {},
   "outputs": [
    {
     "name": "stdout",
     "output_type": "stream",
     "text": [
      "my age is 19 and my degree is Btech with the name of parikshit\n"
     ]
    }
   ],
   "source": [
    "print(\"my age is {a} and my degree is {b} with the name of {c}\".format(a=age,b=degree,c=name))"
   ]
  },
  {
   "cell_type": "markdown",
   "id": "a467f255-d6d2-4350-b330-7d49570e9632",
   "metadata": {
    "tags": []
   },
   "source": [
    "## control flow\n",
    "### decision making statements"
   ]
  },
  {
   "cell_type": "code",
   "execution_count": 35,
   "id": "b5a2b7ff-76eb-41c4-bdfb-c21ed6736ec4",
   "metadata": {},
   "outputs": [
    {
     "name": "stdin",
     "output_type": "stream",
     "text": [
      "enter the number 2\n"
     ]
    },
    {
     "data": {
      "text/plain": [
       "2"
      ]
     },
     "execution_count": 35,
     "metadata": {},
     "output_type": "execute_result"
    }
   ],
   "source": [
    "int(input(\"enter the number\"))"
   ]
  },
  {
   "cell_type": "code",
   "execution_count": 36,
   "id": "df4fac0e-10f2-46a4-ac61-c0b1e61b427e",
   "metadata": {},
   "outputs": [
    {
     "name": "stdin",
     "output_type": "stream",
     "text": [
      "enter the age 2\n"
     ]
    }
   ],
   "source": [
    "age=int(input(\"enter the age\"))"
   ]
  },
  {
   "cell_type": "code",
   "execution_count": 38,
   "id": "3e1fd9a4-35e4-4b84-9e59-b2201e064140",
   "metadata": {},
   "outputs": [
    {
     "name": "stdin",
     "output_type": "stream",
     "text": [
      "enter the age 1\n"
     ]
    },
    {
     "name": "stdout",
     "output_type": "stream",
     "text": [
      "u r not eligible to vote\n"
     ]
    }
   ],
   "source": [
    "age=int(input(\"enter the age\"))\n",
    "if age>18:\n",
    "    print(\"u r eligible to vote\")\n",
    "else:\n",
    "        print(\"u r not eligible to vote\")"
   ]
  },
  {
   "cell_type": "code",
   "execution_count": 39,
   "id": "f3c5baf0-9098-412f-8c9e-0b0b04d1a0d7",
   "metadata": {},
   "outputs": [
    {
     "name": "stdin",
     "output_type": "stream",
     "text": [
      "enter the age 18\n"
     ]
    },
    {
     "name": "stdout",
     "output_type": "stream",
     "text": [
      "1 more year buddy\n"
     ]
    }
   ],
   "source": [
    "age=int(input(\"enter the age\"))\n",
    "if age>18:\n",
    "    print(\"u r eligible to vote\")\n",
    "elif age==18:\n",
    "        print(\"1 more year buddy\")\n",
    "else:\n",
    "        print(\"u r not eligible to vote\")"
   ]
  },
  {
   "cell_type": "code",
   "execution_count": 40,
   "id": "4bfd6207-419c-4cee-a873-5051b057d77b",
   "metadata": {},
   "outputs": [],
   "source": [
    "#mall republic day event,buy gifts something\n",
    "##1000 se jada money wale saman pr discount of 10%\n",
    "###1000 ke barabr ya us se km pr 30%"
   ]
  },
  {
   "cell_type": "code",
   "execution_count": 55,
   "id": "162b6a26-eb79-4750-867d-b04bb0be9d43",
   "metadata": {},
   "outputs": [
    {
     "name": "stdin",
     "output_type": "stream",
     "text": [
      "enter the price of ur product 123456\n"
     ]
    },
    {
     "name": "stdout",
     "output_type": "stream",
     "text": [
      "congratulations u r eligible for 10% off\n"
     ]
    }
   ],
   "source": [
    "product_price =int(input(\"enter the price of ur product\"))\n",
    "if product_price>1000:\n",
    "    print(\"congratulations u r eligible for 10% off\")\n",
    "elif product_price<=1000:\n",
    "    print(\"congrats congrats u r eligible for 30% off\")"
   ]
  },
  {
   "cell_type": "code",
   "execution_count": 61,
   "id": "789f2291-c261-4679-9cf6-388015f73030",
   "metadata": {},
   "outputs": [
    {
     "name": "stdin",
     "output_type": "stream",
     "text": [
      "enter the price of ur product 1000\n"
     ]
    },
    {
     "name": "stdout",
     "output_type": "stream",
     "text": [
      "congrats congrats u r eligible for 30% off and u ur current value of product is 700.0\n"
     ]
    }
   ],
   "source": [
    "product_price =int(input(\"enter the price of ur product\"))\n",
    "if product_price>1000:\n",
    "    print(\"congratulations u r eligible for 10% off and u ur current value of product is {}\".format(product_price-product_price*0.1))\n",
    "elif product_price<=1000:\n",
    "    print(\"congrats congrats u r eligible for 30% off and u ur current value of product is {}\".format(product_price-product_price*0.3))"
   ]
  },
  {
   "cell_type": "code",
   "execution_count": 64,
   "id": "cfa98110-dbdb-41a6-b334-d5dcf46ce013",
   "metadata": {},
   "outputs": [
    {
     "name": "stdin",
     "output_type": "stream",
     "text": [
      "enter the price of ur product 2000\n"
     ]
    },
    {
     "name": "stdout",
     "output_type": "stream",
     "text": [
      "congratulations u r eligible for 10% off and u ur current value of product is 1800.0\n"
     ]
    }
   ],
   "source": [
    "product_price =int(input(\"enter the price of ur product\"))\n",
    "if product_price>1000:\n",
    "    print(\"congratulations u r eligible for 10% off and u ur current value of product is {}\".format(product_price-product_price*0.1))\n",
    "elif product_price<=1000:\n",
    "    print(\"congrats congrats u r eligible for 30% off and u ur current value of product is {}\".format(product_price-product_price*0.3))"
   ]
  },
  {
   "cell_type": "code",
   "execution_count": null,
   "id": "da8fda08-2334-4178-b9c9-b70c445c66d6",
   "metadata": {},
   "outputs": [],
   "source": []
  }
 ],
 "metadata": {
  "kernelspec": {
   "display_name": "Python 3 (ipykernel)",
   "language": "python",
   "name": "python3"
  },
  "language_info": {
   "codemirror_mode": {
    "name": "ipython",
    "version": 3
   },
   "file_extension": ".py",
   "mimetype": "text/x-python",
   "name": "python",
   "nbconvert_exporter": "python",
   "pygments_lexer": "ipython3",
   "version": "3.10.8"
  }
 },
 "nbformat": 4,
 "nbformat_minor": 5
}

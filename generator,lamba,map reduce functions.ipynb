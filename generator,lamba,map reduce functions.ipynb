{
 "cells": [
  {
   "cell_type": "code",
   "execution_count": 1,
   "id": "6272f2a2-e2df-49b1-b668-33844e811751",
   "metadata": {},
   "outputs": [],
   "source": [
    "#generator functions"
   ]
  },
  {
   "cell_type": "markdown",
   "id": "981a16de-6079-41c7-a9a3-58ee904a7f5d",
   "metadata": {},
   "source": [
    "fibonaaci series"
   ]
  },
  {
   "cell_type": "code",
   "execution_count": 10,
   "id": "735206f3-8262-4632-8885-74ecb2f6bccc",
   "metadata": {},
   "outputs": [],
   "source": [
    "def test_fib(n):\n",
    "    a,b = 0,1\n",
    "    for i in range(n):\n",
    "        yield a\n",
    "        a,b=b,a+b"
   ]
  },
  {
   "cell_type": "code",
   "execution_count": 11,
   "id": "02b0c3cc-1a2f-4406-87df-24b1989208e2",
   "metadata": {},
   "outputs": [
    {
     "data": {
      "text/plain": [
       "<generator object test_fib at 0x7233b6cd1af0>"
      ]
     },
     "execution_count": 11,
     "metadata": {},
     "output_type": "execute_result"
    }
   ],
   "source": [
    "test_fib(10)"
   ]
  },
  {
   "cell_type": "code",
   "execution_count": 12,
   "id": "cce6b672-accc-4fbf-85cd-c9351d7fd933",
   "metadata": {},
   "outputs": [
    {
     "name": "stdout",
     "output_type": "stream",
     "text": [
      "0\n",
      "1\n",
      "1\n",
      "2\n",
      "3\n",
      "5\n",
      "8\n",
      "13\n",
      "21\n",
      "34\n"
     ]
    }
   ],
   "source": [
    "for i in test_fib(10):\n",
    "    print(i)"
   ]
  },
  {
   "cell_type": "code",
   "execution_count": 13,
   "id": "c23bc022-9aba-45e6-8375-a4be1e3d2044",
   "metadata": {},
   "outputs": [],
   "source": [
    "#lamda functions"
   ]
  },
  {
   "cell_type": "code",
   "execution_count": 14,
   "id": "83759bdb-e0e6-452c-b22a-45a33b1d1993",
   "metadata": {},
   "outputs": [],
   "source": [
    "n=3\n",
    "p=4"
   ]
  },
  {
   "cell_type": "code",
   "execution_count": 15,
   "id": "832eb809-6668-4e06-a802-b60e9832bb68",
   "metadata": {},
   "outputs": [],
   "source": [
    "def test3(n,p):\n",
    "    return n**p"
   ]
  },
  {
   "cell_type": "code",
   "execution_count": 16,
   "id": "1b7447e5-33bd-4f4e-822b-7203dae16973",
   "metadata": {},
   "outputs": [
    {
     "data": {
      "text/plain": [
       "81"
      ]
     },
     "execution_count": 16,
     "metadata": {},
     "output_type": "execute_result"
    }
   ],
   "source": [
    "test3(3,4)"
   ]
  },
  {
   "cell_type": "code",
   "execution_count": 18,
   "id": "22c878f5-346e-4516-a786-ff3173f0eb02",
   "metadata": {},
   "outputs": [],
   "source": [
    "q=lambda n,p : n**p"
   ]
  },
  {
   "cell_type": "code",
   "execution_count": 19,
   "id": "7ecad73f-4959-4603-b170-308670b53ac0",
   "metadata": {},
   "outputs": [
    {
     "data": {
      "text/plain": [
       "<function __main__.<lambda>(n, p)>"
      ]
     },
     "execution_count": 19,
     "metadata": {},
     "output_type": "execute_result"
    }
   ],
   "source": [
    "q"
   ]
  },
  {
   "cell_type": "code",
   "execution_count": 21,
   "id": "c1c3277e-cb07-4da1-8150-b484f1306c91",
   "metadata": {},
   "outputs": [
    {
     "data": {
      "text/plain": [
       "64"
      ]
     },
     "execution_count": 21,
     "metadata": {},
     "output_type": "execute_result"
    }
   ],
   "source": [
    "q(4,3)"
   ]
  },
  {
   "cell_type": "code",
   "execution_count": 22,
   "id": "aafb128c-eb5e-4cb8-8ab1-af8ef574bca0",
   "metadata": {},
   "outputs": [
    {
     "data": {
      "text/plain": [
       "10000000000"
      ]
     },
     "execution_count": 22,
     "metadata": {},
     "output_type": "execute_result"
    }
   ],
   "source": [
    "q(10,10)"
   ]
  },
  {
   "cell_type": "code",
   "execution_count": 23,
   "id": "2d91896e-bf7e-4e39-8312-1258c9584698",
   "metadata": {},
   "outputs": [],
   "source": [
    "add = lambda x,y:x+y"
   ]
  },
  {
   "cell_type": "code",
   "execution_count": 24,
   "id": "ca2bee71-6a2b-48e2-b374-ba15f0b7df28",
   "metadata": {},
   "outputs": [
    {
     "data": {
      "text/plain": [
       "103332"
      ]
     },
     "execution_count": 24,
     "metadata": {},
     "output_type": "execute_result"
    }
   ],
   "source": [
    "add(4567,98765)"
   ]
  },
  {
   "cell_type": "code",
   "execution_count": 26,
   "id": "204c41b1-ab9b-43ab-9457-4675af78d654",
   "metadata": {},
   "outputs": [],
   "source": [
    "c_to_f = lambda c : 9/5*c + 32"
   ]
  },
  {
   "cell_type": "code",
   "execution_count": 27,
   "id": "0ce27088-e719-4d3e-8dde-69448a5d3e44",
   "metadata": {},
   "outputs": [
    {
     "data": {
      "text/plain": [
       "32.0"
      ]
     },
     "execution_count": 27,
     "metadata": {},
     "output_type": "execute_result"
    }
   ],
   "source": [
    "c_to_f(0)"
   ]
  },
  {
   "cell_type": "code",
   "execution_count": 28,
   "id": "4162f112-467a-4de9-83b4-b427b31236b9",
   "metadata": {},
   "outputs": [],
   "source": [
    "maxi=lambda x,y : x if x>y else y"
   ]
  },
  {
   "cell_type": "code",
   "execution_count": 29,
   "id": "dd8640c5-b386-447a-91f0-789c09a5ba26",
   "metadata": {},
   "outputs": [
    {
     "data": {
      "text/plain": [
       "987"
      ]
     },
     "execution_count": 29,
     "metadata": {},
     "output_type": "execute_result"
    }
   ],
   "source": [
    "maxi(56,987)"
   ]
  },
  {
   "cell_type": "code",
   "execution_count": 30,
   "id": "4aa9aacd-af7a-4216-a26b-8a36dac5f541",
   "metadata": {},
   "outputs": [],
   "source": [
    "#map reduce , filter functions"
   ]
  },
  {
   "cell_type": "code",
   "execution_count": 43,
   "id": "79975d72-7b13-4252-9d91-3915268e10da",
   "metadata": {},
   "outputs": [],
   "source": [
    "l1 =[1,2,3,4,5,6,7,8,9,10]"
   ]
  },
  {
   "cell_type": "code",
   "execution_count": 44,
   "id": "5815c9cd-3f72-42b7-9fff-c67d22fe4442",
   "metadata": {},
   "outputs": [
    {
     "data": {
      "text/plain": [
       "[1, 4, 9, 16, 25, 36, 49, 64, 81, 100]"
      ]
     },
     "execution_count": 44,
     "metadata": {},
     "output_type": "execute_result"
    }
   ],
   "source": [
    "[i**2 for i in l1]"
   ]
  },
  {
   "cell_type": "code",
   "execution_count": 45,
   "id": "34111f65-55d6-485a-9b58-612d15cc5117",
   "metadata": {},
   "outputs": [
    {
     "data": {
      "text/plain": [
       "[1, 2, 3, 4, 5, 6, 7, 8, 9, 10]"
      ]
     },
     "execution_count": 45,
     "metadata": {},
     "output_type": "execute_result"
    }
   ],
   "source": [
    "l1"
   ]
  },
  {
   "cell_type": "code",
   "execution_count": 65,
   "id": "059447b3-90c7-4624-9572-2e2d21e433d5",
   "metadata": {},
   "outputs": [],
   "source": [
    "def test34(l1):\n",
    "    l2=[]\n",
    "    for i in l1:\n",
    "        l2.append(i**2)\n",
    "    return l2"
   ]
  },
  {
   "cell_type": "code",
   "execution_count": 66,
   "id": "9c35c478-102b-4518-8788-75375a447cba",
   "metadata": {},
   "outputs": [
    {
     "data": {
      "text/plain": [
       "[1, 4, 9, 16, 25, 36, 49, 64, 81, 100, 1]"
      ]
     },
     "execution_count": 66,
     "metadata": {},
     "output_type": "execute_result"
    }
   ],
   "source": [
    "test34(l1)"
   ]
  },
  {
   "cell_type": "code",
   "execution_count": 60,
   "id": "15f872c7-00a9-4137-8f86-8d8c16b12f69",
   "metadata": {},
   "outputs": [],
   "source": [
    "s=[1,3,4,5,6]"
   ]
  },
  {
   "cell_type": "code",
   "execution_count": 63,
   "id": "41c0dc21-8826-404f-be6b-20add9fd75f8",
   "metadata": {},
   "outputs": [],
   "source": [
    "def parik1(s):\n",
    "    q=[]\n",
    "    for i in s:\n",
    "        q.append(i**2)\n",
    "    return q\n",
    "           \n",
    "    "
   ]
  },
  {
   "cell_type": "code",
   "execution_count": 64,
   "id": "af2b14bc-7e3b-46c4-ac87-47aa266ff4e2",
   "metadata": {},
   "outputs": [
    {
     "data": {
      "text/plain": [
       "[1, 9, 16, 25, 36]"
      ]
     },
     "execution_count": 64,
     "metadata": {},
     "output_type": "execute_result"
    }
   ],
   "source": [
    "parik1(s)"
   ]
  },
  {
   "cell_type": "code",
   "execution_count": 67,
   "id": "7fbdc0b7-343e-4666-a978-862c7ceffb94",
   "metadata": {},
   "outputs": [],
   "source": [
    "#now how to do same in one line"
   ]
  },
  {
   "cell_type": "code",
   "execution_count": 68,
   "id": "2781bd35-e6e5-49f5-8363-600cdb4069fe",
   "metadata": {},
   "outputs": [],
   "source": [
    "def square(x):\n",
    "    return x**2"
   ]
  },
  {
   "cell_type": "code",
   "execution_count": 69,
   "id": "707f6135-19bb-4953-b8ed-13ded39070c4",
   "metadata": {},
   "outputs": [
    {
     "data": {
      "text/plain": [
       "64"
      ]
     },
     "execution_count": 69,
     "metadata": {},
     "output_type": "execute_result"
    }
   ],
   "source": [
    "square(8)"
   ]
  },
  {
   "cell_type": "code",
   "execution_count": 72,
   "id": "72f717b1-fca7-4ddf-9264-ca5cf3e472c6",
   "metadata": {},
   "outputs": [],
   "source": [
    "jaat=map (square,[1,2,3,4,5,6,7,8,9,10])"
   ]
  },
  {
   "cell_type": "code",
   "execution_count": 73,
   "id": "bf877430-aed0-4176-8cca-bbceb7db2f24",
   "metadata": {},
   "outputs": [
    {
     "name": "stdout",
     "output_type": "stream",
     "text": [
      "1\n",
      "4\n",
      "9\n",
      "16\n",
      "25\n",
      "36\n",
      "49\n",
      "64\n",
      "81\n",
      "100\n"
     ]
    }
   ],
   "source": [
    "for i in jaat:\n",
    "    print (i)"
   ]
  },
  {
   "cell_type": "code",
   "execution_count": 74,
   "id": "d195ed55-82ef-4ac0-b553-f5cf49d8f2c8",
   "metadata": {},
   "outputs": [
    {
     "data": {
      "text/plain": [
       "[1, 4, 9, 16, 25]"
      ]
     },
     "execution_count": 74,
     "metadata": {},
     "output_type": "execute_result"
    }
   ],
   "source": [
    "list(map(square,[1,2,3,4,5]))"
   ]
  },
  {
   "cell_type": "code",
   "execution_count": 76,
   "id": "0159ef22-090f-4bb7-bd36-b1fc61e85b9e",
   "metadata": {},
   "outputs": [
    {
     "data": {
      "text/plain": [
       "(1, 4, 9)"
      ]
     },
     "execution_count": 76,
     "metadata": {},
     "output_type": "execute_result"
    }
   ],
   "source": [
    "tuple(map(square,[1,2,3]))"
   ]
  },
  {
   "cell_type": "code",
   "execution_count": 77,
   "id": "b06b33fd-a973-478a-8e3d-c8e1e24ffa1c",
   "metadata": {},
   "outputs": [
    {
     "data": {
      "text/plain": [
       "[1, 4, 9, 16, 25]"
      ]
     },
     "execution_count": 77,
     "metadata": {},
     "output_type": "execute_result"
    }
   ],
   "source": [
    "list(map(lambda x : x**2,[1,2,3,4,5]))"
   ]
  },
  {
   "cell_type": "code",
   "execution_count": 78,
   "id": "406aaf21-7748-431b-adc6-c46124c2c836",
   "metadata": {},
   "outputs": [],
   "source": [
    "l1=[1,2,3,4]\n",
    "l2=[5,6,7,8]"
   ]
  },
  {
   "cell_type": "code",
   "execution_count": 79,
   "id": "96fd6b06-d527-4142-851c-abe8a12e676b",
   "metadata": {},
   "outputs": [
    {
     "data": {
      "text/plain": [
       "[6, 8, 10, 12]"
      ]
     },
     "execution_count": 79,
     "metadata": {},
     "output_type": "execute_result"
    }
   ],
   "source": [
    "list(map(lambda x,y:x+y , l1,l2))"
   ]
  },
  {
   "cell_type": "code",
   "execution_count": 80,
   "id": "81422bc7-579b-4ca8-8342-acccd760ab03",
   "metadata": {},
   "outputs": [],
   "source": [
    "p = \"parikshit\""
   ]
  },
  {
   "cell_type": "code",
   "execution_count": 81,
   "id": "2fcb2379-0c96-4f14-9e88-53613247d5c0",
   "metadata": {},
   "outputs": [
    {
     "data": {
      "text/plain": [
       "['P', 'A', 'R', 'I', 'K', 'S', 'H', 'I', 'T']"
      ]
     },
     "execution_count": 81,
     "metadata": {},
     "output_type": "execute_result"
    }
   ],
   "source": [
    "list(map(lambda x : x.upper() , p))"
   ]
  },
  {
   "cell_type": "code",
   "execution_count": 102,
   "id": "db4cd542-012b-4c62-aedb-166d23657967",
   "metadata": {},
   "outputs": [
    {
     "name": "stdout",
     "output_type": "stream",
     "text": [
      "P A R I K S H I T "
     ]
    }
   ],
   "source": [
    "for i in p:\n",
    "    print(i.upper(),end=\" \")"
   ]
  },
  {
   "cell_type": "code",
   "execution_count": 98,
   "id": "7fe2600a-4ae7-4e96-b76a-ed8a99b037f5",
   "metadata": {},
   "outputs": [
    {
     "name": "stdout",
     "output_type": "stream",
     "text": [
      "P\n",
      "A\n",
      "R\n",
      "I\n",
      "K\n",
      "S\n",
      "H\n",
      "I\n",
      "T\n"
     ]
    }
   ],
   "source": [
    "for i in p:\n",
    "    print(i.upper())"
   ]
  },
  {
   "cell_type": "code",
   "execution_count": 103,
   "id": "e4d20660-7967-4695-ba8b-8a081214e510",
   "metadata": {},
   "outputs": [],
   "source": [
    "from functools import reduce"
   ]
  },
  {
   "cell_type": "code",
   "execution_count": 105,
   "id": "6140f892-a63e-47c6-974b-c2c63c9fc8ab",
   "metadata": {},
   "outputs": [],
   "source": [
    "g=[1,2,3,44,5]"
   ]
  },
  {
   "cell_type": "code",
   "execution_count": 106,
   "id": "74157aae-81d5-43c8-955f-82308e63a8a5",
   "metadata": {},
   "outputs": [
    {
     "data": {
      "text/plain": [
       "55"
      ]
     },
     "execution_count": 106,
     "metadata": {},
     "output_type": "execute_result"
    }
   ],
   "source": [
    "reduce(lambda x,y : x+y,g)"
   ]
  },
  {
   "cell_type": "code",
   "execution_count": 107,
   "id": "82266b77-29a1-4905-8821-897c0fa5045a",
   "metadata": {},
   "outputs": [],
   "source": [
    "l=[1,2,3,4,5,6]"
   ]
  },
  {
   "cell_type": "code",
   "execution_count": 110,
   "id": "5585700f-1688-4a72-a603-a99ce38fa215",
   "metadata": {},
   "outputs": [
    {
     "data": {
      "text/plain": [
       "<filter at 0x7233b42aaf50>"
      ]
     },
     "execution_count": 110,
     "metadata": {},
     "output_type": "execute_result"
    }
   ],
   "source": [
    "filter(lambda x :  x%2==0,l)"
   ]
  },
  {
   "cell_type": "code",
   "execution_count": 111,
   "id": "2f594fe3-1472-4b60-92d4-85e9ab8ff25a",
   "metadata": {},
   "outputs": [
    {
     "data": {
      "text/plain": [
       "[2, 4, 6]"
      ]
     },
     "execution_count": 111,
     "metadata": {},
     "output_type": "execute_result"
    }
   ],
   "source": [
    "list(filter(lambda x :  x%2==0,l))"
   ]
  },
  {
   "cell_type": "code",
   "execution_count": 112,
   "id": "19dc5f64-86e9-48b3-85e1-5135a17f5321",
   "metadata": {},
   "outputs": [
    {
     "data": {
      "text/plain": [
       "[1, 3, 5]"
      ]
     },
     "execution_count": 112,
     "metadata": {},
     "output_type": "execute_result"
    }
   ],
   "source": [
    "list(filter(lambda x :  x%2!=0,l))"
   ]
  },
  {
   "cell_type": "code",
   "execution_count": null,
   "id": "3e68e0a6-ca2a-44c0-a468-e14ec3b980d1",
   "metadata": {},
   "outputs": [],
   "source": []
  }
 ],
 "metadata": {
  "kernelspec": {
   "display_name": "Python 3 (ipykernel)",
   "language": "python",
   "name": "python3"
  },
  "language_info": {
   "codemirror_mode": {
    "name": "ipython",
    "version": 3
   },
   "file_extension": ".py",
   "mimetype": "text/x-python",
   "name": "python",
   "nbconvert_exporter": "python",
   "pygments_lexer": "ipython3",
   "version": "3.10.8"
  }
 },
 "nbformat": 4,
 "nbformat_minor": 5
}

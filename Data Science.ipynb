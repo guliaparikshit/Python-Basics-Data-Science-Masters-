{
 "cells": [
  {
   "cell_type": "code",
   "execution_count": 1,
   "id": "97da5328-0370-40e8-a9c6-3cbdccc6f085",
   "metadata": {},
   "outputs": [
    {
     "ename": "SyntaxError",
     "evalue": "cannot assign to literal here. Maybe you meant '==' instead of '='? (3293032332.py, line 1)",
     "output_type": "error",
     "traceback": [
      "\u001b[0;36m  Cell \u001b[0;32mIn[1], line 1\u001b[0;36m\u001b[0m\n\u001b[0;31m    1=2\u001b[0m\n\u001b[0m    ^\u001b[0m\n\u001b[0;31mSyntaxError\u001b[0m\u001b[0;31m:\u001b[0m cannot assign to literal here. Maybe you meant '==' instead of '='?\n"
     ]
    }
   ],
   "source": [
    "1=2"
   ]
  },
  {
   "cell_type": "code",
   "execution_count": 2,
   "id": "af33269f-58de-45e4-9e0d-97b1d7135587",
   "metadata": {},
   "outputs": [
    {
     "data": {
      "text/plain": [
       "3"
      ]
     },
     "execution_count": 2,
     "metadata": {},
     "output_type": "execute_result"
    }
   ],
   "source": [
    "1+2"
   ]
  },
  {
   "cell_type": "code",
   "execution_count": 3,
   "id": "ec0bb544-9529-40e1-98e1-a58d62be873f",
   "metadata": {},
   "outputs": [
    {
     "data": {
      "text/plain": [
       "3546"
      ]
     },
     "execution_count": 3,
     "metadata": {},
     "output_type": "execute_result"
    }
   ],
   "source": [
    "90+3456"
   ]
  },
  {
   "cell_type": "code",
   "execution_count": 4,
   "id": "fbbf923b-4bfa-4a03-a14e-953c2aecb0a4",
   "metadata": {},
   "outputs": [
    {
     "name": "stdout",
     "output_type": "stream",
     "text": [
      "hello parikshit gulia \n"
     ]
    }
   ],
   "source": [
    "print(\"hello parikshit gulia \")"
   ]
  },
  {
   "cell_type": "code",
   "execution_count": 5,
   "id": "dfc27206-ff1c-4b59-a03a-2ee51906d5ee",
   "metadata": {},
   "outputs": [],
   "source": [
    "a=10"
   ]
  },
  {
   "cell_type": "code",
   "execution_count": 6,
   "id": "4922cd62-d599-4561-80e2-6f1b11c736ea",
   "metadata": {},
   "outputs": [
    {
     "data": {
      "text/plain": [
       "10"
      ]
     },
     "execution_count": 6,
     "metadata": {},
     "output_type": "execute_result"
    }
   ],
   "source": [
    "a"
   ]
  },
  {
   "cell_type": "code",
   "execution_count": 7,
   "id": "e9cb187a-3df7-483f-a90c-63b85ff983ad",
   "metadata": {},
   "outputs": [
    {
     "data": {
      "text/plain": [
       "int"
      ]
     },
     "execution_count": 7,
     "metadata": {},
     "output_type": "execute_result"
    }
   ],
   "source": [
    "type(a)"
   ]
  },
  {
   "cell_type": "code",
   "execution_count": 11,
   "id": "c361f73e-935b-4ff4-8d1f-17aea320ea4c",
   "metadata": {},
   "outputs": [],
   "source": [
    "b=130.568"
   ]
  },
  {
   "cell_type": "code",
   "execution_count": 13,
   "id": "ce704c0b-36f2-4707-ae73-7778a75208b5",
   "metadata": {},
   "outputs": [
    {
     "data": {
      "text/plain": [
       "130.568"
      ]
     },
     "execution_count": 13,
     "metadata": {},
     "output_type": "execute_result"
    }
   ],
   "source": [
    "b"
   ]
  },
  {
   "cell_type": "code",
   "execution_count": 12,
   "id": "1a529659-a849-405b-9b40-908b49a613dd",
   "metadata": {},
   "outputs": [
    {
     "data": {
      "text/plain": [
       "140.568"
      ]
     },
     "execution_count": 12,
     "metadata": {},
     "output_type": "execute_result"
    }
   ],
   "source": [
    "a+b"
   ]
  },
  {
   "cell_type": "code",
   "execution_count": 14,
   "id": "c6a77667-0804-47a4-8e98-5827613c448c",
   "metadata": {},
   "outputs": [
    {
     "data": {
      "text/plain": [
       "float"
      ]
     },
     "execution_count": 14,
     "metadata": {},
     "output_type": "execute_result"
    }
   ],
   "source": [
    "type(b)"
   ]
  },
  {
   "cell_type": "code",
   "execution_count": 15,
   "id": "424f79ad-ad7d-4f88-93f3-e23638dca5cc",
   "metadata": {},
   "outputs": [],
   "source": [
    "c=\"parikshit\""
   ]
  },
  {
   "cell_type": "code",
   "execution_count": 16,
   "id": "6a666bdc-749d-4e6a-bf52-e2c2650df193",
   "metadata": {},
   "outputs": [
    {
     "data": {
      "text/plain": [
       "'parikshit'"
      ]
     },
     "execution_count": 16,
     "metadata": {},
     "output_type": "execute_result"
    }
   ],
   "source": [
    "c"
   ]
  },
  {
   "cell_type": "code",
   "execution_count": 17,
   "id": "fda2d90f-8d4c-484e-a3d9-6201cc2c4620",
   "metadata": {},
   "outputs": [],
   "source": [
    "c1='pari'"
   ]
  },
  {
   "cell_type": "code",
   "execution_count": 18,
   "id": "e2055e82-b5e7-4e67-b6c5-66d5c6f7e41b",
   "metadata": {},
   "outputs": [
    {
     "data": {
      "text/plain": [
       "'pari'"
      ]
     },
     "execution_count": 18,
     "metadata": {},
     "output_type": "execute_result"
    }
   ],
   "source": [
    "c1"
   ]
  },
  {
   "cell_type": "code",
   "execution_count": 19,
   "id": "460b2510-1d27-4217-8b2a-bdf5fcf93a2d",
   "metadata": {},
   "outputs": [
    {
     "data": {
      "text/plain": [
       "str"
      ]
     },
     "execution_count": 19,
     "metadata": {},
     "output_type": "execute_result"
    }
   ],
   "source": [
    "type(c)"
   ]
  },
  {
   "cell_type": "code",
   "execution_count": 20,
   "id": "b89401ab-4784-400e-8c0e-55c6af49ad42",
   "metadata": {},
   "outputs": [
    {
     "data": {
      "text/plain": [
       "str"
      ]
     },
     "execution_count": 20,
     "metadata": {},
     "output_type": "execute_result"
    }
   ],
   "source": [
    "type(c1)"
   ]
  },
  {
   "cell_type": "code",
   "execution_count": 25,
   "id": "1ed214e6-8b27-415f-82cd-194b89f994cb",
   "metadata": {},
   "outputs": [],
   "source": [
    "d= True"
   ]
  },
  {
   "cell_type": "code",
   "execution_count": 26,
   "id": "b1cefb7e-917a-4b11-bfea-4ea8bef4d73b",
   "metadata": {},
   "outputs": [
    {
     "data": {
      "text/plain": [
       "True"
      ]
     },
     "execution_count": 26,
     "metadata": {},
     "output_type": "execute_result"
    }
   ],
   "source": [
    "d"
   ]
  },
  {
   "cell_type": "code",
   "execution_count": 27,
   "id": "7dd95155-5f23-4525-b7cc-3404cf87c9f0",
   "metadata": {},
   "outputs": [
    {
     "data": {
      "text/plain": [
       "bool"
      ]
     },
     "execution_count": 27,
     "metadata": {},
     "output_type": "execute_result"
    }
   ],
   "source": [
    "type(d)"
   ]
  },
  {
   "cell_type": "code",
   "execution_count": 28,
   "id": "00d9b571-1932-4ed0-88fd-1df6efcd5e81",
   "metadata": {},
   "outputs": [],
   "source": [
    "e=False"
   ]
  },
  {
   "cell_type": "code",
   "execution_count": 29,
   "id": "c4209e48-80f9-4416-9323-54be121d2d2d",
   "metadata": {},
   "outputs": [
    {
     "data": {
      "text/plain": [
       "0"
      ]
     },
     "execution_count": 29,
     "metadata": {},
     "output_type": "execute_result"
    }
   ],
   "source": [
    "True*False"
   ]
  },
  {
   "cell_type": "code",
   "execution_count": 30,
   "id": "227fe983-836a-4aa2-9e5e-473c90407dae",
   "metadata": {},
   "outputs": [
    {
     "data": {
      "text/plain": [
       "1"
      ]
     },
     "execution_count": 30,
     "metadata": {},
     "output_type": "execute_result"
    }
   ],
   "source": [
    "True+False"
   ]
  },
  {
   "cell_type": "code",
   "execution_count": 31,
   "id": "abca4bb0-9268-4868-85fe-3756e8f2ac5e",
   "metadata": {},
   "outputs": [
    {
     "ename": "ZeroDivisionError",
     "evalue": "division by zero",
     "output_type": "error",
     "traceback": [
      "\u001b[0;31m---------------------------------------------------------------------------\u001b[0m",
      "\u001b[0;31mZeroDivisionError\u001b[0m                         Traceback (most recent call last)",
      "Cell \u001b[0;32mIn[31], line 1\u001b[0m\n\u001b[0;32m----> 1\u001b[0m \u001b[38;5;28;43;01mTrue\u001b[39;49;00m\u001b[38;5;241;43m/\u001b[39;49m\u001b[38;5;28;43;01mFalse\u001b[39;49;00m\n",
      "\u001b[0;31mZeroDivisionError\u001b[0m: division by zero"
     ]
    }
   ],
   "source": [
    "True/False"
   ]
  },
  {
   "cell_type": "code",
   "execution_count": 32,
   "id": "6de8a637-fa3f-4a52-baaa-38e187e7fbf2",
   "metadata": {},
   "outputs": [],
   "source": [
    "f=4+70j"
   ]
  },
  {
   "cell_type": "code",
   "execution_count": 33,
   "id": "c401ec34-2601-4543-94c0-a8414d3bcb2c",
   "metadata": {},
   "outputs": [
    {
     "data": {
      "text/plain": [
       "complex"
      ]
     },
     "execution_count": 33,
     "metadata": {},
     "output_type": "execute_result"
    }
   ],
   "source": [
    "type(f)"
   ]
  },
  {
   "cell_type": "code",
   "execution_count": 34,
   "id": "ed89be06-bf6a-4b5d-97bd-9c7cc4cf14df",
   "metadata": {},
   "outputs": [
    {
     "data": {
      "text/plain": [
       "(4+70j)"
      ]
     },
     "execution_count": 34,
     "metadata": {},
     "output_type": "execute_result"
    }
   ],
   "source": [
    "f"
   ]
  },
  {
   "cell_type": "code",
   "execution_count": 35,
   "id": "1dd0c372-124d-4825-8b32-653fb6d12568",
   "metadata": {},
   "outputs": [
    {
     "data": {
      "text/plain": [
       "70.0"
      ]
     },
     "execution_count": 35,
     "metadata": {},
     "output_type": "execute_result"
    }
   ],
   "source": [
    "f.imag"
   ]
  },
  {
   "cell_type": "code",
   "execution_count": 36,
   "id": "c5202d57-0288-4381-8d84-1997bc4b98ed",
   "metadata": {},
   "outputs": [
    {
     "data": {
      "text/plain": [
       "4.0"
      ]
     },
     "execution_count": 36,
     "metadata": {},
     "output_type": "execute_result"
    }
   ],
   "source": [
    "f.real"
   ]
  },
  {
   "cell_type": "code",
   "execution_count": 37,
   "id": "26ebe4d3-9205-4e3c-951f-53b1660896cf",
   "metadata": {},
   "outputs": [],
   "source": [
    "# myself parikshit"
   ]
  },
  {
   "cell_type": "code",
   "execution_count": 38,
   "id": "d2756164-4207-40be-9d55-6e3d17101a84",
   "metadata": {},
   "outputs": [],
   "source": [
    "# my\n",
    "# myself"
   ]
  },
  {
   "cell_type": "code",
   "execution_count": 40,
   "id": "fe1b3404-0155-4cd5-891a-68e70cce4187",
   "metadata": {},
   "outputs": [
    {
     "data": {
      "text/plain": [
       "'myself \\nparikshit\\ngulia'"
      ]
     },
     "execution_count": 40,
     "metadata": {},
     "output_type": "execute_result"
    }
   ],
   "source": [
    "\"\"\"myself \n",
    "parikshit\n",
    "gulia\"\"\""
   ]
  },
  {
   "cell_type": "code",
   "execution_count": 41,
   "id": "b4b6b5a7-e263-41c1-9bf7-53a02334ee50",
   "metadata": {},
   "outputs": [
    {
     "data": {
      "text/plain": [
       "'parikshitpari'"
      ]
     },
     "execution_count": 41,
     "metadata": {},
     "output_type": "execute_result"
    }
   ],
   "source": [
    "c+c1"
   ]
  },
  {
   "cell_type": "code",
   "execution_count": 42,
   "id": "aa737d01-79c6-4d9a-9f69-19eecedadd79",
   "metadata": {},
   "outputs": [
    {
     "data": {
      "text/plain": [
       "10"
      ]
     },
     "execution_count": 42,
     "metadata": {},
     "output_type": "execute_result"
    }
   ],
   "source": [
    "a"
   ]
  },
  {
   "cell_type": "code",
   "execution_count": 43,
   "id": "11314e88-0602-4256-b765-9246beba29c3",
   "metadata": {},
   "outputs": [
    {
     "data": {
      "text/plain": [
       "'parikshit'"
      ]
     },
     "execution_count": 43,
     "metadata": {},
     "output_type": "execute_result"
    }
   ],
   "source": [
    "c"
   ]
  },
  {
   "cell_type": "code",
   "execution_count": 44,
   "id": "0c181355-4cef-4cb7-b93d-34106cbe20bc",
   "metadata": {},
   "outputs": [
    {
     "ename": "TypeError",
     "evalue": "unsupported operand type(s) for +: 'int' and 'str'",
     "output_type": "error",
     "traceback": [
      "\u001b[0;31m---------------------------------------------------------------------------\u001b[0m",
      "\u001b[0;31mTypeError\u001b[0m                                 Traceback (most recent call last)",
      "Cell \u001b[0;32mIn[44], line 1\u001b[0m\n\u001b[0;32m----> 1\u001b[0m \u001b[43ma\u001b[49m\u001b[38;5;241;43m+\u001b[39;49m\u001b[43mc\u001b[49m\n",
      "\u001b[0;31mTypeError\u001b[0m: unsupported operand type(s) for +: 'int' and 'str'"
     ]
    }
   ],
   "source": [
    "a+c"
   ]
  },
  {
   "cell_type": "code",
   "execution_count": 45,
   "id": "a7cc9b53-48b0-440c-895a-e2418cd433c1",
   "metadata": {},
   "outputs": [
    {
     "data": {
      "text/plain": [
       "'10parikshit'"
      ]
     },
     "execution_count": 45,
     "metadata": {},
     "output_type": "execute_result"
    }
   ],
   "source": [
    "str(a)+c"
   ]
  },
  {
   "cell_type": "code",
   "execution_count": 46,
   "id": "bae27502-0f51-43b1-8233-1cb9324c4630",
   "metadata": {},
   "outputs": [
    {
     "data": {
      "text/plain": [
       "'10 parikshit'"
      ]
     },
     "execution_count": 46,
     "metadata": {},
     "output_type": "execute_result"
    }
   ],
   "source": [
    "\"10 \"+c"
   ]
  },
  {
   "cell_type": "code",
   "execution_count": 47,
   "id": "c9cefb90-2542-4c69-aa97-3f716a39fb95",
   "metadata": {},
   "outputs": [
    {
     "name": "stdin",
     "output_type": "stream",
     "text": [
      " 45\n"
     ]
    }
   ],
   "source": [
    "b=input()"
   ]
  },
  {
   "cell_type": "code",
   "execution_count": 48,
   "id": "161c8c13-9a8b-4f53-9c28-a30ca586b21c",
   "metadata": {},
   "outputs": [
    {
     "data": {
      "text/plain": [
       "'45'"
      ]
     },
     "execution_count": 48,
     "metadata": {},
     "output_type": "execute_result"
    }
   ],
   "source": [
    "b"
   ]
  },
  {
   "cell_type": "code",
   "execution_count": 49,
   "id": "5d5ba564-0b74-4536-b02b-8589592f857e",
   "metadata": {},
   "outputs": [
    {
     "data": {
      "text/plain": [
       "str"
      ]
     },
     "execution_count": 49,
     "metadata": {},
     "output_type": "execute_result"
    }
   ],
   "source": [
    "type(b)"
   ]
  },
  {
   "cell_type": "code",
   "execution_count": 50,
   "id": "c6d079e1-1618-4f3c-8a4e-c67143b3c059",
   "metadata": {},
   "outputs": [
    {
     "name": "stdin",
     "output_type": "stream",
     "text": [
      " 56\n"
     ]
    }
   ],
   "source": [
    "c=int(input())"
   ]
  },
  {
   "cell_type": "code",
   "execution_count": 51,
   "id": "5b961f2e-c59f-405c-ac98-fb05398f8759",
   "metadata": {},
   "outputs": [
    {
     "data": {
      "text/plain": [
       "56"
      ]
     },
     "execution_count": 51,
     "metadata": {},
     "output_type": "execute_result"
    }
   ],
   "source": [
    "c"
   ]
  },
  {
   "cell_type": "code",
   "execution_count": 52,
   "id": "7505df40-5e2c-4525-81e4-04f759611c57",
   "metadata": {},
   "outputs": [
    {
     "data": {
      "text/plain": [
       "int"
      ]
     },
     "execution_count": 52,
     "metadata": {},
     "output_type": "execute_result"
    }
   ],
   "source": [
    "type(c)"
   ]
  },
  {
   "cell_type": "code",
   "execution_count": null,
   "id": "cdeeba11-c587-45cc-916b-e14ff4ec54ad",
   "metadata": {},
   "outputs": [],
   "source": []
  }
 ],
 "metadata": {
  "kernelspec": {
   "display_name": "Python 3 (ipykernel)",
   "language": "python",
   "name": "python3"
  },
  "language_info": {
   "codemirror_mode": {
    "name": "ipython",
    "version": 3
   },
   "file_extension": ".py",
   "mimetype": "text/x-python",
   "name": "python",
   "nbconvert_exporter": "python",
   "pygments_lexer": "ipython3",
   "version": "3.10.8"
  }
 },
 "nbformat": 4,
 "nbformat_minor": 5
}

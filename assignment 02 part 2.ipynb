{
 "cells": [
  {
   "cell_type": "markdown",
   "id": "1e8bdeab-fa8c-4a59-9aad-0b6d5612828c",
   "metadata": {},
   "source": [
    "Q3. How do you convert one data type to another in Python?"
   ]
  },
  {
   "cell_type": "markdown",
   "id": "80000f71-648c-44a7-8735-c2947e51100f",
   "metadata": {},
   "source": [
    "for basically converting one data type to another we use a method known as TYPE CASTING , for eg we will convert now string data type to integer. \n",
    "for this first we will assign a value in string now despite being a number assigned in string it will show its type as string, we will type cast it to integer now it will show it as a integer.\n",
    "In short for doing typecasting use keywords like int,str,list etc just in front of ur code it will change its type."
   ]
  },
  {
   "cell_type": "code",
   "execution_count": 1,
   "id": "69c5a5a3-94ba-4af2-a908-fee4ecf04fea",
   "metadata": {},
   "outputs": [
    {
     "name": "stdin",
     "output_type": "stream",
     "text": [
      " 23\n"
     ]
    }
   ],
   "source": [
    "b = input()"
   ]
  },
  {
   "cell_type": "code",
   "execution_count": 2,
   "id": "ad240731-321a-45d1-9c77-4a97577d4c67",
   "metadata": {},
   "outputs": [
    {
     "data": {
      "text/plain": [
       "'23'"
      ]
     },
     "execution_count": 2,
     "metadata": {},
     "output_type": "execute_result"
    }
   ],
   "source": [
    "b"
   ]
  },
  {
   "cell_type": "code",
   "execution_count": 3,
   "id": "64775bb7-afeb-41e9-bc42-506d79889ccb",
   "metadata": {},
   "outputs": [
    {
     "data": {
      "text/plain": [
       "str"
      ]
     },
     "execution_count": 3,
     "metadata": {},
     "output_type": "execute_result"
    }
   ],
   "source": [
    "type(b)"
   ]
  },
  {
   "cell_type": "code",
   "execution_count": 4,
   "id": "72d63f49-f30a-46be-a31d-dcd9cf4bf45b",
   "metadata": {},
   "outputs": [
    {
     "name": "stdin",
     "output_type": "stream",
     "text": [
      " 45\n"
     ]
    }
   ],
   "source": [
    "c = int(input())"
   ]
  },
  {
   "cell_type": "code",
   "execution_count": 5,
   "id": "764f4bd9-bc89-4324-957a-4eca4e8a2260",
   "metadata": {},
   "outputs": [
    {
     "data": {
      "text/plain": [
       "45"
      ]
     },
     "execution_count": 5,
     "metadata": {},
     "output_type": "execute_result"
    }
   ],
   "source": [
    "c"
   ]
  },
  {
   "cell_type": "code",
   "execution_count": 6,
   "id": "3aec1ffa-cc3c-441f-8d3b-162c5c6e09c1",
   "metadata": {},
   "outputs": [
    {
     "data": {
      "text/plain": [
       "int"
      ]
     },
     "execution_count": 6,
     "metadata": {},
     "output_type": "execute_result"
    }
   ],
   "source": [
    "type(c)"
   ]
  },
  {
   "cell_type": "code",
   "execution_count": null,
   "id": "e7a420d1-1fc7-4e96-a323-867aa7dbee60",
   "metadata": {},
   "outputs": [],
   "source": []
  },
  {
   "cell_type": "markdown",
   "id": "d50f7ce2-eda2-4a4e-abf3-b3bb7c650251",
   "metadata": {},
   "source": [
    "Q4. How do you write and execute a Python script from the command line?"
   ]
  },
  {
   "cell_type": "markdown",
   "id": "351f5b1a-453a-47f7-a12f-0ac72df15b66",
   "metadata": {},
   "source": [
    "First of all make a simple python code in ur notepad and save it as .py extension on either desktop or whereever u like.\n",
    "Secondly copy the location of ur saved file by right clicking on ur saved file go to properties and there u will see location copy that.\n",
    "Now search cmd (command prompt) in ur laptop or desktop from search bar.\n",
    "Now u will ssee a black box here u need to type \"cd\" for changing the directory and after cd u need to paste ur location of the file and press enter this will change the directory to ur location of the file.\n",
    "Now after pressing enter u will be moved to next line there u need to type python____ followed by ur file name, for example mine file name is parikshit.py so i need to write pyhtonparikshit.py and press enter.\n",
    "This will run ur code in command prompt ."
   ]
  },
  {
   "cell_type": "code",
   "execution_count": null,
   "id": "bd85f476-e5a5-46f9-8260-5bc8b278ab04",
   "metadata": {},
   "outputs": [],
   "source": []
  },
  {
   "cell_type": "raw",
   "id": "8e47199f-f790-4991-8760-09cea3abb534",
   "metadata": {},
   "source": [
    "Q5. Given a list my_list = [1, 2, 3, 4, 5], write the code to slice the list and obtain the sub-list [2, 3]."
   ]
  },
  {
   "cell_type": "code",
   "execution_count": 8,
   "id": "b30e56b8-b25f-45f7-bb56-ab4162184581",
   "metadata": {},
   "outputs": [],
   "source": [
    "my_list=[1,2,3,4,5]"
   ]
  },
  {
   "cell_type": "code",
   "execution_count": 9,
   "id": "640988fe-0b19-4d39-96c9-d226745360d8",
   "metadata": {},
   "outputs": [
    {
     "data": {
      "text/plain": [
       "[1, 2, 3, 4, 5]"
      ]
     },
     "execution_count": 9,
     "metadata": {},
     "output_type": "execute_result"
    }
   ],
   "source": [
    "my_list"
   ]
  },
  {
   "cell_type": "code",
   "execution_count": 10,
   "id": "d0dd465b-0d1a-4d64-be0d-f8173e7fbdfa",
   "metadata": {},
   "outputs": [
    {
     "data": {
      "text/plain": [
       "[2, 3]"
      ]
     },
     "execution_count": 10,
     "metadata": {},
     "output_type": "execute_result"
    }
   ],
   "source": [
    "my_list[1:3]"
   ]
  },
  {
   "cell_type": "code",
   "execution_count": null,
   "id": "7942417d-8090-4401-92cb-7795b233f103",
   "metadata": {},
   "outputs": [],
   "source": []
  },
  {
   "cell_type": "markdown",
   "id": "d68dc469-5342-4504-a8de-90a5d7dac2ef",
   "metadata": {},
   "source": [
    "Q6. What is a complex number in mathematics, and how is it represented in Python?"
   ]
  },
  {
   "cell_type": "markdown",
   "id": "ca75f849-12e7-49d0-aebb-98036c0aafc3",
   "metadata": {},
   "source": [
    "a complex number is a number which has both imaginary and real part for eg a+ib here iota means under root -1 , we call it as iota so the whole no that is a+ib comprises of two parts.\n",
    "real and imaginary real one is the a and imaginary one is the one with iota.\n",
    "\n",
    "in python we represnt complex numbers as we define a variable , for eg we will save now variable a as value \"3+5j\" in python we use iota basically i as j .\n",
    "to confirm its complex we will also see its type to check \n",
    "aprt from that we will try to seperate imaginary and real parts from the complex number using inbuilt functions for eg for seperating real part we will use .real amd for imagianry we will use .imag"
   ]
  },
  {
   "cell_type": "code",
   "execution_count": 11,
   "id": "52439561-7cd0-4c76-8c80-e718955d6890",
   "metadata": {},
   "outputs": [],
   "source": [
    "a = 3+5j"
   ]
  },
  {
   "cell_type": "code",
   "execution_count": 12,
   "id": "f3f22d1f-afe9-4577-9ccb-3c0d07c0bccc",
   "metadata": {},
   "outputs": [
    {
     "data": {
      "text/plain": [
       "(3+5j)"
      ]
     },
     "execution_count": 12,
     "metadata": {},
     "output_type": "execute_result"
    }
   ],
   "source": [
    "a"
   ]
  },
  {
   "cell_type": "code",
   "execution_count": 13,
   "id": "3d640382-3aca-422e-8b49-88d16da49911",
   "metadata": {},
   "outputs": [
    {
     "data": {
      "text/plain": [
       "complex"
      ]
     },
     "execution_count": 13,
     "metadata": {},
     "output_type": "execute_result"
    }
   ],
   "source": [
    "type(a)"
   ]
  },
  {
   "cell_type": "code",
   "execution_count": 14,
   "id": "b0a85ed8-6e6e-4298-8d48-8507f54be8c0",
   "metadata": {},
   "outputs": [
    {
     "data": {
      "text/plain": [
       "3.0"
      ]
     },
     "execution_count": 14,
     "metadata": {},
     "output_type": "execute_result"
    }
   ],
   "source": [
    "a.real"
   ]
  },
  {
   "cell_type": "code",
   "execution_count": 15,
   "id": "1d9512cc-9614-40a7-9520-09edb528628b",
   "metadata": {},
   "outputs": [
    {
     "data": {
      "text/plain": [
       "5.0"
      ]
     },
     "execution_count": 15,
     "metadata": {},
     "output_type": "execute_result"
    }
   ],
   "source": [
    "a.imag"
   ]
  },
  {
   "cell_type": "code",
   "execution_count": null,
   "id": "ca89033f-57c0-49ff-bfb9-377e2e0ccdee",
   "metadata": {},
   "outputs": [],
   "source": []
  },
  {
   "cell_type": "markdown",
   "id": "5b8eecda-ac81-4d24-946e-f8e032091dfe",
   "metadata": {},
   "source": [
    "Q7. What is the correct way to declare a variable named age and assign the value 25 to it?"
   ]
  },
  {
   "cell_type": "code",
   "execution_count": 22,
   "id": "7950a738-f8f3-4d8a-905e-701a711cca4f",
   "metadata": {},
   "outputs": [],
   "source": [
    "age=25"
   ]
  },
  {
   "cell_type": "code",
   "execution_count": 23,
   "id": "a945ff3f-e77a-4547-a00a-5cf7474ec7fa",
   "metadata": {},
   "outputs": [
    {
     "data": {
      "text/plain": [
       "25"
      ]
     },
     "execution_count": 23,
     "metadata": {},
     "output_type": "execute_result"
    }
   ],
   "source": [
    "age"
   ]
  },
  {
   "cell_type": "code",
   "execution_count": 24,
   "id": "4f4a13ef-7206-4b65-8b91-11513d742d1d",
   "metadata": {},
   "outputs": [
    {
     "data": {
      "text/plain": [
       "int"
      ]
     },
     "execution_count": 24,
     "metadata": {},
     "output_type": "execute_result"
    }
   ],
   "source": [
    "type(age)"
   ]
  },
  {
   "cell_type": "code",
   "execution_count": null,
   "id": "6edd1eb3-13ce-46f6-bd18-b449e6d56058",
   "metadata": {},
   "outputs": [],
   "source": []
  },
  {
   "cell_type": "markdown",
   "id": "fa64904a-b785-4922-949c-8776991f6a7c",
   "metadata": {},
   "source": [
    "Q8. Declare a variable named price and assign the value 9.99 to it. What data type does this variable\n",
    "belong to?"
   ]
  },
  {
   "cell_type": "code",
   "execution_count": 25,
   "id": "be462c9c-bda8-464b-a4b6-aeeafae2f0f3",
   "metadata": {},
   "outputs": [],
   "source": [
    "price = 9.99"
   ]
  },
  {
   "cell_type": "code",
   "execution_count": 26,
   "id": "2807065e-ed34-45d9-846a-e58151c09a91",
   "metadata": {},
   "outputs": [
    {
     "data": {
      "text/plain": [
       "9.99"
      ]
     },
     "execution_count": 26,
     "metadata": {},
     "output_type": "execute_result"
    }
   ],
   "source": [
    "price"
   ]
  },
  {
   "cell_type": "code",
   "execution_count": 28,
   "id": "ca506225-58a7-48fe-a168-bfe85339d8db",
   "metadata": {},
   "outputs": [
    {
     "data": {
      "text/plain": [
       "float"
      ]
     },
     "execution_count": 28,
     "metadata": {},
     "output_type": "execute_result"
    }
   ],
   "source": [
    "type(price)"
   ]
  },
  {
   "cell_type": "code",
   "execution_count": null,
   "id": "865d596c-c308-464f-ab73-884f45bb8e0e",
   "metadata": {},
   "outputs": [],
   "source": []
  },
  {
   "cell_type": "markdown",
   "id": "aeb8d8ea-e4cc-4411-a3d9-8dcafd29c96b",
   "metadata": {},
   "source": [
    "Q9. Create a variable named name and assign your full name to it as a string. How would you print the\n",
    "value of this variable?"
   ]
  },
  {
   "cell_type": "code",
   "execution_count": 30,
   "id": "8944ef6d-834a-460a-9ecc-edadaab7d9f3",
   "metadata": {},
   "outputs": [],
   "source": [
    "name=\"parikshit gulia\""
   ]
  },
  {
   "cell_type": "code",
   "execution_count": 31,
   "id": "d65d57a1-8bfe-4931-967e-2ad80e4ed3b7",
   "metadata": {},
   "outputs": [
    {
     "data": {
      "text/plain": [
       "str"
      ]
     },
     "execution_count": 31,
     "metadata": {},
     "output_type": "execute_result"
    }
   ],
   "source": [
    "type(name)"
   ]
  },
  {
   "cell_type": "code",
   "execution_count": 32,
   "id": "cea3470d-e800-468c-b00c-7e6677ee51d1",
   "metadata": {},
   "outputs": [
    {
     "data": {
      "text/plain": [
       "'parikshit gulia'"
      ]
     },
     "execution_count": 32,
     "metadata": {},
     "output_type": "execute_result"
    }
   ],
   "source": [
    "name"
   ]
  },
  {
   "cell_type": "code",
   "execution_count": 33,
   "id": "cf1c5a2d-5be9-4ae1-94d1-7d42a4e63898",
   "metadata": {},
   "outputs": [
    {
     "name": "stdout",
     "output_type": "stream",
     "text": [
      "parikshit gulia\n"
     ]
    }
   ],
   "source": [
    "print(name)"
   ]
  },
  {
   "cell_type": "code",
   "execution_count": null,
   "id": "ebe49ea1-89ee-47d2-9777-12fc62712a8f",
   "metadata": {},
   "outputs": [],
   "source": []
  },
  {
   "cell_type": "markdown",
   "id": "3c7c2a4c-120d-484f-b2c9-6a6a7fd829c2",
   "metadata": {},
   "source": [
    "Q10. Given the string \"Hello, World!\", extract the substring \"World\"."
   ]
  },
  {
   "cell_type": "code",
   "execution_count": 34,
   "id": "d9c91ab6-27e3-4ef9-be5c-306f18fe89bf",
   "metadata": {},
   "outputs": [],
   "source": [
    "str_1 = \"Hello, World!\""
   ]
  },
  {
   "cell_type": "code",
   "execution_count": 35,
   "id": "79747829-16a8-4320-b573-7e6bd35ff3b2",
   "metadata": {},
   "outputs": [
    {
     "data": {
      "text/plain": [
       "'Hello, World!'"
      ]
     },
     "execution_count": 35,
     "metadata": {},
     "output_type": "execute_result"
    }
   ],
   "source": [
    "str_1"
   ]
  },
  {
   "cell_type": "code",
   "execution_count": 39,
   "id": "aa245a17-4414-42ea-953a-b94b2d5f97d0",
   "metadata": {},
   "outputs": [
    {
     "data": {
      "text/plain": [
       "'World'"
      ]
     },
     "execution_count": 39,
     "metadata": {},
     "output_type": "execute_result"
    }
   ],
   "source": [
    "str_1[7:12]"
   ]
  },
  {
   "cell_type": "code",
   "execution_count": null,
   "id": "fb62d86b-359c-4199-9a1a-e974cd8baf6e",
   "metadata": {},
   "outputs": [],
   "source": []
  },
  {
   "cell_type": "markdown",
   "id": "d8e75330-95f1-40ff-b0be-9c02237a2096",
   "metadata": {},
   "source": [
    "Q11. Create a variable named \"is_student\" and assign it a boolean value indicating whether you are\n",
    "currently a student or not."
   ]
  },
  {
   "cell_type": "code",
   "execution_count": 44,
   "id": "7180f4d0-23d1-4b3e-b91a-0c19843475ad",
   "metadata": {},
   "outputs": [],
   "source": [
    "is_student = True"
   ]
  },
  {
   "cell_type": "code",
   "execution_count": 45,
   "id": "88a85af5-1a07-4274-8622-7163cbd7fdac",
   "metadata": {},
   "outputs": [
    {
     "data": {
      "text/plain": [
       "True"
      ]
     },
     "execution_count": 45,
     "metadata": {},
     "output_type": "execute_result"
    }
   ],
   "source": [
    "is_student"
   ]
  },
  {
   "cell_type": "code",
   "execution_count": 46,
   "id": "d3d172bd-904b-444e-a8c2-1598d60acf8c",
   "metadata": {},
   "outputs": [
    {
     "data": {
      "text/plain": [
       "bool"
      ]
     },
     "execution_count": 46,
     "metadata": {},
     "output_type": "execute_result"
    }
   ],
   "source": [
    "type(is_student)"
   ]
  }
 ],
 "metadata": {
  "kernelspec": {
   "display_name": "Python 3 (ipykernel)",
   "language": "python",
   "name": "python3"
  },
  "language_info": {
   "codemirror_mode": {
    "name": "ipython",
    "version": 3
   },
   "file_extension": ".py",
   "mimetype": "text/x-python",
   "name": "python",
   "nbconvert_exporter": "python",
   "pygments_lexer": "ipython3",
   "version": "3.10.8"
  }
 },
 "nbformat": 4,
 "nbformat_minor": 5
}

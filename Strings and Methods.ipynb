{
 "cells": [
  {
   "cell_type": "code",
   "execution_count": 1,
   "id": "475d61bd-3c93-4973-972c-f9becaa8dacd",
   "metadata": {},
   "outputs": [
    {
     "data": {
      "text/plain": [
       "3"
      ]
     },
     "execution_count": 1,
     "metadata": {},
     "output_type": "execute_result"
    }
   ],
   "source": [
    "1+2"
   ]
  },
  {
   "cell_type": "code",
   "execution_count": 2,
   "id": "655d2700-a6af-475f-bdb5-824c737cb1b6",
   "metadata": {},
   "outputs": [
    {
     "data": {
      "text/plain": [
       "False"
      ]
     },
     "execution_count": 2,
     "metadata": {},
     "output_type": "execute_result"
    }
   ],
   "source": [
    "not(1)"
   ]
  },
  {
   "cell_type": "code",
   "execution_count": 3,
   "id": "8c9540eb-e422-4895-b99b-2b47d78180e3",
   "metadata": {},
   "outputs": [],
   "source": [
    "lst_a=[1,2,3,4]\n",
    "lst_b=[1,2,3,4]"
   ]
  },
  {
   "cell_type": "code",
   "execution_count": 5,
   "id": "b87f822b-f465-4171-be15-49e295776a2c",
   "metadata": {},
   "outputs": [
    {
     "data": {
      "text/plain": [
       "125727657426880"
      ]
     },
     "execution_count": 5,
     "metadata": {},
     "output_type": "execute_result"
    }
   ],
   "source": [
    "id(lst_a)"
   ]
  },
  {
   "cell_type": "code",
   "execution_count": 6,
   "id": "3c8ea428-5923-4007-8e05-68c607c8b6f4",
   "metadata": {},
   "outputs": [
    {
     "data": {
      "text/plain": [
       "125727657443968"
      ]
     },
     "execution_count": 6,
     "metadata": {},
     "output_type": "execute_result"
    }
   ],
   "source": [
    "id(lst_b)"
   ]
  },
  {
   "cell_type": "code",
   "execution_count": 7,
   "id": "254cf0e2-3dc0-417e-99c8-38754fd54463",
   "metadata": {},
   "outputs": [],
   "source": [
    "#id not same memory addresss not same "
   ]
  },
  {
   "cell_type": "code",
   "execution_count": 8,
   "id": "e4164de1-bf60-4f3c-b6c3-f1e4f2169e41",
   "metadata": {},
   "outputs": [
    {
     "data": {
      "text/plain": [
       "False"
      ]
     },
     "execution_count": 8,
     "metadata": {},
     "output_type": "execute_result"
    }
   ],
   "source": [
    "lst_a is lst_b"
   ]
  },
  {
   "cell_type": "code",
   "execution_count": 9,
   "id": "605ba546-fb7b-4ec5-9fc8-f984ecdc3336",
   "metadata": {},
   "outputs": [
    {
     "data": {
      "text/plain": [
       "True"
      ]
     },
     "execution_count": 9,
     "metadata": {},
     "output_type": "execute_result"
    }
   ],
   "source": [
    "lst_a==lst_b"
   ]
  },
  {
   "cell_type": "code",
   "execution_count": 1,
   "id": "5699520f-36a8-446e-9c09-ca2b6da4d4cf",
   "metadata": {},
   "outputs": [],
   "source": [
    "str1=\"jaat\""
   ]
  },
  {
   "cell_type": "code",
   "execution_count": 2,
   "id": "278897a9-622e-4d18-b7c9-170c9ca8f24a",
   "metadata": {},
   "outputs": [
    {
     "data": {
      "text/plain": [
       "'jaat'"
      ]
     },
     "execution_count": 2,
     "metadata": {},
     "output_type": "execute_result"
    }
   ],
   "source": [
    "str1"
   ]
  },
  {
   "cell_type": "code",
   "execution_count": 3,
   "id": "2d1ae109-79aa-472d-b120-0f2d78c0816a",
   "metadata": {},
   "outputs": [
    {
     "data": {
      "text/plain": [
       "str"
      ]
     },
     "execution_count": 3,
     "metadata": {},
     "output_type": "execute_result"
    }
   ],
   "source": [
    "type(str1)"
   ]
  },
  {
   "cell_type": "code",
   "execution_count": 5,
   "id": "2e477e98-a712-41f0-9b32-83254e77e1d3",
   "metadata": {},
   "outputs": [
    {
     "name": "stdout",
     "output_type": "stream",
     "text": [
      "j\n",
      "a\n",
      "a\n",
      "t\n"
     ]
    }
   ],
   "source": [
    "for i in str1:\n",
    "    print(i)"
   ]
  },
  {
   "cell_type": "code",
   "execution_count": 6,
   "id": "886cb1be-be87-4393-aedc-29c2ab824bc3",
   "metadata": {},
   "outputs": [
    {
     "data": {
      "text/plain": [
       "'jaat'"
      ]
     },
     "execution_count": 6,
     "metadata": {},
     "output_type": "execute_result"
    }
   ],
   "source": [
    "str1"
   ]
  },
  {
   "cell_type": "code",
   "execution_count": 7,
   "id": "aef59a2d-bcd0-4aa4-98fc-03406da2dc3a",
   "metadata": {},
   "outputs": [
    {
     "data": {
      "text/plain": [
       "['__add__',\n",
       " '__class__',\n",
       " '__contains__',\n",
       " '__delattr__',\n",
       " '__dir__',\n",
       " '__doc__',\n",
       " '__eq__',\n",
       " '__format__',\n",
       " '__ge__',\n",
       " '__getattribute__',\n",
       " '__getitem__',\n",
       " '__getnewargs__',\n",
       " '__gt__',\n",
       " '__hash__',\n",
       " '__init__',\n",
       " '__init_subclass__',\n",
       " '__iter__',\n",
       " '__le__',\n",
       " '__len__',\n",
       " '__lt__',\n",
       " '__mod__',\n",
       " '__mul__',\n",
       " '__ne__',\n",
       " '__new__',\n",
       " '__reduce__',\n",
       " '__reduce_ex__',\n",
       " '__repr__',\n",
       " '__rmod__',\n",
       " '__rmul__',\n",
       " '__setattr__',\n",
       " '__sizeof__',\n",
       " '__str__',\n",
       " '__subclasshook__',\n",
       " 'capitalize',\n",
       " 'casefold',\n",
       " 'center',\n",
       " 'count',\n",
       " 'encode',\n",
       " 'endswith',\n",
       " 'expandtabs',\n",
       " 'find',\n",
       " 'format',\n",
       " 'format_map',\n",
       " 'index',\n",
       " 'isalnum',\n",
       " 'isalpha',\n",
       " 'isascii',\n",
       " 'isdecimal',\n",
       " 'isdigit',\n",
       " 'isidentifier',\n",
       " 'islower',\n",
       " 'isnumeric',\n",
       " 'isprintable',\n",
       " 'isspace',\n",
       " 'istitle',\n",
       " 'isupper',\n",
       " 'join',\n",
       " 'ljust',\n",
       " 'lower',\n",
       " 'lstrip',\n",
       " 'maketrans',\n",
       " 'partition',\n",
       " 'removeprefix',\n",
       " 'removesuffix',\n",
       " 'replace',\n",
       " 'rfind',\n",
       " 'rindex',\n",
       " 'rjust',\n",
       " 'rpartition',\n",
       " 'rsplit',\n",
       " 'rstrip',\n",
       " 'split',\n",
       " 'splitlines',\n",
       " 'startswith',\n",
       " 'strip',\n",
       " 'swapcase',\n",
       " 'title',\n",
       " 'translate',\n",
       " 'upper',\n",
       " 'zfill']"
      ]
     },
     "execution_count": 7,
     "metadata": {},
     "output_type": "execute_result"
    }
   ],
   "source": [
    "dir(str1)"
   ]
  },
  {
   "cell_type": "code",
   "execution_count": 8,
   "id": "9d7173fd-3fdc-436b-8ee8-d3c073a7d5f5",
   "metadata": {},
   "outputs": [],
   "source": [
    "#slice operation"
   ]
  },
  {
   "cell_type": "code",
   "execution_count": 9,
   "id": "13113b96-55dc-4f0e-9f56-d0f2cf7e2e6c",
   "metadata": {},
   "outputs": [],
   "source": [
    "string=\"myself parikshit gulia\""
   ]
  },
  {
   "cell_type": "code",
   "execution_count": 10,
   "id": "5f6cc90d-019f-4a7c-9ea0-588d14cc84b6",
   "metadata": {},
   "outputs": [
    {
     "data": {
      "text/plain": [
       "'l'"
      ]
     },
     "execution_count": 10,
     "metadata": {},
     "output_type": "execute_result"
    }
   ],
   "source": [
    "string[4]"
   ]
  },
  {
   "cell_type": "code",
   "execution_count": 11,
   "id": "619e3bdf-99d9-44f3-8e55-1c70048cfa90",
   "metadata": {},
   "outputs": [
    {
     "data": {
      "text/plain": [
       "'lf parikshit gulia'"
      ]
     },
     "execution_count": 11,
     "metadata": {},
     "output_type": "execute_result"
    }
   ],
   "source": [
    "string[4:]"
   ]
  },
  {
   "cell_type": "code",
   "execution_count": 12,
   "id": "cd13b3f7-f142-4dca-884a-6e644d092529",
   "metadata": {},
   "outputs": [
    {
     "data": {
      "text/plain": [
       "'lf par'"
      ]
     },
     "execution_count": 12,
     "metadata": {},
     "output_type": "execute_result"
    }
   ],
   "source": [
    "string[4:10]"
   ]
  },
  {
   "cell_type": "code",
   "execution_count": 2,
   "id": "b2591f54-526e-4f91-b981-709c5f7f2af0",
   "metadata": {},
   "outputs": [],
   "source": [
    "string=\"my name is sarthak\""
   ]
  },
  {
   "cell_type": "code",
   "execution_count": 3,
   "id": "232be26c-ae0a-4a77-9779-734e1df8d720",
   "metadata": {},
   "outputs": [
    {
     "data": {
      "text/plain": [
       "'m'"
      ]
     },
     "execution_count": 3,
     "metadata": {},
     "output_type": "execute_result"
    }
   ],
   "source": [
    "string[5]"
   ]
  },
  {
   "cell_type": "code",
   "execution_count": 5,
   "id": "4506846d-68a6-4de4-bf8a-42a52fe9ce5d",
   "metadata": {},
   "outputs": [
    {
     "data": {
      "text/plain": [
       "'me is'"
      ]
     },
     "execution_count": 5,
     "metadata": {},
     "output_type": "execute_result"
    }
   ],
   "source": [
    "string[5:10]"
   ]
  },
  {
   "cell_type": "code",
   "execution_count": 6,
   "id": "8a4a84db-4f87-42f0-8926-1c8e24e051fe",
   "metadata": {},
   "outputs": [
    {
     "data": {
      "text/plain": [
       "['__add__',\n",
       " '__class__',\n",
       " '__contains__',\n",
       " '__delattr__',\n",
       " '__dir__',\n",
       " '__doc__',\n",
       " '__eq__',\n",
       " '__format__',\n",
       " '__ge__',\n",
       " '__getattribute__',\n",
       " '__getitem__',\n",
       " '__getnewargs__',\n",
       " '__gt__',\n",
       " '__hash__',\n",
       " '__init__',\n",
       " '__init_subclass__',\n",
       " '__iter__',\n",
       " '__le__',\n",
       " '__len__',\n",
       " '__lt__',\n",
       " '__mod__',\n",
       " '__mul__',\n",
       " '__ne__',\n",
       " '__new__',\n",
       " '__reduce__',\n",
       " '__reduce_ex__',\n",
       " '__repr__',\n",
       " '__rmod__',\n",
       " '__rmul__',\n",
       " '__setattr__',\n",
       " '__sizeof__',\n",
       " '__str__',\n",
       " '__subclasshook__',\n",
       " 'capitalize',\n",
       " 'casefold',\n",
       " 'center',\n",
       " 'count',\n",
       " 'encode',\n",
       " 'endswith',\n",
       " 'expandtabs',\n",
       " 'find',\n",
       " 'format',\n",
       " 'format_map',\n",
       " 'index',\n",
       " 'isalnum',\n",
       " 'isalpha',\n",
       " 'isascii',\n",
       " 'isdecimal',\n",
       " 'isdigit',\n",
       " 'isidentifier',\n",
       " 'islower',\n",
       " 'isnumeric',\n",
       " 'isprintable',\n",
       " 'isspace',\n",
       " 'istitle',\n",
       " 'isupper',\n",
       " 'join',\n",
       " 'ljust',\n",
       " 'lower',\n",
       " 'lstrip',\n",
       " 'maketrans',\n",
       " 'partition',\n",
       " 'removeprefix',\n",
       " 'removesuffix',\n",
       " 'replace',\n",
       " 'rfind',\n",
       " 'rindex',\n",
       " 'rjust',\n",
       " 'rpartition',\n",
       " 'rsplit',\n",
       " 'rstrip',\n",
       " 'split',\n",
       " 'splitlines',\n",
       " 'startswith',\n",
       " 'strip',\n",
       " 'swapcase',\n",
       " 'title',\n",
       " 'translate',\n",
       " 'upper',\n",
       " 'zfill']"
      ]
     },
     "execution_count": 6,
     "metadata": {},
     "output_type": "execute_result"
    }
   ],
   "source": [
    "dir(string)"
   ]
  },
  {
   "cell_type": "code",
   "execution_count": 7,
   "id": "01f16b57-0aa4-40be-8f70-b9711b047cd1",
   "metadata": {},
   "outputs": [
    {
     "data": {
      "text/plain": [
       "'my name is sarthak'"
      ]
     },
     "execution_count": 7,
     "metadata": {},
     "output_type": "execute_result"
    }
   ],
   "source": [
    "string"
   ]
  },
  {
   "cell_type": "code",
   "execution_count": 9,
   "id": "1813e934-422d-4a0e-ad5d-81bcb49ae78c",
   "metadata": {},
   "outputs": [
    {
     "data": {
      "text/plain": [
       "'my name is sartha'"
      ]
     },
     "execution_count": 9,
     "metadata": {},
     "output_type": "execute_result"
    }
   ],
   "source": [
    "string[:-1]"
   ]
  },
  {
   "cell_type": "code",
   "execution_count": 10,
   "id": "8bf71414-dda9-429d-99da-fb10634cc7d9",
   "metadata": {},
   "outputs": [
    {
     "data": {
      "text/plain": [
       "'my name is sarthak'"
      ]
     },
     "execution_count": 10,
     "metadata": {},
     "output_type": "execute_result"
    }
   ],
   "source": [
    "string[:]"
   ]
  },
  {
   "cell_type": "code",
   "execution_count": 11,
   "id": "49a07e48-056c-4447-bdba-8be0d6b87ffd",
   "metadata": {},
   "outputs": [
    {
     "data": {
      "text/plain": [
       "'y name is sarthak'"
      ]
     },
     "execution_count": 11,
     "metadata": {},
     "output_type": "execute_result"
    }
   ],
   "source": [
    "string[1:]"
   ]
  },
  {
   "cell_type": "code",
   "execution_count": 12,
   "id": "3b8129a3-f088-4ce6-8bec-5e0a6125b27d",
   "metadata": {},
   "outputs": [
    {
     "data": {
      "text/plain": [
       "'my name is sarthak'"
      ]
     },
     "execution_count": 12,
     "metadata": {},
     "output_type": "execute_result"
    }
   ],
   "source": [
    "string[::]"
   ]
  },
  {
   "cell_type": "code",
   "execution_count": 13,
   "id": "40b68499-2745-494a-8daa-bddff055c519",
   "metadata": {},
   "outputs": [
    {
     "data": {
      "text/plain": [
       "'kahtras si eman ym'"
      ]
     },
     "execution_count": 13,
     "metadata": {},
     "output_type": "execute_result"
    }
   ],
   "source": [
    "string[::-1]"
   ]
  },
  {
   "cell_type": "code",
   "execution_count": 17,
   "id": "235a731f-74c8-4d5a-91b0-d93eceab973a",
   "metadata": {},
   "outputs": [
    {
     "data": {
      "text/plain": [
       "'khrss mny'"
      ]
     },
     "execution_count": 17,
     "metadata": {},
     "output_type": "execute_result"
    }
   ],
   "source": [
    "string[::-2]"
   ]
  },
  {
   "cell_type": "code",
   "execution_count": 18,
   "id": "f38fc97b-4c19-48b6-b50a-4cfc418080b4",
   "metadata": {},
   "outputs": [
    {
     "data": {
      "text/plain": [
       "'man ym'"
      ]
     },
     "execution_count": 18,
     "metadata": {},
     "output_type": "execute_result"
    }
   ],
   "source": [
    "string[5::-1]"
   ]
  },
  {
   "cell_type": "code",
   "execution_count": 19,
   "id": "7d0d579f-8d17-4339-9f33-85454d99d6e6",
   "metadata": {},
   "outputs": [
    {
     "data": {
      "text/plain": [
       "'ktsim '"
      ]
     },
     "execution_count": 19,
     "metadata": {},
     "output_type": "execute_result"
    }
   ],
   "source": [
    "string[::-3]"
   ]
  },
  {
   "cell_type": "code",
   "execution_count": 20,
   "id": "5cf9bf86-264d-4849-92b7-364c74526bfe",
   "metadata": {},
   "outputs": [],
   "source": [
    "course_name=\"Data Science Masters\""
   ]
  },
  {
   "cell_type": "code",
   "execution_count": 21,
   "id": "6085ef17-c18b-446e-a738-fa729486f589",
   "metadata": {},
   "outputs": [
    {
     "data": {
      "text/plain": [
       "'Science'"
      ]
     },
     "execution_count": 21,
     "metadata": {},
     "output_type": "execute_result"
    }
   ],
   "source": [
    "course_name[5:12]"
   ]
  },
  {
   "cell_type": "code",
   "execution_count": 23,
   "id": "c295a6a7-7c6c-474e-8b2d-4f407c37be6e",
   "metadata": {},
   "outputs": [
    {
     "data": {
      "text/plain": [
       "'sretsaM ecneicS ataD'"
      ]
     },
     "execution_count": 23,
     "metadata": {},
     "output_type": "execute_result"
    }
   ],
   "source": [
    "course_name[::-1]"
   ]
  },
  {
   "cell_type": "code",
   "execution_count": 33,
   "id": "4c3a344f-3e82-4bab-86a9-1bb726c94d56",
   "metadata": {},
   "outputs": [
    {
     "data": {
      "text/plain": [
       "' ecneicS'"
      ]
     },
     "execution_count": 33,
     "metadata": {},
     "output_type": "execute_result"
    }
   ],
   "source": [
    "course_name[-8:-16:-1]"
   ]
  },
  {
   "cell_type": "code",
   "execution_count": 34,
   "id": "9a3294d3-bbb4-49cb-893d-d54db7e79ea8",
   "metadata": {},
   "outputs": [
    {
     "data": {
      "text/plain": [
       "'ecneicS'"
      ]
     },
     "execution_count": 34,
     "metadata": {},
     "output_type": "execute_result"
    }
   ],
   "source": [
    "course_name[11:4:-1]"
   ]
  },
  {
   "cell_type": "code",
   "execution_count": 35,
   "id": "400d52df-38d5-4b98-bfa4-85ee13c989df",
   "metadata": {},
   "outputs": [
    {
     "data": {
      "text/plain": [
       "'Data Science Mastersworld'"
      ]
     },
     "execution_count": 35,
     "metadata": {},
     "output_type": "execute_result"
    }
   ],
   "source": [
    "course_name+\"world\""
   ]
  },
  {
   "cell_type": "code",
   "execution_count": 36,
   "id": "7c5c7715-0ae9-4acf-b9b9-3e95fd5eb5b6",
   "metadata": {},
   "outputs": [
    {
     "data": {
      "text/plain": [
       "'Data Science MastersData Science MastersData Science MastersData Science MastersData Science Masters'"
      ]
     },
     "execution_count": 36,
     "metadata": {},
     "output_type": "execute_result"
    }
   ],
   "source": [
    "course_name*5"
   ]
  },
  {
   "cell_type": "code",
   "execution_count": 37,
   "id": "b59d39b0-0868-4c1b-ad93-2086f700b970",
   "metadata": {},
   "outputs": [],
   "source": [
    "string=\"jaat raj\""
   ]
  },
  {
   "cell_type": "code",
   "execution_count": 38,
   "id": "85be8bd7-ba39-43a1-b864-cacfe332c736",
   "metadata": {},
   "outputs": [
    {
     "data": {
      "text/plain": [
       "8"
      ]
     },
     "execution_count": 38,
     "metadata": {},
     "output_type": "execute_result"
    }
   ],
   "source": [
    "len(string)"
   ]
  },
  {
   "cell_type": "code",
   "execution_count": 40,
   "id": "b1b9964c-0f30-4d2e-b0a3-897e81bf14fe",
   "metadata": {},
   "outputs": [
    {
     "data": {
      "text/plain": [
       "13"
      ]
     },
     "execution_count": 40,
     "metadata": {},
     "output_type": "execute_result"
    }
   ],
   "source": [
    "course_name.find(\"M\")"
   ]
  },
  {
   "cell_type": "code",
   "execution_count": 41,
   "id": "9ba4ad44-d7cd-41a5-93fd-9e978f727376",
   "metadata": {},
   "outputs": [
    {
     "data": {
      "text/plain": [
       "3"
      ]
     },
     "execution_count": 41,
     "metadata": {},
     "output_type": "execute_result"
    }
   ],
   "source": [
    "course_name.count(\"a\")"
   ]
  },
  {
   "cell_type": "code",
   "execution_count": 42,
   "id": "fe5cb48b-29b7-4b80-9c4e-06a0dc132944",
   "metadata": {},
   "outputs": [],
   "source": [
    "#string split functions"
   ]
  },
  {
   "cell_type": "code",
   "execution_count": 43,
   "id": "2ccf5541-7f47-47fa-b8d3-274a0634499d",
   "metadata": {},
   "outputs": [
    {
     "data": {
      "text/plain": [
       "['Data', 'Science', 'Masters']"
      ]
     },
     "execution_count": 43,
     "metadata": {},
     "output_type": "execute_result"
    }
   ],
   "source": [
    "course_name.split(\" \")"
   ]
  },
  {
   "cell_type": "code",
   "execution_count": 45,
   "id": "e71c9867-d2b8-47b3-8fcd-2b64e69df578",
   "metadata": {},
   "outputs": [
    {
     "data": {
      "text/plain": [
       "['Data ', 'cience Masters']"
      ]
     },
     "execution_count": 45,
     "metadata": {},
     "output_type": "execute_result"
    }
   ],
   "source": [
    "course_name.split(\"S\")"
   ]
  },
  {
   "cell_type": "code",
   "execution_count": 46,
   "id": "5ed731c3-0601-45d5-81da-dc5b0db68f56",
   "metadata": {},
   "outputs": [
    {
     "data": {
      "text/plain": [
       "('Data ', 'S', 'cience Masters')"
      ]
     },
     "execution_count": 46,
     "metadata": {},
     "output_type": "execute_result"
    }
   ],
   "source": [
    "course_name.partition(\"S\")"
   ]
  },
  {
   "cell_type": "code",
   "execution_count": 47,
   "id": "584db414-fb82-4b91-b785-269313e83737",
   "metadata": {},
   "outputs": [
    {
     "data": {
      "text/plain": [
       "'DATA SCIENCE MASTERS'"
      ]
     },
     "execution_count": 47,
     "metadata": {},
     "output_type": "execute_result"
    }
   ],
   "source": [
    "course_name.upper()"
   ]
  },
  {
   "cell_type": "code",
   "execution_count": 48,
   "id": "6f97c558-faeb-4a96-a373-b151ea04ff98",
   "metadata": {},
   "outputs": [
    {
     "data": {
      "text/plain": [
       "'data science masters'"
      ]
     },
     "execution_count": 48,
     "metadata": {},
     "output_type": "execute_result"
    }
   ],
   "source": [
    "course_name.lower()"
   ]
  },
  {
   "cell_type": "code",
   "execution_count": 49,
   "id": "97e46a6e-68ad-4087-8491-25611fb17ba8",
   "metadata": {},
   "outputs": [
    {
     "data": {
      "text/plain": [
       "'dATA sCIENCE mASTERS'"
      ]
     },
     "execution_count": 49,
     "metadata": {},
     "output_type": "execute_result"
    }
   ],
   "source": [
    "course_name.swapcase()"
   ]
  },
  {
   "cell_type": "code",
   "execution_count": 50,
   "id": "cf76ba9f-b34f-42e0-b7b8-9cfded1ff72f",
   "metadata": {},
   "outputs": [],
   "source": [
    "name=\"parikshit gulia\""
   ]
  },
  {
   "cell_type": "code",
   "execution_count": 51,
   "id": "ebc6c59f-efea-4c60-9967-3d385b40e23c",
   "metadata": {},
   "outputs": [
    {
     "data": {
      "text/plain": [
       "'Parikshit Gulia'"
      ]
     },
     "execution_count": 51,
     "metadata": {},
     "output_type": "execute_result"
    }
   ],
   "source": [
    "name.title()"
   ]
  },
  {
   "cell_type": "code",
   "execution_count": 1,
   "id": "d7a4a7d2-404a-4570-935f-681892b899a0",
   "metadata": {},
   "outputs": [],
   "source": [
    "#string lists"
   ]
  },
  {
   "cell_type": "code",
   "execution_count": 4,
   "id": "ae16921c-5cb5-4409-8c3e-5ae37fb6b2f9",
   "metadata": {},
   "outputs": [
    {
     "data": {
      "text/plain": [
       "'Parikshit gulia'"
      ]
     },
     "execution_count": 4,
     "metadata": {},
     "output_type": "execute_result"
    }
   ],
   "source": [
    "name.capitalize()"
   ]
  },
  {
   "cell_type": "code",
   "execution_count": 3,
   "id": "6d12a54b-bb82-47d5-816b-80ce31970ae5",
   "metadata": {},
   "outputs": [],
   "source": [
    "name=\"Parikshit Gulia\""
   ]
  },
  {
   "cell_type": "code",
   "execution_count": 5,
   "id": "01ce81a8-7dcc-4663-93e3-c6572ae6d07a",
   "metadata": {},
   "outputs": [
    {
     "data": {
      "text/plain": [
       "'ailuG tihskiraP'"
      ]
     },
     "execution_count": 5,
     "metadata": {},
     "output_type": "execute_result"
    }
   ],
   "source": [
    "name[::-1]"
   ]
  },
  {
   "cell_type": "code",
   "execution_count": 6,
   "id": "2e51d88a-0fa7-4cd4-96f6-7793afc1a8e6",
   "metadata": {},
   "outputs": [
    {
     "data": {
      "text/plain": [
       "<reversed at 0x7bf841d423e0>"
      ]
     },
     "execution_count": 6,
     "metadata": {},
     "output_type": "execute_result"
    }
   ],
   "source": [
    "reversed(name)"
   ]
  },
  {
   "cell_type": "code",
   "execution_count": 7,
   "id": "12a5fc2f-a7a9-4e3e-ad14-19ad1f324526",
   "metadata": {},
   "outputs": [
    {
     "data": {
      "text/plain": [
       "'ailuG tihskiraP'"
      ]
     },
     "execution_count": 7,
     "metadata": {},
     "output_type": "execute_result"
    }
   ],
   "source": [
    "''.join(reversed(name))"
   ]
  },
  {
   "cell_type": "code",
   "execution_count": 8,
   "id": "6f77c1d2-2c42-4a5d-bbea-378fa463d8f5",
   "metadata": {},
   "outputs": [
    {
     "data": {
      "text/plain": [
       "'GParikshituParikshitlParikshitiParikshita'"
      ]
     },
     "execution_count": 8,
     "metadata": {},
     "output_type": "execute_result"
    }
   ],
   "source": [
    "\"Parikshit\".join(\"Gulia\")"
   ]
  },
  {
   "cell_type": "code",
   "execution_count": 9,
   "id": "ad48fa17-5009-4952-8bdb-39658a3fdb55",
   "metadata": {},
   "outputs": [
    {
     "data": {
      "text/plain": [
       "'a b c d e f g h i'"
      ]
     },
     "execution_count": 9,
     "metadata": {},
     "output_type": "execute_result"
    }
   ],
   "source": [
    "\" \".join(\"abcdefghi\")"
   ]
  },
  {
   "cell_type": "code",
   "execution_count": 10,
   "id": "86e76cdf-417d-4ebd-9275-c1822f9794d1",
   "metadata": {},
   "outputs": [
    {
     "data": {
      "text/plain": [
       "'a i l u G   t i h s k i r a P'"
      ]
     },
     "execution_count": 10,
     "metadata": {},
     "output_type": "execute_result"
    }
   ],
   "source": [
    "' '.join(reversed(name))"
   ]
  },
  {
   "cell_type": "code",
   "execution_count": 11,
   "id": "c7665165-609c-4499-aa6b-122c35a834f0",
   "metadata": {},
   "outputs": [
    {
     "data": {
      "text/plain": [
       "<reversed at 0x7bf81f1df160>"
      ]
     },
     "execution_count": 11,
     "metadata": {},
     "output_type": "execute_result"
    }
   ],
   "source": [
    "reversed(name)"
   ]
  },
  {
   "cell_type": "code",
   "execution_count": 12,
   "id": "7c19c015-e869-4bad-9df1-14bbf8077581",
   "metadata": {},
   "outputs": [
    {
     "data": {
      "text/plain": [
       "['a', 'i', 'l', 'u', 'G', ' ', 't', 'i', 'h', 's', 'k', 'i', 'r', 'a', 'P']"
      ]
     },
     "execution_count": 12,
     "metadata": {},
     "output_type": "execute_result"
    }
   ],
   "source": [
    "list(reversed(name))"
   ]
  },
  {
   "cell_type": "code",
   "execution_count": 13,
   "id": "9ef01617-fdce-456d-9d73-158190eb5898",
   "metadata": {},
   "outputs": [
    {
     "data": {
      "text/plain": [
       "\"['a', 'i', 'l', 'u', 'G', ' ', 't', 'i', 'h', 's', 'k', 'i', 'r', 'a', 'P']\""
      ]
     },
     "execution_count": 13,
     "metadata": {},
     "output_type": "execute_result"
    }
   ],
   "source": [
    "str(list(reversed(name)))"
   ]
  },
  {
   "cell_type": "code",
   "execution_count": 14,
   "id": "d65d7901-c13c-417c-b2c9-fb3ba7165696",
   "metadata": {},
   "outputs": [
    {
     "data": {
      "text/plain": [
       "['a', 'n', 't']"
      ]
     },
     "execution_count": 14,
     "metadata": {},
     "output_type": "execute_result"
    }
   ],
   "source": [
    "list(\"ant\")"
   ]
  },
  {
   "cell_type": "code",
   "execution_count": 15,
   "id": "e8c30a40-f389-4181-9937-e91661398618",
   "metadata": {},
   "outputs": [
    {
     "data": {
      "text/plain": [
       "'Parikshit Gulia'"
      ]
     },
     "execution_count": 15,
     "metadata": {},
     "output_type": "execute_result"
    }
   ],
   "source": [
    "name"
   ]
  },
  {
   "cell_type": "code",
   "execution_count": 17,
   "id": "ebc372c1-8346-430d-997d-9095b470f370",
   "metadata": {},
   "outputs": [],
   "source": [
    "name_1=\" Jaat \""
   ]
  },
  {
   "cell_type": "code",
   "execution_count": 21,
   "id": "34bb6d2e-982e-4bf1-a1d8-d9ddf62de0ca",
   "metadata": {},
   "outputs": [
    {
     "data": {
      "text/plain": [
       "'Jaat'"
      ]
     },
     "execution_count": 21,
     "metadata": {},
     "output_type": "execute_result"
    }
   ],
   "source": [
    "name_1.strip(\" \")"
   ]
  },
  {
   "cell_type": "code",
   "execution_count": 22,
   "id": "bc1c03b8-0d1f-401e-99e0-7c602708a642",
   "metadata": {},
   "outputs": [
    {
     "data": {
      "text/plain": [
       "'Jaat '"
      ]
     },
     "execution_count": 22,
     "metadata": {},
     "output_type": "execute_result"
    }
   ],
   "source": [
    "name_1.lstrip(\" \")"
   ]
  },
  {
   "cell_type": "code",
   "execution_count": 23,
   "id": "6d6839c6-97a4-4909-992e-b0ed5566f067",
   "metadata": {},
   "outputs": [
    {
     "data": {
      "text/plain": [
       "' Jaat'"
      ]
     },
     "execution_count": 23,
     "metadata": {},
     "output_type": "execute_result"
    }
   ],
   "source": [
    "name_1.rstrip(\" \")"
   ]
  },
  {
   "cell_type": "code",
   "execution_count": 24,
   "id": "ff0d2a8e-647d-4508-970f-553a4f25c3b4",
   "metadata": {},
   "outputs": [
    {
     "data": {
      "text/plain": [
       "'Parikshit Gulia'"
      ]
     },
     "execution_count": 24,
     "metadata": {},
     "output_type": "execute_result"
    }
   ],
   "source": [
    "name"
   ]
  },
  {
   "cell_type": "code",
   "execution_count": 25,
   "id": "cacd0827-e125-4249-bceb-6c855f1a4369",
   "metadata": {},
   "outputs": [
    {
     "data": {
      "text/plain": [
       "'Parikshit Jaat'"
      ]
     },
     "execution_count": 25,
     "metadata": {},
     "output_type": "execute_result"
    }
   ],
   "source": [
    "name.replace(\"Gulia\",\"Jaat\")"
   ]
  },
  {
   "cell_type": "code",
   "execution_count": 26,
   "id": "01d80e6d-12f0-4c58-8fec-a3e7a55d8ff3",
   "metadata": {},
   "outputs": [
    {
     "data": {
      "text/plain": [
       "'Harikshit Gulia'"
      ]
     },
     "execution_count": 26,
     "metadata": {},
     "output_type": "execute_result"
    }
   ],
   "source": [
    "name.replace(\"P\",\"H\")"
   ]
  },
  {
   "cell_type": "code",
   "execution_count": 27,
   "id": "2ceb7c7e-20b2-4dcf-a110-5b032074e312",
   "metadata": {},
   "outputs": [
    {
     "data": {
      "text/plain": [
       "'PHrikshit GuliH'"
      ]
     },
     "execution_count": 27,
     "metadata": {},
     "output_type": "execute_result"
    }
   ],
   "source": [
    "name.replace(\"a\",\"H\")"
   ]
  },
  {
   "cell_type": "code",
   "execution_count": 29,
   "id": "8cecb11f-b307-4344-9e0c-c547d34d0edf",
   "metadata": {},
   "outputs": [
    {
     "data": {
      "text/plain": [
       "'Parikshit Gulia'"
      ]
     },
     "execution_count": 29,
     "metadata": {},
     "output_type": "execute_result"
    }
   ],
   "source": [
    "name"
   ]
  },
  {
   "cell_type": "code",
   "execution_count": 30,
   "id": "642fda88-40ad-4014-9ffd-88a4a45e65b9",
   "metadata": {},
   "outputs": [
    {
     "data": {
      "text/plain": [
       "'hello world'"
      ]
     },
     "execution_count": 30,
     "metadata": {},
     "output_type": "execute_result"
    }
   ],
   "source": [
    "\"hello world\""
   ]
  },
  {
   "cell_type": "code",
   "execution_count": 31,
   "id": "cd5e3dc9-653a-462d-a836-f7321de80a52",
   "metadata": {},
   "outputs": [
    {
     "data": {
      "text/plain": [
       "'hello \\n world'"
      ]
     },
     "execution_count": 31,
     "metadata": {},
     "output_type": "execute_result"
    }
   ],
   "source": [
    "\"hello \\n world\""
   ]
  },
  {
   "cell_type": "code",
   "execution_count": 33,
   "id": "99daf334-6ee9-4f31-8ef8-c2944b0c3828",
   "metadata": {},
   "outputs": [
    {
     "data": {
      "text/plain": [
       "'hello \\t world'"
      ]
     },
     "execution_count": 33,
     "metadata": {},
     "output_type": "execute_result"
    }
   ],
   "source": [
    "\"hello \\t world\""
   ]
  },
  {
   "cell_type": "code",
   "execution_count": 34,
   "id": "5e21225c-21d7-4aa7-8b6b-1d8a114272d7",
   "metadata": {},
   "outputs": [
    {
     "data": {
      "text/plain": [
       "'hello   world'"
      ]
     },
     "execution_count": 34,
     "metadata": {},
     "output_type": "execute_result"
    }
   ],
   "source": [
    "\"hello \\tworld\".expandtabs()"
   ]
  },
  {
   "cell_type": "code",
   "execution_count": 39,
   "id": "3007704e-9a15-467c-af00-e045114ecc80",
   "metadata": {},
   "outputs": [
    {
     "data": {
      "text/plain": [
       "'hello world'"
      ]
     },
     "execution_count": 39,
     "metadata": {},
     "output_type": "execute_result"
    }
   ],
   "source": [
    "\"hello world\""
   ]
  },
  {
   "cell_type": "code",
   "execution_count": 40,
   "id": "49b98f55-24bb-4cd5-9113-c7415b4f55a2",
   "metadata": {},
   "outputs": [],
   "source": [
    "str1=\"Welcome to pwskills.Welcome to dat cience Masters\""
   ]
  },
  {
   "cell_type": "code",
   "execution_count": 45,
   "id": "0a66fc05-8193-4f02-975f-29dfaab7b5ae",
   "metadata": {},
   "outputs": [
    {
     "data": {
      "text/plain": [
       "'Welcome to pwskills.Welcome to dat Science Masters'"
      ]
     },
     "execution_count": 45,
     "metadata": {},
     "output_type": "execute_result"
    }
   ],
   "source": [
    "str1.replace(\"cience\",\"Science\",)"
   ]
  },
  {
   "cell_type": "code",
   "execution_count": 47,
   "id": "8d6d6026-a3b6-45f7-8bd1-b85f872dee2c",
   "metadata": {},
   "outputs": [
    {
     "data": {
      "text/plain": [
       "'Welcome to pwskills.Welcome to Data cience Masters'"
      ]
     },
     "execution_count": 47,
     "metadata": {},
     "output_type": "execute_result"
    }
   ],
   "source": [
    "str1.replace(\"dat\",\"Data\",)"
   ]
  },
  {
   "cell_type": "code",
   "execution_count": 56,
   "id": "aa5c6767-4947-4096-bc1c-6d40d1d25d76",
   "metadata": {},
   "outputs": [
    {
     "data": {
      "text/plain": [
       "'Welcome to pwskills.Welcome to Data cience Masters'"
      ]
     },
     "execution_count": 56,
     "metadata": {},
     "output_type": "execute_result"
    }
   ],
   "source": [
    "str1.replace(\"cience\",\"Science\",)\n",
    "str1.replace(\"dat\",\"Data\",)"
   ]
  },
  {
   "cell_type": "code",
   "execution_count": 57,
   "id": "f2c37488-8ebc-4827-bea6-13cac046e76f",
   "metadata": {},
   "outputs": [
    {
     "data": {
      "text/plain": [
       "'Welcome to pwskills.Welcome to dat Science Masters'"
      ]
     },
     "execution_count": 57,
     "metadata": {},
     "output_type": "execute_result"
    }
   ],
   "source": [
    "str1.replace(\"dat\",\"Data\",)\n",
    "str1.replace(\"cience\",\"Science\",)"
   ]
  },
  {
   "cell_type": "code",
   "execution_count": 63,
   "id": "f3e3dd8b-d06b-4707-ab9a-b99950230060",
   "metadata": {},
   "outputs": [
    {
     "data": {
      "text/plain": [
       "'Welcome to pwskills.Welcome to Data Science Masters'"
      ]
     },
     "execution_count": 63,
     "metadata": {},
     "output_type": "execute_result"
    }
   ],
   "source": [
    "str2=str1.replace(\"dat\",\"Data\",)\n",
    "str2.replace(\"cience\",\"Science\")"
   ]
  },
  {
   "cell_type": "code",
   "execution_count": 64,
   "id": "a5276437-e177-4615-a3e9-abead5b768bd",
   "metadata": {},
   "outputs": [
    {
     "data": {
      "text/plain": [
       "'Welcome to pwskills.Welcome to dat cience Masters'"
      ]
     },
     "execution_count": 64,
     "metadata": {},
     "output_type": "execute_result"
    }
   ],
   "source": [
    "str1"
   ]
  },
  {
   "cell_type": "code",
   "execution_count": 65,
   "id": "eab63602-d5a5-4c73-bd09-f62c7d40cf82",
   "metadata": {},
   "outputs": [
    {
     "data": {
      "text/plain": [
       "'Welcome to pwskills.Welcome to data Science Masters'"
      ]
     },
     "execution_count": 65,
     "metadata": {},
     "output_type": "execute_result"
    }
   ],
   "source": [
    "str1.replace(\"dat\",\"data\").replace(\"cience\",\"Science\")"
   ]
  },
  {
   "cell_type": "code",
   "execution_count": 66,
   "id": "e9c99014-feae-4a5b-9ba7-f21281de649a",
   "metadata": {},
   "outputs": [],
   "source": [
    "str3=\"Parikshit\""
   ]
  },
  {
   "cell_type": "code",
   "execution_count": 67,
   "id": "76aabd95-fd2d-4a45-be5c-fcb82d6adb2d",
   "metadata": {},
   "outputs": [
    {
     "data": {
      "text/plain": [
       "False"
      ]
     },
     "execution_count": 67,
     "metadata": {},
     "output_type": "execute_result"
    }
   ],
   "source": [
    "str3.isupper()"
   ]
  },
  {
   "cell_type": "code",
   "execution_count": 68,
   "id": "69a640c5-5ce4-4d80-a63a-9c93a2540cba",
   "metadata": {},
   "outputs": [
    {
     "data": {
      "text/plain": [
       "False"
      ]
     },
     "execution_count": 68,
     "metadata": {},
     "output_type": "execute_result"
    }
   ],
   "source": [
    "str3.islower()"
   ]
  },
  {
   "cell_type": "code",
   "execution_count": 69,
   "id": "09359191-366d-4b86-9e11-4b26e4f1c17f",
   "metadata": {},
   "outputs": [
    {
     "data": {
      "text/plain": [
       "True"
      ]
     },
     "execution_count": 69,
     "metadata": {},
     "output_type": "execute_result"
    }
   ],
   "source": [
    "str3.istitle()"
   ]
  },
  {
   "cell_type": "code",
   "execution_count": 71,
   "id": "aa56541a-fb07-4499-8017-d1aca1d0dbd6",
   "metadata": {},
   "outputs": [
    {
     "data": {
      "text/plain": [
       "'Parikshit'"
      ]
     },
     "execution_count": 71,
     "metadata": {},
     "output_type": "execute_result"
    }
   ],
   "source": [
    "str3"
   ]
  },
  {
   "cell_type": "code",
   "execution_count": 72,
   "id": "3aed7f89-3752-4a92-81a0-824e0a5ea7b3",
   "metadata": {},
   "outputs": [],
   "source": [
    "str3=\"PARIKSHIT\""
   ]
  },
  {
   "cell_type": "code",
   "execution_count": 73,
   "id": "57c793b2-d86f-4c57-99fe-22f3f80e9828",
   "metadata": {},
   "outputs": [
    {
     "data": {
      "text/plain": [
       "True"
      ]
     },
     "execution_count": 73,
     "metadata": {},
     "output_type": "execute_result"
    }
   ],
   "source": [
    "str3.isupper()"
   ]
  },
  {
   "cell_type": "code",
   "execution_count": 74,
   "id": "f0c4d26b-2353-4b3d-ac60-c6edc37e9d78",
   "metadata": {},
   "outputs": [
    {
     "data": {
      "text/plain": [
       "False"
      ]
     },
     "execution_count": 74,
     "metadata": {},
     "output_type": "execute_result"
    }
   ],
   "source": [
    "str3.isspace()"
   ]
  },
  {
   "cell_type": "code",
   "execution_count": 75,
   "id": "bf4d58de-e870-4aa9-9ab9-4553f58f5670",
   "metadata": {},
   "outputs": [
    {
     "data": {
      "text/plain": [
       "True"
      ]
     },
     "execution_count": 75,
     "metadata": {},
     "output_type": "execute_result"
    }
   ],
   "source": [
    "\" \".isspace()"
   ]
  },
  {
   "cell_type": "code",
   "execution_count": 77,
   "id": "5c2549a0-0c11-40a9-8e3b-ea5a806d45c6",
   "metadata": {},
   "outputs": [
    {
     "data": {
      "text/plain": [
       "'PARIKSHIT'"
      ]
     },
     "execution_count": 77,
     "metadata": {},
     "output_type": "execute_result"
    }
   ],
   "source": [
    "str3"
   ]
  },
  {
   "cell_type": "code",
   "execution_count": 83,
   "id": "659464b1-47fc-407a-83d1-a08aca8ffd21",
   "metadata": {},
   "outputs": [
    {
     "data": {
      "text/plain": [
       "True"
      ]
     },
     "execution_count": 83,
     "metadata": {},
     "output_type": "execute_result"
    }
   ],
   "source": [
    "str3.endswith(\"T\")"
   ]
  },
  {
   "cell_type": "code",
   "execution_count": 86,
   "id": "62c3ca1a-4919-42eb-9efe-c49e6ec9a4e5",
   "metadata": {},
   "outputs": [
    {
     "data": {
      "text/plain": [
       "True"
      ]
     },
     "execution_count": 86,
     "metadata": {},
     "output_type": "execute_result"
    }
   ],
   "source": [
    "str3.startswith(\"P\")"
   ]
  },
  {
   "cell_type": "code",
   "execution_count": 87,
   "id": "77a84e78-2b2c-43e9-9a4e-b9ff03ea8674",
   "metadata": {},
   "outputs": [],
   "source": [
    "str4=\"drtyj4565\""
   ]
  },
  {
   "cell_type": "code",
   "execution_count": 88,
   "id": "3dd1455a-aeb7-43b5-800c-c9b883d91013",
   "metadata": {},
   "outputs": [
    {
     "data": {
      "text/plain": [
       "True"
      ]
     },
     "execution_count": 88,
     "metadata": {},
     "output_type": "execute_result"
    }
   ],
   "source": [
    "str4.isalnum()"
   ]
  },
  {
   "cell_type": "code",
   "execution_count": 89,
   "id": "77bb9408-2f38-4b00-b2c3-1d62aecfbcea",
   "metadata": {},
   "outputs": [
    {
     "data": {
      "text/plain": [
       "False"
      ]
     },
     "execution_count": 89,
     "metadata": {},
     "output_type": "execute_result"
    }
   ],
   "source": [
    "str4.isalpha()"
   ]
  },
  {
   "cell_type": "code",
   "execution_count": 90,
   "id": "fab0c8ae-c1ad-4a8a-8fdd-54b708b630ad",
   "metadata": {},
   "outputs": [
    {
     "data": {
      "text/plain": [
       "False"
      ]
     },
     "execution_count": 90,
     "metadata": {},
     "output_type": "execute_result"
    }
   ],
   "source": [
    "str4.isnumeric()"
   ]
  },
  {
   "cell_type": "code",
   "execution_count": 91,
   "id": "ef064dc3-5d86-40e2-9d0d-e52bf0feeaa1",
   "metadata": {},
   "outputs": [
    {
     "data": {
      "text/plain": [
       "'PARIKSHIT'"
      ]
     },
     "execution_count": 91,
     "metadata": {},
     "output_type": "execute_result"
    }
   ],
   "source": [
    "str3"
   ]
  },
  {
   "cell_type": "code",
   "execution_count": 94,
   "id": "2eaf293d-d038-4d27-9c85-5600e3773e11",
   "metadata": {},
   "outputs": [
    {
     "name": "stdout",
     "output_type": "stream",
     "text": [
      "P\n",
      "A\n",
      "R\n",
      "I\n",
      "K\n",
      "S\n",
      "H\n",
      "I\n",
      "T\n"
     ]
    }
   ],
   "source": [
    "for i in str3:\n",
    "    print(i)    "
   ]
  },
  {
   "cell_type": "code",
   "execution_count": 99,
   "id": "5d0bb8e6-1035-4518-b97c-6b3cdac27919",
   "metadata": {},
   "outputs": [
    {
     "data": {
      "text/plain": [
       "9"
      ]
     },
     "execution_count": 99,
     "metadata": {},
     "output_type": "execute_result"
    }
   ],
   "source": [
    "len(str3)"
   ]
  },
  {
   "cell_type": "code",
   "execution_count": 101,
   "id": "9146e33c-ae80-44fe-baa9-2f1bc8dce757",
   "metadata": {},
   "outputs": [
    {
     "name": "stdout",
     "output_type": "stream",
     "text": [
      "9\n"
     ]
    }
   ],
   "source": [
    "count=0\n",
    "for i in str3:\n",
    "    count=count+1\n",
    "    \n",
    "print(count)"
   ]
  },
  {
   "cell_type": "code",
   "execution_count": 102,
   "id": "45dfaca4-9883-4989-a6b4-38509559bdbb",
   "metadata": {},
   "outputs": [
    {
     "data": {
      "text/plain": [
       "'PARIKSHIT'"
      ]
     },
     "execution_count": 102,
     "metadata": {},
     "output_type": "execute_result"
    }
   ],
   "source": [
    "str3"
   ]
  },
  {
   "cell_type": "code",
   "execution_count": 106,
   "id": "c9e688f3-af5d-4d0f-a3bc-d1af6f326b44",
   "metadata": {},
   "outputs": [
    {
     "data": {
      "text/plain": [
       "10"
      ]
     },
     "execution_count": 106,
     "metadata": {},
     "output_type": "execute_result"
    }
   ],
   "source": [
    "str3.count('')"
   ]
  },
  {
   "cell_type": "code",
   "execution_count": 108,
   "id": "881479ab-d390-4c82-b7f6-b05d4afc4b4b",
   "metadata": {},
   "outputs": [
    {
     "name": "stdout",
     "output_type": "stream",
     "text": [
      "0 = P\n",
      "1 = A\n",
      "2 = R\n",
      "3 = I\n",
      "4 = K\n",
      "5 = S\n",
      "6 = H\n",
      "7 = I\n",
      "8 = T\n"
     ]
    }
   ],
   "source": [
    "for i in range(len(str3)):\n",
    "    print(i,\"=\",str3[i])"
   ]
  },
  {
   "cell_type": "code",
   "execution_count": 112,
   "id": "266a3ddb-3bba-4f4b-806b-41cbde389f4a",
   "metadata": {},
   "outputs": [
    {
     "name": "stdout",
     "output_type": "stream",
     "text": [
      "8 = T\n",
      "7 = I\n",
      "6 = H\n",
      "5 = S\n",
      "4 = K\n",
      "3 = I\n",
      "2 = R\n",
      "1 = A\n",
      "0 = P\n"
     ]
    }
   ],
   "source": [
    "for i in range(len(str3)-1,-1,-1):\n",
    "    print(i,\"=\",str3[i])"
   ]
  },
  {
   "cell_type": "code",
   "execution_count": 113,
   "id": "951573ff-1257-4bf2-a3a0-2d2f652e6a4a",
   "metadata": {},
   "outputs": [
    {
     "name": "stdout",
     "output_type": "stream",
     "text": [
      "j\n",
      "a\n",
      "r\n",
      "t\n",
      "a\n",
      "a\n",
      "j\n"
     ]
    }
   ],
   "source": [
    "string=\"jaatraj\"\n",
    "ch=len(string)-1\n",
    "while ch>=0:\n",
    "    print(string[ch])\n",
    "    \n",
    "    ch=ch-1"
   ]
  },
  {
   "cell_type": "code",
   "execution_count": 114,
   "id": "97507501-3db0-45da-957a-19d7f14fe92d",
   "metadata": {},
   "outputs": [
    {
     "data": {
      "text/plain": [
       "'jaatraj'"
      ]
     },
     "execution_count": 114,
     "metadata": {},
     "output_type": "execute_result"
    }
   ],
   "source": [
    "string"
   ]
  },
  {
   "cell_type": "code",
   "execution_count": 115,
   "id": "d9ce0fa6-5da8-4714-bee1-5cea320fbca2",
   "metadata": {},
   "outputs": [
    {
     "data": {
      "text/plain": [
       "'jartaaj'"
      ]
     },
     "execution_count": 115,
     "metadata": {},
     "output_type": "execute_result"
    }
   ],
   "source": [
    "string[::-1]"
   ]
  },
  {
   "cell_type": "code",
   "execution_count": 118,
   "id": "5061df82-04f1-4c39-b6b6-64ffcf33e290",
   "metadata": {},
   "outputs": [
    {
     "name": "stdout",
     "output_type": "stream",
     "text": [
      "jartaaj\n"
     ]
    }
   ],
   "source": [
    "print(string[::-1])"
   ]
  },
  {
   "cell_type": "code",
   "execution_count": 120,
   "id": "249bc804-3730-44d5-849d-cad88b7c5498",
   "metadata": {},
   "outputs": [
    {
     "name": "stdout",
     "output_type": "stream",
     "text": [
      "j\n",
      "a\n",
      "r\n",
      "t\n",
      "a\n",
      "a\n",
      "j\n"
     ]
    }
   ],
   "source": [
    "for i in (string[::-1]):\n",
    "    print(i)"
   ]
  },
  {
   "cell_type": "code",
   "execution_count": 121,
   "id": "4c7e2669-ac87-4a7f-9b28-5d5c9444e36a",
   "metadata": {},
   "outputs": [],
   "source": [
    "name=\"parikshit\"\n",
    "vowel=\"aAeEiIoOuU\""
   ]
  },
  {
   "cell_type": "code",
   "execution_count": 125,
   "id": "0bca32d1-e001-4c4e-9126-ffdc391b4e9e",
   "metadata": {},
   "outputs": [
    {
     "name": "stdout",
     "output_type": "stream",
     "text": [
      "p is not a vowel\n",
      "a is a vowel\n",
      "r is not a vowel\n",
      "i is a vowel\n",
      "k is not a vowel\n",
      "s is not a vowel\n",
      "h is not a vowel\n",
      "i is a vowel\n",
      "t is not a vowel\n"
     ]
    }
   ],
   "source": [
    "for i in name:\n",
    "    if i in vowel:\n",
    "        print(\"{} is a vowel\".format(i))\n",
    "    else:\n",
    "            print(\"{} is not a vowel\".format(i))"
   ]
  },
  {
   "cell_type": "code",
   "execution_count": 126,
   "id": "f8206569-481f-47b2-85ec-386b52393c28",
   "metadata": {},
   "outputs": [],
   "source": [
    "#list"
   ]
  },
  {
   "cell_type": "code",
   "execution_count": 127,
   "id": "59374bbb-d6e9-42c3-bc32-aa85fb862251",
   "metadata": {},
   "outputs": [],
   "source": [
    "jaat=[3,7,987,\"gulia\"]"
   ]
  },
  {
   "cell_type": "code",
   "execution_count": 128,
   "id": "05ad46f5-9849-4482-be29-f1c2ec5d430c",
   "metadata": {},
   "outputs": [
    {
     "data": {
      "text/plain": [
       "list"
      ]
     },
     "execution_count": 128,
     "metadata": {},
     "output_type": "execute_result"
    }
   ],
   "source": [
    "type(jaat)"
   ]
  },
  {
   "cell_type": "code",
   "execution_count": 129,
   "id": "a7bc5c68-2515-4dfd-b404-3b80c356154b",
   "metadata": {},
   "outputs": [
    {
     "data": {
      "text/plain": [
       "'PARIKSHIT'"
      ]
     },
     "execution_count": 129,
     "metadata": {},
     "output_type": "execute_result"
    }
   ],
   "source": [
    "str3"
   ]
  },
  {
   "cell_type": "code",
   "execution_count": 130,
   "id": "248287df-2cb2-412e-97e7-e3dc9f92b6ed",
   "metadata": {},
   "outputs": [
    {
     "data": {
      "text/plain": [
       "['P', 'A', 'R', 'I', 'K', 'S', 'H', 'I', 'T']"
      ]
     },
     "execution_count": 130,
     "metadata": {},
     "output_type": "execute_result"
    }
   ],
   "source": [
    "list(str3)"
   ]
  },
  {
   "cell_type": "code",
   "execution_count": 131,
   "id": "bec842c1-6a25-44ef-9d17-1de906dbd83e",
   "metadata": {},
   "outputs": [],
   "source": [
    "str1=\"my name is parikshit gulia\""
   ]
  },
  {
   "cell_type": "code",
   "execution_count": 133,
   "id": "afe07a69-2a9e-4508-9a85-a5e93c622443",
   "metadata": {},
   "outputs": [
    {
     "data": {
      "text/plain": [
       "['my', 'name', 'is', 'parikshit', 'gulia']"
      ]
     },
     "execution_count": 133,
     "metadata": {},
     "output_type": "execute_result"
    }
   ],
   "source": [
    "str1.split(\" \")"
   ]
  },
  {
   "cell_type": "code",
   "execution_count": 134,
   "id": "a3a33094-8aa6-4058-a2bd-2f8eb31578b5",
   "metadata": {},
   "outputs": [
    {
     "data": {
      "text/plain": [
       "['m',\n",
       " 'y',\n",
       " ' ',\n",
       " 'n',\n",
       " 'a',\n",
       " 'm',\n",
       " 'e',\n",
       " ' ',\n",
       " 'i',\n",
       " 's',\n",
       " ' ',\n",
       " 'p',\n",
       " 'a',\n",
       " 'r',\n",
       " 'i',\n",
       " 'k',\n",
       " 's',\n",
       " 'h',\n",
       " 'i',\n",
       " 't',\n",
       " ' ',\n",
       " 'g',\n",
       " 'u',\n",
       " 'l',\n",
       " 'i',\n",
       " 'a']"
      ]
     },
     "execution_count": 134,
     "metadata": {},
     "output_type": "execute_result"
    }
   ],
   "source": [
    "list(str1)"
   ]
  },
  {
   "cell_type": "code",
   "execution_count": 135,
   "id": "0187c6e9-1d36-4213-a2d8-3c2f61ec60b5",
   "metadata": {},
   "outputs": [
    {
     "data": {
      "text/plain": [
       "['my', 'name', 'is', 'parikshit', 'gulia']"
      ]
     },
     "execution_count": 135,
     "metadata": {},
     "output_type": "execute_result"
    }
   ],
   "source": [
    "list(str1.split(\" \"))"
   ]
  },
  {
   "cell_type": "code",
   "execution_count": 136,
   "id": "3c574897-b07e-448f-a814-4697cfb15e3a",
   "metadata": {},
   "outputs": [
    {
     "data": {
      "text/plain": [
       "'my name is parikshit gulia'"
      ]
     },
     "execution_count": 136,
     "metadata": {},
     "output_type": "execute_result"
    }
   ],
   "source": [
    "str1"
   ]
  },
  {
   "cell_type": "code",
   "execution_count": 139,
   "id": "58a1402d-20ab-4c5c-bf8d-783d38e629b7",
   "metadata": {},
   "outputs": [],
   "source": [
    "lst1=[3,5,7,8,9,\"jaat\",\"raaj\"]"
   ]
  },
  {
   "cell_type": "code",
   "execution_count": 140,
   "id": "54a0da97-f5d8-477b-b782-39ef915c354b",
   "metadata": {},
   "outputs": [
    {
     "data": {
      "text/plain": [
       "[3, 5, 7, 8, 9, 'jaat', 'raaj', 23, 45, 65]"
      ]
     },
     "execution_count": 140,
     "metadata": {},
     "output_type": "execute_result"
    }
   ],
   "source": [
    "lst1 + [23,45,65]"
   ]
  },
  {
   "cell_type": "code",
   "execution_count": 143,
   "id": "dfcc756b-b97e-48d9-80d2-0bde176f94be",
   "metadata": {},
   "outputs": [],
   "source": [
    "lst2 =lst1 + [[3,4,56]]"
   ]
  },
  {
   "cell_type": "code",
   "execution_count": 144,
   "id": "ab195b08-371f-4d88-bcac-c9541597494c",
   "metadata": {},
   "outputs": [
    {
     "data": {
      "text/plain": [
       "[3, 5, 7, 8, 9, 'jaat', 'raaj', [3, 4, 56]]"
      ]
     },
     "execution_count": 144,
     "metadata": {},
     "output_type": "execute_result"
    }
   ],
   "source": [
    "lst2"
   ]
  },
  {
   "cell_type": "code",
   "execution_count": 145,
   "id": "021ceb1b-0041-43b7-aa42-bb3bd5135973",
   "metadata": {},
   "outputs": [
    {
     "data": {
      "text/plain": [
       "[3, 4, 56]"
      ]
     },
     "execution_count": 145,
     "metadata": {},
     "output_type": "execute_result"
    }
   ],
   "source": [
    "lst2[-1]"
   ]
  },
  {
   "cell_type": "code",
   "execution_count": 146,
   "id": "53d9293f-8a87-416f-88be-cd6d86542f21",
   "metadata": {},
   "outputs": [
    {
     "data": {
      "text/plain": [
       "3"
      ]
     },
     "execution_count": 146,
     "metadata": {},
     "output_type": "execute_result"
    }
   ],
   "source": [
    "lst2[-1][0]"
   ]
  },
  {
   "cell_type": "code",
   "execution_count": 147,
   "id": "23f00a89-b00a-489e-8f27-8210ed0ffc50",
   "metadata": {},
   "outputs": [
    {
     "data": {
      "text/plain": [
       "[3, 5, 7, 8, 9, 'jaat', 'raaj']"
      ]
     },
     "execution_count": 147,
     "metadata": {},
     "output_type": "execute_result"
    }
   ],
   "source": [
    "lst1"
   ]
  },
  {
   "cell_type": "code",
   "execution_count": 148,
   "id": "68cdf319-6077-4a75-8f45-c39f99c2399c",
   "metadata": {},
   "outputs": [
    {
     "data": {
      "text/plain": [
       "[3,\n",
       " 5,\n",
       " 7,\n",
       " 8,\n",
       " 9,\n",
       " 'jaat',\n",
       " 'raaj',\n",
       " 3,\n",
       " 5,\n",
       " 7,\n",
       " 8,\n",
       " 9,\n",
       " 'jaat',\n",
       " 'raaj',\n",
       " 3,\n",
       " 5,\n",
       " 7,\n",
       " 8,\n",
       " 9,\n",
       " 'jaat',\n",
       " 'raaj']"
      ]
     },
     "execution_count": 148,
     "metadata": {},
     "output_type": "execute_result"
    }
   ],
   "source": [
    "lst1 * 3"
   ]
  },
  {
   "cell_type": "code",
   "execution_count": 149,
   "id": "64280d81-aa18-4cb6-994f-81df5755a82c",
   "metadata": {},
   "outputs": [
    {
     "data": {
      "text/plain": [
       "'my name is parikshit gulia'"
      ]
     },
     "execution_count": 149,
     "metadata": {},
     "output_type": "execute_result"
    }
   ],
   "source": [
    "str1"
   ]
  },
  {
   "cell_type": "code",
   "execution_count": 150,
   "id": "269d2fdc-fc05-4dd7-8260-b415f94731eb",
   "metadata": {},
   "outputs": [
    {
     "data": {
      "text/plain": [
       "[3, 5, 7, 8, 9, 'jaat', 'raaj']"
      ]
     },
     "execution_count": 150,
     "metadata": {},
     "output_type": "execute_result"
    }
   ],
   "source": [
    "lst1"
   ]
  },
  {
   "cell_type": "code",
   "execution_count": 151,
   "id": "68fc52ff-1d21-4c5b-b611-2185f1f9bd7a",
   "metadata": {},
   "outputs": [
    {
     "name": "stdout",
     "output_type": "stream",
     "text": [
      "3\n",
      "5\n",
      "7\n",
      "8\n",
      "9\n",
      "jaat\n",
      "raaj\n"
     ]
    }
   ],
   "source": [
    "for i in lst1:\n",
    "    print(i)"
   ]
  },
  {
   "cell_type": "code",
   "execution_count": 173,
   "id": "efc87356-3464-4623-b669-be19cd620a73",
   "metadata": {},
   "outputs": [
    {
     "name": "stdout",
     "output_type": "stream",
     "text": [
      "3\n",
      "5\n",
      "7\n",
      "8\n",
      "9\n",
      "jaat\n",
      "finished\n"
     ]
    }
   ],
   "source": [
    "for i in lst1:\n",
    "    print(i)\n",
    "    if i == \"jaat\":\n",
    "        print(\"finished\")\n",
    "        break\n",
    "    "
   ]
  },
  {
   "cell_type": "code",
   "execution_count": 174,
   "id": "0066c1b9-b211-4df4-b3c7-c790e66023c7",
   "metadata": {},
   "outputs": [],
   "source": [
    "lst2=[3,4,5,6,6,7,8,9]"
   ]
  },
  {
   "cell_type": "code",
   "execution_count": 175,
   "id": "c426d5c5-d779-43c7-a34a-3eb5aa386ceb",
   "metadata": {},
   "outputs": [
    {
     "name": "stdout",
     "output_type": "stream",
     "text": [
      "9\n"
     ]
    }
   ],
   "source": [
    "print(max(lst2))"
   ]
  },
  {
   "cell_type": "code",
   "execution_count": 176,
   "id": "088e3380-de2c-4196-8de7-f5c0b8c24e25",
   "metadata": {},
   "outputs": [
    {
     "name": "stdout",
     "output_type": "stream",
     "text": [
      "3\n"
     ]
    }
   ],
   "source": [
    "print(min(lst2))"
   ]
  },
  {
   "cell_type": "code",
   "execution_count": 177,
   "id": "d482fa9c-1270-462b-8cc3-00e9208f1215",
   "metadata": {},
   "outputs": [
    {
     "data": {
      "text/plain": [
       "[3, 5, 7, 8, 9, 'jaat', 'raaj']"
      ]
     },
     "execution_count": 177,
     "metadata": {},
     "output_type": "execute_result"
    }
   ],
   "source": [
    "lst1"
   ]
  },
  {
   "cell_type": "code",
   "execution_count": 178,
   "id": "1e185d69-d8e8-4695-b1d6-f62e0df845d3",
   "metadata": {},
   "outputs": [],
   "source": [
    "lst1.append(\"gy\")"
   ]
  },
  {
   "cell_type": "code",
   "execution_count": 179,
   "id": "467214af-f44a-4ab0-a8d1-5b5a302389ca",
   "metadata": {},
   "outputs": [
    {
     "data": {
      "text/plain": [
       "[3, 5, 7, 8, 9, 'jaat', 'raaj', 'gy']"
      ]
     },
     "execution_count": 179,
     "metadata": {},
     "output_type": "execute_result"
    }
   ],
   "source": [
    "lst1"
   ]
  },
  {
   "cell_type": "code",
   "execution_count": 180,
   "id": "04526aa9-d413-4b9d-8273-4ffccf0876a6",
   "metadata": {},
   "outputs": [
    {
     "data": {
      "text/plain": [
       "'gy'"
      ]
     },
     "execution_count": 180,
     "metadata": {},
     "output_type": "execute_result"
    }
   ],
   "source": [
    "lst1.pop()"
   ]
  },
  {
   "cell_type": "code",
   "execution_count": 181,
   "id": "3e3bc668-4d6d-4073-b149-2db2fd7db487",
   "metadata": {},
   "outputs": [
    {
     "data": {
      "text/plain": [
       "[3, 5, 7, 8, 9, 'jaat', 'raaj']"
      ]
     },
     "execution_count": 181,
     "metadata": {},
     "output_type": "execute_result"
    }
   ],
   "source": [
    "lst1"
   ]
  },
  {
   "cell_type": "code",
   "execution_count": 182,
   "id": "830e3589-308d-43d0-91a7-7c56d97ebf54",
   "metadata": {},
   "outputs": [
    {
     "data": {
      "text/plain": [
       "5"
      ]
     },
     "execution_count": 182,
     "metadata": {},
     "output_type": "execute_result"
    }
   ],
   "source": [
    "lst1.pop(1)"
   ]
  },
  {
   "cell_type": "code",
   "execution_count": 183,
   "id": "702c3c3d-55e3-4f88-aeaf-d15664cf7a9e",
   "metadata": {},
   "outputs": [
    {
     "data": {
      "text/plain": [
       "[3, 7, 8, 9, 'jaat', 'raaj']"
      ]
     },
     "execution_count": 183,
     "metadata": {},
     "output_type": "execute_result"
    }
   ],
   "source": [
    "lst1"
   ]
  },
  {
   "cell_type": "code",
   "execution_count": 184,
   "id": "e14491ab-4d90-4bc6-a5a8-b4ced11d68e8",
   "metadata": {},
   "outputs": [
    {
     "data": {
      "text/plain": [
       "[3, 7, 8, 9, 'jaat', 'raaj']"
      ]
     },
     "execution_count": 184,
     "metadata": {},
     "output_type": "execute_result"
    }
   ],
   "source": [
    "lst1"
   ]
  },
  {
   "cell_type": "code",
   "execution_count": 185,
   "id": "cecc6125-a407-48a1-b124-ada3d664d46e",
   "metadata": {},
   "outputs": [
    {
     "data": {
      "text/plain": [
       "['raaj', 'jaat', 9, 8, 7, 3]"
      ]
     },
     "execution_count": 185,
     "metadata": {},
     "output_type": "execute_result"
    }
   ],
   "source": [
    "lst1[::-1]"
   ]
  },
  {
   "cell_type": "code",
   "execution_count": 186,
   "id": "d0ba8247-d79d-44b5-a3f0-0e843935901e",
   "metadata": {},
   "outputs": [
    {
     "data": {
      "text/plain": [
       "[3, 7, 8, 9, 'jaat', 'raaj']"
      ]
     },
     "execution_count": 186,
     "metadata": {},
     "output_type": "execute_result"
    }
   ],
   "source": [
    "lst1"
   ]
  },
  {
   "cell_type": "code",
   "execution_count": 187,
   "id": "61ed2a52-de25-48f3-bcf6-0425021c9f9f",
   "metadata": {},
   "outputs": [],
   "source": [
    "lst1.reverse()"
   ]
  },
  {
   "cell_type": "code",
   "execution_count": 188,
   "id": "2b2a45e6-d243-4840-831d-0dd3fd3ba593",
   "metadata": {},
   "outputs": [
    {
     "data": {
      "text/plain": [
       "['raaj', 'jaat', 9, 8, 7, 3]"
      ]
     },
     "execution_count": 188,
     "metadata": {},
     "output_type": "execute_result"
    }
   ],
   "source": [
    "lst1"
   ]
  },
  {
   "cell_type": "code",
   "execution_count": 191,
   "id": "41c88bff-5ef6-413a-b878-a92e1b06ac27",
   "metadata": {},
   "outputs": [
    {
     "data": {
      "text/plain": [
       "[3, 4, 5, 6, 6, 7, 8, 9]"
      ]
     },
     "execution_count": 191,
     "metadata": {},
     "output_type": "execute_result"
    }
   ],
   "source": [
    "lst2"
   ]
  },
  {
   "cell_type": "code",
   "execution_count": 192,
   "id": "a80413cc-e2c4-4201-a8c4-a9c3e22c8f82",
   "metadata": {},
   "outputs": [],
   "source": [
    "lst2.sort()"
   ]
  },
  {
   "cell_type": "code",
   "execution_count": 193,
   "id": "98a6f91a-5358-4cc4-89e5-246913927ef2",
   "metadata": {},
   "outputs": [
    {
     "data": {
      "text/plain": [
       "[3, 4, 5, 6, 6, 7, 8, 9]"
      ]
     },
     "execution_count": 193,
     "metadata": {},
     "output_type": "execute_result"
    }
   ],
   "source": [
    "lst2"
   ]
  },
  {
   "cell_type": "code",
   "execution_count": 1,
   "id": "65cce6f8-53cb-4add-8292-d0d79829babf",
   "metadata": {},
   "outputs": [
    {
     "data": {
      "text/plain": [
       "3"
      ]
     },
     "execution_count": 1,
     "metadata": {},
     "output_type": "execute_result"
    }
   ],
   "source": [
    "1+2"
   ]
  },
  {
   "cell_type": "code",
   "execution_count": 2,
   "id": "09e4de0a-675e-4b44-93d5-e435f9deb5d9",
   "metadata": {},
   "outputs": [],
   "source": [
    "#nested list"
   ]
  },
  {
   "cell_type": "code",
   "execution_count": 3,
   "id": "2ea34d6f-7c03-4557-9cc0-feaa7618af77",
   "metadata": {},
   "outputs": [],
   "source": [
    ",alst1=[1,2,3]\n",
    "lst2=[4,5,6]\n",
    "lst3=[7,8,9]\n",
    "matrix=[lst1,lst2,lst3]"
   ]
  },
  {
   "cell_type": "code",
   "execution_count": 4,
   "id": "8f8f8dec-06e5-4dd4-a027-057cf27a7419",
   "metadata": {},
   "outputs": [
    {
     "data": {
      "text/plain": [
       "[[1, 2, 3], [4, 5, 6], [7, 8, 9]]"
      ]
     },
     "execution_count": 4,
     "metadata": {},
     "output_type": "execute_result"
    }
   ],
   "source": [
    "matrix"
   ]
  },
  {
   "cell_type": "code",
   "execution_count": 7,
   "id": "b7427a2f-c290-4963-b157-636b0bf60139",
   "metadata": {},
   "outputs": [
    {
     "data": {
      "text/plain": [
       "[4, 5, 6]"
      ]
     },
     "execution_count": 7,
     "metadata": {},
     "output_type": "execute_result"
    }
   ],
   "source": [
    "matrix[1]"
   ]
  },
  {
   "cell_type": "code",
   "execution_count": 8,
   "id": "03a397b3-cf8b-4edc-ae5f-27787c9ec7b0",
   "metadata": {},
   "outputs": [
    {
     "data": {
      "text/plain": [
       "6"
      ]
     },
     "execution_count": 8,
     "metadata": {},
     "output_type": "execute_result"
    }
   ],
   "source": [
    "matrix[1][2]"
   ]
  },
  {
   "cell_type": "code",
   "execution_count": 23,
   "id": "67f73526-5857-4a38-8311-f51865f543ad",
   "metadata": {},
   "outputs": [],
   "source": [
    "#list comprehension\n"
   ]
  },
  {
   "cell_type": "code",
   "execution_count": 24,
   "id": "cbfcc8cb-0a0e-4742-85c5-46ae86fdb175",
   "metadata": {},
   "outputs": [
    {
     "data": {
      "text/plain": [
       "[0, 1, 2, 3, 4, 5, 6, 7, 8, 9, 10, 11, 12, 13, 14, 15, 16, 17, 18, 19]"
      ]
     },
     "execution_count": 24,
     "metadata": {},
     "output_type": "execute_result"
    }
   ],
   "source": [
    "[i for i in range(20)]"
   ]
  },
  {
   "cell_type": "code",
   "execution_count": 25,
   "id": "dc6064a8-2dae-4ee2-a57f-7321ea761d2c",
   "metadata": {},
   "outputs": [
    {
     "data": {
      "text/plain": [
       "[True,\n",
       " False,\n",
       " True,\n",
       " False,\n",
       " True,\n",
       " False,\n",
       " True,\n",
       " False,\n",
       " True,\n",
       " False,\n",
       " True,\n",
       " False,\n",
       " True,\n",
       " False,\n",
       " True,\n",
       " False,\n",
       " True,\n",
       " False,\n",
       " True,\n",
       " False]"
      ]
     },
     "execution_count": 25,
     "metadata": {},
     "output_type": "execute_result"
    }
   ],
   "source": [
    "[i%2==0 for i in range(20)]"
   ]
  },
  {
   "cell_type": "code",
   "execution_count": 27,
   "id": "f6b39cf8-33a5-46a6-bbf9-86f91b2ebb02",
   "metadata": {},
   "outputs": [
    {
     "data": {
      "text/plain": [
       "[0,\n",
       " 'odd',\n",
       " 2,\n",
       " 'odd',\n",
       " 4,\n",
       " 'odd',\n",
       " 6,\n",
       " 'odd',\n",
       " 8,\n",
       " 'odd',\n",
       " 10,\n",
       " 'odd',\n",
       " 12,\n",
       " 'odd',\n",
       " 14,\n",
       " 'odd',\n",
       " 16,\n",
       " 'odd',\n",
       " 18,\n",
       " 'odd']"
      ]
     },
     "execution_count": 27,
     "metadata": {},
     "output_type": "execute_result"
    }
   ],
   "source": [
    "[i if i%2==0 else \"odd\" for i in range(20)]"
   ]
  },
  {
   "cell_type": "code",
   "execution_count": 30,
   "id": "8f4e292e-97e9-4449-9eac-cb86d53c15fc",
   "metadata": {},
   "outputs": [
    {
     "data": {
      "text/plain": [
       "[0, '', 2, '', 4, '', 6, '', 8, '', 10, '', 12, '', 14, '', 16, '', 18, '']"
      ]
     },
     "execution_count": 30,
     "metadata": {},
     "output_type": "execute_result"
    }
   ],
   "source": [
    "[i if i%2==0 else \"\" for i in range(20)]"
   ]
  },
  {
   "cell_type": "code",
   "execution_count": 31,
   "id": "a932ce07-6fdd-4a8c-a0b6-9826bf9f1f25",
   "metadata": {},
   "outputs": [],
   "source": [
    "lst=[1,2,3,4,5,6,7,8]"
   ]
  },
  {
   "cell_type": "code",
   "execution_count": 53,
   "id": "a9ba77c8-b3f8-40c9-a878-d3d80b65faa5",
   "metadata": {},
   "outputs": [
    {
     "data": {
      "text/plain": [
       "['odd', 2, 'odd', 4, 'odd', 6, 'odd', 8]"
      ]
     },
     "execution_count": 53,
     "metadata": {},
     "output_type": "execute_result"
    }
   ],
   "source": [
    "[i if i%2==0 else 'odd' for i in lst ]"
   ]
  },
  {
   "cell_type": "code",
   "execution_count": 59,
   "id": "8a1988a2-d796-4ef0-8f30-676848cbef40",
   "metadata": {},
   "outputs": [
    {
     "data": {
      "text/plain": [
       "[2, 4, 6, 8]"
      ]
     },
     "execution_count": 59,
     "metadata": {},
     "output_type": "execute_result"
    }
   ],
   "source": [
    "[i for i in lst if i%2==0]"
   ]
  },
  {
   "cell_type": "code",
   "execution_count": 60,
   "id": "a5ae0af6-5c82-4d50-930d-e8bb23affa81",
   "metadata": {},
   "outputs": [
    {
     "data": {
      "text/plain": [
       "20"
      ]
     },
     "execution_count": 60,
     "metadata": {},
     "output_type": "execute_result"
    }
   ],
   "source": [
    "sum([i for i in lst if i%2==0])"
   ]
  },
  {
   "cell_type": "code",
   "execution_count": 63,
   "id": "11924d4a-6fa0-4bca-b6be-341d281cc887",
   "metadata": {},
   "outputs": [
    {
     "data": {
      "text/plain": [
       "[1, 3, 5, 7]"
      ]
     },
     "execution_count": 63,
     "metadata": {},
     "output_type": "execute_result"
    }
   ],
   "source": [
    "[i for i in lst if i%2!=0]"
   ]
  },
  {
   "cell_type": "code",
   "execution_count": 64,
   "id": "dccb3422-99d3-405f-8467-8cec59247cd5",
   "metadata": {},
   "outputs": [
    {
     "data": {
      "text/plain": [
       "16"
      ]
     },
     "execution_count": 64,
     "metadata": {},
     "output_type": "execute_result"
    }
   ],
   "source": [
    "sum([i for i in lst if i%2!=0])"
   ]
  },
  {
   "cell_type": "code",
   "execution_count": 65,
   "id": "96260723-a22e-4ef6-9dea-e04c7a8e6a39",
   "metadata": {},
   "outputs": [],
   "source": [
    "lst=[1,2,3,4,5,6,7,8,9,10]"
   ]
  },
  {
   "cell_type": "code",
   "execution_count": 66,
   "id": "c210f3ce-c2c1-43a8-986f-977054d44ee8",
   "metadata": {},
   "outputs": [
    {
     "data": {
      "text/plain": [
       "[1, 2, 3, 4, 5, 6, 7, 8, 9, 10]"
      ]
     },
     "execution_count": 66,
     "metadata": {},
     "output_type": "execute_result"
    }
   ],
   "source": [
    "lst"
   ]
  },
  {
   "cell_type": "code",
   "execution_count": 68,
   "id": "42534e24-4b73-4086-b796-595df2ad2528",
   "metadata": {},
   "outputs": [
    {
     "data": {
      "text/plain": [
       "[1, 4, 9, 16, 25, 36, 49, 64, 81, 100]"
      ]
     },
     "execution_count": 68,
     "metadata": {},
     "output_type": "execute_result"
    }
   ],
   "source": [
    "[i*i for i in lst]"
   ]
  },
  {
   "cell_type": "code",
   "execution_count": 69,
   "id": "1c3ef040-c853-4076-9bb5-22f73dd626d6",
   "metadata": {},
   "outputs": [],
   "source": [
    "lst=[-2,-1,0,1,2,3,4]"
   ]
  },
  {
   "cell_type": "code",
   "execution_count": 72,
   "id": "8f3a2deb-b556-423b-9b8d-c9a184553c42",
   "metadata": {},
   "outputs": [
    {
     "data": {
      "text/plain": [
       "[1, 2, 3, 4]"
      ]
     },
     "execution_count": 72,
     "metadata": {},
     "output_type": "execute_result"
    }
   ],
   "source": [
    "[i for i in lst if i>0]"
   ]
  },
  {
   "cell_type": "code",
   "execution_count": 73,
   "id": "290abb72-21c7-4325-bdd3-1a0446008f8b",
   "metadata": {},
   "outputs": [
    {
     "data": {
      "text/plain": [
       "[-2, -1]"
      ]
     },
     "execution_count": 73,
     "metadata": {},
     "output_type": "execute_result"
    }
   ],
   "source": [
    "[i for i in lst if i<0]"
   ]
  },
  {
   "cell_type": "code",
   "execution_count": 74,
   "id": "b114871c-9de2-4543-b2e8-b7ed3082f72e",
   "metadata": {},
   "outputs": [],
   "source": [
    "lst=['apple','banana','cherry','date']"
   ]
  },
  {
   "cell_type": "code",
   "execution_count": 88,
   "id": "db073ad5-337a-4f09-96db-cb1cc3fe296a",
   "metadata": {},
   "outputs": [
    {
     "data": {
      "text/plain": [
       "['a', 'b', 'c', 'd']"
      ]
     },
     "execution_count": 88,
     "metadata": {},
     "output_type": "execute_result"
    }
   ],
   "source": [
    "[i[0] for i in lst ]"
   ]
  },
  {
   "cell_type": "code",
   "execution_count": 82,
   "id": "afe54407-195a-4885-9e12-37ff152d03cd",
   "metadata": {},
   "outputs": [
    {
     "data": {
      "text/plain": [
       "'apple'"
      ]
     },
     "execution_count": 82,
     "metadata": {},
     "output_type": "execute_result"
    }
   ],
   "source": [
    "lst[0]"
   ]
  },
  {
   "cell_type": "code",
   "execution_count": 83,
   "id": "7ddf7f6a-6caa-4612-b32f-c6400732c2be",
   "metadata": {},
   "outputs": [
    {
     "data": {
      "text/plain": [
       "'a'"
      ]
     },
     "execution_count": 83,
     "metadata": {},
     "output_type": "execute_result"
    }
   ],
   "source": [
    "lst[0][0]"
   ]
  },
  {
   "cell_type": "markdown",
   "id": "9abadac5-7538-49ff-8739-5673dc7482e0",
   "metadata": {},
   "source": [
    "lst= [0,10,20,30,40]\n",
    "\n",
    "#temp in celsius convert to far"
   ]
  },
  {
   "cell_type": "code",
   "execution_count": 96,
   "id": "bcdae49b-a338-4606-ab17-ff6965a8cc07",
   "metadata": {},
   "outputs": [],
   "source": [
    "lst=[0,10,20,30,40]"
   ]
  },
  {
   "cell_type": "code",
   "execution_count": 97,
   "id": "b26ae180-d7af-4bc6-845e-4fd9b8c25ad8",
   "metadata": {},
   "outputs": [
    {
     "data": {
      "text/plain": [
       "[32.0, 50.0, 68.0, 86.0, 104.0]"
      ]
     },
     "execution_count": 97,
     "metadata": {},
     "output_type": "execute_result"
    }
   ],
   "source": [
    "[(9/5)*i + 32 for i in lst]"
   ]
  },
  {
   "cell_type": "code",
   "execution_count": 98,
   "id": "6d25e49c-0bf3-40f2-af7e-47ced31b740d",
   "metadata": {},
   "outputs": [],
   "source": [
    "#flaten a list of list into single list"
   ]
  },
  {
   "cell_type": "code",
   "execution_count": 99,
   "id": "b685f479-f236-4f49-bf06-5938851703eb",
   "metadata": {},
   "outputs": [],
   "source": [
    "lists=[[1,2,3],[4,5,6],[7,8,9]]"
   ]
  },
  {
   "cell_type": "code",
   "execution_count": 135,
   "id": "17fd4207-a978-4648-a582-e7ad2e8d20c8",
   "metadata": {},
   "outputs": [],
   "source": [
    "add1=[i[0] for i in lists]"
   ]
  },
  {
   "cell_type": "code",
   "execution_count": 129,
   "id": "ce6edcfb-a352-4713-89a3-50a24ae36eca",
   "metadata": {},
   "outputs": [],
   "source": [
    "add2=[i[1] for i in lists]"
   ]
  },
  {
   "cell_type": "code",
   "execution_count": 130,
   "id": "d6a8938f-a68a-48b0-bfed-104c4880d1e3",
   "metadata": {},
   "outputs": [],
   "source": [
    "add3=[i[2] for i in lists]"
   ]
  },
  {
   "cell_type": "code",
   "execution_count": 132,
   "id": "0daba96b-9a04-4947-92ac-098a0a0f90ab",
   "metadata": {},
   "outputs": [],
   "source": [
    "newlist=add1+add2+add3"
   ]
  },
  {
   "cell_type": "code",
   "execution_count": 133,
   "id": "dbb1c482-dfc9-411f-9ffb-097c6cbf9ee1",
   "metadata": {},
   "outputs": [
    {
     "data": {
      "text/plain": [
       "[1, 4, 7, 2, 5, 8, 3, 6, 9]"
      ]
     },
     "execution_count": 133,
     "metadata": {},
     "output_type": "execute_result"
    }
   ],
   "source": [
    "newlist"
   ]
  },
  {
   "cell_type": "code",
   "execution_count": 137,
   "id": "8eed6331-23f8-42be-a160-b39897dcf414",
   "metadata": {},
   "outputs": [],
   "source": [
    "newlist.sort()"
   ]
  },
  {
   "cell_type": "code",
   "execution_count": 138,
   "id": "23efffef-b86a-4b59-af9e-7159fb336e17",
   "metadata": {},
   "outputs": [
    {
     "data": {
      "text/plain": [
       "[1, 2, 3, 4, 5, 6, 7, 8, 9]"
      ]
     },
     "execution_count": 138,
     "metadata": {},
     "output_type": "execute_result"
    }
   ],
   "source": [
    "newlist"
   ]
  },
  {
   "cell_type": "code",
   "execution_count": 139,
   "id": "62bb0c0f-4268-44be-9aaf-7daebef64d82",
   "metadata": {},
   "outputs": [],
   "source": [
    "lists=[[1,2,3],[4,5,6],[7,8,9]]"
   ]
  },
  {
   "cell_type": "code",
   "execution_count": 142,
   "id": "7c74d4d0-b960-48be-8091-9e8d8e0b8762",
   "metadata": {},
   "outputs": [
    {
     "data": {
      "text/plain": [
       "[1, 2, 3, 4, 5, 6, 7, 8, 9]"
      ]
     },
     "execution_count": 142,
     "metadata": {},
     "output_type": "execute_result"
    }
   ],
   "source": [
    "[num for sublists in lists for num in sublists ]"
   ]
  },
  {
   "cell_type": "code",
   "execution_count": 143,
   "id": "464457cd-ba2f-4ccb-afb9-03fe4582d8cc",
   "metadata": {},
   "outputs": [],
   "source": [
    "lst=[1,2,3,4,5,6,7,8,9,10]"
   ]
  },
  {
   "cell_type": "code",
   "execution_count": 150,
   "id": "4d2f4de4-ec05-469e-8aa3-20be71c9cb8f",
   "metadata": {},
   "outputs": [
    {
     "data": {
      "text/plain": [
       "[1, 2, 3, 4, 5, 6, 7, 8, 9, 10]"
      ]
     },
     "execution_count": 150,
     "metadata": {},
     "output_type": "execute_result"
    }
   ],
   "source": [
    "[i for i in lst]"
   ]
  },
  {
   "cell_type": "code",
   "execution_count": null,
   "id": "39f47b88-3f9d-4a0a-97c2-be6e20c5d0d7",
   "metadata": {},
   "outputs": [],
   "source": []
  }
 ],
 "metadata": {
  "kernelspec": {
   "display_name": "Python 3 (ipykernel)",
   "language": "python",
   "name": "python3"
  },
  "language_info": {
   "codemirror_mode": {
    "name": "ipython",
    "version": 3
   },
   "file_extension": ".py",
   "mimetype": "text/x-python",
   "name": "python",
   "nbconvert_exporter": "python",
   "pygments_lexer": "ipython3",
   "version": "3.10.8"
  }
 },
 "nbformat": 4,
 "nbformat_minor": 5
}

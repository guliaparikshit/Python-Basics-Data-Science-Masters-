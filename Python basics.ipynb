{
 "cells": [
  {
   "cell_type": "code",
   "execution_count": 1,
   "id": "e571936e-9581-411f-8ee3-ef56363c8427",
   "metadata": {},
   "outputs": [
    {
     "data": {
      "text/plain": [
       "3"
      ]
     },
     "execution_count": 1,
     "metadata": {},
     "output_type": "execute_result"
    }
   ],
   "source": [
    "1+2"
   ]
  },
  {
   "cell_type": "code",
   "execution_count": 2,
   "id": "05b0ef82-9ed9-4497-8f3a-129585a41314",
   "metadata": {},
   "outputs": [
    {
     "name": "stdout",
     "output_type": "stream",
     "text": [
      "3\n"
     ]
    }
   ],
   "source": [
    "print(1+2)"
   ]
  },
  {
   "cell_type": "code",
   "execution_count": 3,
   "id": "10f50294-a85b-4895-8f3b-e087959b16ec",
   "metadata": {},
   "outputs": [
    {
     "name": "stdout",
     "output_type": "stream",
     "text": [
      "\n"
     ]
    }
   ],
   "source": [
    "print()"
   ]
  },
  {
   "cell_type": "code",
   "execution_count": 4,
   "id": "f5d3535b-1029-4baa-834e-613b49b298bb",
   "metadata": {},
   "outputs": [
    {
     "name": "stdout",
     "output_type": "stream",
     "text": [
      "parikshit \n",
      " 231302245\n"
     ]
    }
   ],
   "source": [
    "print(\"parikshit \\n 231302245\")"
   ]
  },
  {
   "cell_type": "code",
   "execution_count": 7,
   "id": "cc6dca68-135e-4bdf-b4f0-6af7db2ffc37",
   "metadata": {},
   "outputs": [],
   "source": [
    "b=\"parikshit\""
   ]
  },
  {
   "cell_type": "code",
   "execution_count": 8,
   "id": "659250f2-73d2-4029-9ca0-4d3abb70b7bc",
   "metadata": {},
   "outputs": [
    {
     "data": {
      "text/plain": [
       "str"
      ]
     },
     "execution_count": 8,
     "metadata": {},
     "output_type": "execute_result"
    }
   ],
   "source": [
    "type(\"parikshit\")"
   ]
  },
  {
   "cell_type": "code",
   "execution_count": 9,
   "id": "9d8536f5-e0e9-4d94-a3f5-52e2e9662b0c",
   "metadata": {},
   "outputs": [
    {
     "data": {
      "text/plain": [
       "'23'"
      ]
     },
     "execution_count": 9,
     "metadata": {},
     "output_type": "execute_result"
    }
   ],
   "source": [
    "str(23)"
   ]
  },
  {
   "cell_type": "code",
   "execution_count": 10,
   "id": "a30e696b-eab6-4de3-a527-ee0b91b7754f",
   "metadata": {},
   "outputs": [
    {
     "data": {
      "text/plain": [
       "str"
      ]
     },
     "execution_count": 10,
     "metadata": {},
     "output_type": "execute_result"
    }
   ],
   "source": [
    "type(str(23))"
   ]
  },
  {
   "cell_type": "code",
   "execution_count": 1,
   "id": "c3ea3e2c-eef6-4b38-8a04-595596e019ae",
   "metadata": {},
   "outputs": [],
   "source": [
    "#concatination happens in string"
   ]
  },
  {
   "cell_type": "code",
   "execution_count": 2,
   "id": "9f039133-2bdd-462f-9bcc-b1327741ad31",
   "metadata": {},
   "outputs": [
    {
     "data": {
      "text/plain": [
       "'11'"
      ]
     },
     "execution_count": 2,
     "metadata": {},
     "output_type": "execute_result"
    }
   ],
   "source": [
    "\"1\"+\"1\""
   ]
  },
  {
   "cell_type": "code",
   "execution_count": 3,
   "id": "46e72d8c-83f5-424f-b2ad-55a39e3029df",
   "metadata": {},
   "outputs": [
    {
     "data": {
      "text/plain": [
       "2"
      ]
     },
     "execution_count": 3,
     "metadata": {},
     "output_type": "execute_result"
    }
   ],
   "source": [
    "int(1)+int(1)"
   ]
  },
  {
   "cell_type": "code",
   "execution_count": 4,
   "id": "a8573303-36a2-494e-8603-700eacb53b58",
   "metadata": {},
   "outputs": [
    {
     "ename": "TypeError",
     "evalue": "can't multiply sequence by non-int of type 'str'",
     "output_type": "error",
     "traceback": [
      "\u001b[0;31m---------------------------------------------------------------------------\u001b[0m",
      "\u001b[0;31mTypeError\u001b[0m                                 Traceback (most recent call last)",
      "Cell \u001b[0;32mIn[4], line 1\u001b[0m\n\u001b[0;32m----> 1\u001b[0m \u001b[38;5;124;43m\"\u001b[39;49m\u001b[38;5;124;43m1\u001b[39;49m\u001b[38;5;124;43m\"\u001b[39;49m\u001b[38;5;241;43m*\u001b[39;49m\u001b[38;5;124;43m\"\u001b[39;49m\u001b[38;5;124;43m1\u001b[39;49m\u001b[38;5;124;43m\"\u001b[39;49m\n",
      "\u001b[0;31mTypeError\u001b[0m: can't multiply sequence by non-int of type 'str'"
     ]
    }
   ],
   "source": [
    "\"1\"*\"1\""
   ]
  },
  {
   "cell_type": "code",
   "execution_count": 5,
   "id": "95addca2-db0c-46b5-a207-3f9ed8992bcc",
   "metadata": {},
   "outputs": [
    {
     "data": {
      "text/plain": [
       "'1111111111111111111111111111111111111111111111111111111111111111111111111111111111111111111111111111'"
      ]
     },
     "execution_count": 5,
     "metadata": {},
     "output_type": "execute_result"
    }
   ],
   "source": [
    "\"1\" * 100"
   ]
  },
  {
   "cell_type": "code",
   "execution_count": 7,
   "id": "42880f83-acb4-4be0-bbaa-e9a5096d1082",
   "metadata": {},
   "outputs": [
    {
     "data": {
      "text/plain": [
       "'1111111111'"
      ]
     },
     "execution_count": 7,
     "metadata": {},
     "output_type": "execute_result"
    }
   ],
   "source": [
    "\"1\" * 10"
   ]
  },
  {
   "cell_type": "code",
   "execution_count": 1,
   "id": "14218d9c-3f8c-431e-b185-a1a7ff3dca89",
   "metadata": {},
   "outputs": [
    {
     "data": {
      "text/plain": [
       "3"
      ]
     },
     "execution_count": 1,
     "metadata": {},
     "output_type": "execute_result"
    }
   ],
   "source": [
    "1+2"
   ]
  },
  {
   "cell_type": "code",
   "execution_count": 2,
   "id": "448d4714-b7b4-4578-bfcc-49ffc01d4bca",
   "metadata": {},
   "outputs": [
    {
     "data": {
      "text/plain": [
       "3.5"
      ]
     },
     "execution_count": 2,
     "metadata": {},
     "output_type": "execute_result"
    }
   ],
   "source": [
    "7/2"
   ]
  },
  {
   "cell_type": "code",
   "execution_count": 3,
   "id": "2f2714d4-0345-499e-b563-d7d4c39ef0b3",
   "metadata": {},
   "outputs": [
    {
     "name": "stdout",
     "output_type": "stream",
     "text": [
      "my name is parikshit\n"
     ]
    }
   ],
   "source": [
    "print(\"my name is parikshit\")"
   ]
  },
  {
   "cell_type": "code",
   "execution_count": 7,
   "id": "19e59bd6-dba9-4676-862b-363ebbba9f78",
   "metadata": {},
   "outputs": [
    {
     "name": "stdout",
     "output_type": "stream",
     "text": [
      "my name is,  rahul\n"
     ]
    }
   ],
   "source": [
    "print(\"my name is, \",age)"
   ]
  },
  {
   "cell_type": "code",
   "execution_count": 6,
   "id": "a7050af5-7bdd-4cfb-a514-397b92f686d2",
   "metadata": {},
   "outputs": [],
   "source": [
    "age=\"rahul\""
   ]
  },
  {
   "cell_type": "code",
   "execution_count": 11,
   "id": "972afeb1-26ea-4689-960b-0da9df1bd407",
   "metadata": {},
   "outputs": [
    {
     "name": "stdout",
     "output_type": "stream",
     "text": [
      "my name is: rahul\n"
     ]
    }
   ],
   "source": [
    "print(f\"my name is: {age}\")"
   ]
  },
  {
   "cell_type": "code",
   "execution_count": 12,
   "id": "f889a31e-c886-4cd0-bac5-40808faaed00",
   "metadata": {},
   "outputs": [
    {
     "name": "stdout",
     "output_type": "stream",
     "text": [
      "my name is rahul\n"
     ]
    }
   ],
   "source": [
    "print(\"my name is {}\".format(age))"
   ]
  },
  {
   "cell_type": "code",
   "execution_count": 16,
   "id": "7bb5701b-bd71-4683-9aa5-b1f0dabf78d6",
   "metadata": {},
   "outputs": [],
   "source": [
    "name = \"parikshit\"\n",
    "age = 19\n",
    "degree = \"Btech\""
   ]
  },
  {
   "cell_type": "code",
   "execution_count": 17,
   "id": "3e814914-91f4-4a17-a3df-07d1b6bd5024",
   "metadata": {},
   "outputs": [
    {
     "name": "stdout",
     "output_type": "stream",
     "text": [
      "my age is 19 and my degree is Btech with the name of parikshit\n"
     ]
    }
   ],
   "source": [
    "print(\"my age is {} and my degree is {} with the name of {}\".format(age,degree,name))"
   ]
  },
  {
   "cell_type": "code",
   "execution_count": 18,
   "id": "5042aa4b-a702-47e6-a08c-72af73580126",
   "metadata": {},
   "outputs": [
    {
     "name": "stdout",
     "output_type": "stream",
     "text": [
      "my age is Btech and my degree is 19 with the name of parikshit\n"
     ]
    }
   ],
   "source": [
    "print(\"my age is {} and my degree is {} with the name of {}\".format(degree,age,name))"
   ]
  },
  {
   "cell_type": "code",
   "execution_count": 19,
   "id": "c23a162c-7d91-49be-bca9-fc7340136a59",
   "metadata": {},
   "outputs": [],
   "source": [
    "#to solve this we use placeholder bascially assigns a value to the placce holder"
   ]
  },
  {
   "cell_type": "code",
   "execution_count": 20,
   "id": "24a3020e-eb02-42e2-bc11-f656bab34187",
   "metadata": {},
   "outputs": [
    {
     "name": "stdout",
     "output_type": "stream",
     "text": [
      "my age is 19 and my degree is Btech with the name of parikshit\n"
     ]
    }
   ],
   "source": [
    "print(\"my age is {a} and my degree is {b} with the name of {c}\".format(a=age,b=degree,c=name))"
   ]
  },
  {
   "cell_type": "markdown",
   "id": "a467f255-d6d2-4350-b330-7d49570e9632",
   "metadata": {
    "tags": []
   },
   "source": [
    "## control flow\n",
    "### decision making statements"
   ]
  },
  {
   "cell_type": "code",
   "execution_count": 35,
   "id": "b5a2b7ff-76eb-41c4-bdfb-c21ed6736ec4",
   "metadata": {},
   "outputs": [
    {
     "name": "stdin",
     "output_type": "stream",
     "text": [
      "enter the number 2\n"
     ]
    },
    {
     "data": {
      "text/plain": [
       "2"
      ]
     },
     "execution_count": 35,
     "metadata": {},
     "output_type": "execute_result"
    }
   ],
   "source": [
    "int(input(\"enter the number\"))"
   ]
  },
  {
   "cell_type": "code",
   "execution_count": 36,
   "id": "df4fac0e-10f2-46a4-ac61-c0b1e61b427e",
   "metadata": {},
   "outputs": [
    {
     "name": "stdin",
     "output_type": "stream",
     "text": [
      "enter the age 2\n"
     ]
    }
   ],
   "source": [
    "age=int(input(\"enter the age\"))"
   ]
  },
  {
   "cell_type": "code",
   "execution_count": 38,
   "id": "3e1fd9a4-35e4-4b84-9e59-b2201e064140",
   "metadata": {},
   "outputs": [
    {
     "name": "stdin",
     "output_type": "stream",
     "text": [
      "enter the age 1\n"
     ]
    },
    {
     "name": "stdout",
     "output_type": "stream",
     "text": [
      "u r not eligible to vote\n"
     ]
    }
   ],
   "source": [
    "age=int(input(\"enter the age\"))\n",
    "if age>18:\n",
    "    print(\"u r eligible to vote\")\n",
    "else:\n",
    "        print(\"u r not eligible to vote\")"
   ]
  },
  {
   "cell_type": "code",
   "execution_count": 39,
   "id": "f3c5baf0-9098-412f-8c9e-0b0b04d1a0d7",
   "metadata": {},
   "outputs": [
    {
     "name": "stdin",
     "output_type": "stream",
     "text": [
      "enter the age 18\n"
     ]
    },
    {
     "name": "stdout",
     "output_type": "stream",
     "text": [
      "1 more year buddy\n"
     ]
    }
   ],
   "source": [
    "age=int(input(\"enter the age\"))\n",
    "if age>18:\n",
    "    print(\"u r eligible to vote\")\n",
    "elif age==18:\n",
    "        print(\"1 more year buddy\")\n",
    "else:\n",
    "        print(\"u r not eligible to vote\")"
   ]
  },
  {
   "cell_type": "code",
   "execution_count": 40,
   "id": "4bfd6207-419c-4cee-a873-5051b057d77b",
   "metadata": {},
   "outputs": [],
   "source": [
    "#mall republic day event,buy gifts something\n",
    "##1000 se jada money wale saman pr discount of 10%\n",
    "###1000 ke barabr ya us se km pr 30%"
   ]
  },
  {
   "cell_type": "code",
   "execution_count": 55,
   "id": "162b6a26-eb79-4750-867d-b04bb0be9d43",
   "metadata": {},
   "outputs": [
    {
     "name": "stdin",
     "output_type": "stream",
     "text": [
      "enter the price of ur product 123456\n"
     ]
    },
    {
     "name": "stdout",
     "output_type": "stream",
     "text": [
      "congratulations u r eligible for 10% off\n"
     ]
    }
   ],
   "source": [
    "product_price =int(input(\"enter the price of ur product\"))\n",
    "if product_price>1000:\n",
    "    print(\"congratulations u r eligible for 10% off\")\n",
    "elif product_price<=1000:\n",
    "    print(\"congrats congrats u r eligible for 30% off\")"
   ]
  },
  {
   "cell_type": "code",
   "execution_count": 61,
   "id": "789f2291-c261-4679-9cf6-388015f73030",
   "metadata": {},
   "outputs": [
    {
     "name": "stdin",
     "output_type": "stream",
     "text": [
      "enter the price of ur product 1000\n"
     ]
    },
    {
     "name": "stdout",
     "output_type": "stream",
     "text": [
      "congrats congrats u r eligible for 30% off and u ur current value of product is 700.0\n"
     ]
    }
   ],
   "source": [
    "product_price =int(input(\"enter the price of ur product\"))\n",
    "if product_price>1000:\n",
    "    print(\"congratulations u r eligible for 10% off and u ur current value of product is {}\".format(product_price-product_price*0.1))\n",
    "elif product_price<=1000:\n",
    "    print(\"congrats congrats u r eligible for 30% off and u ur current value of product is {}\".format(product_price-product_price*0.3))"
   ]
  },
  {
   "cell_type": "code",
   "execution_count": 64,
   "id": "cfa98110-dbdb-41a6-b334-d5dcf46ce013",
   "metadata": {},
   "outputs": [
    {
     "name": "stdin",
     "output_type": "stream",
     "text": [
      "enter the price of ur product 2000\n"
     ]
    },
    {
     "name": "stdout",
     "output_type": "stream",
     "text": [
      "congratulations u r eligible for 10% off and u ur current value of product is 1800.0\n"
     ]
    }
   ],
   "source": [
    "product_price =int(input(\"enter the price of ur product\"))\n",
    "if product_price>1000:\n",
    "    print(\"congratulations u r eligible for 10% off and u ur current value of product is {}\".format(product_price-product_price*0.1))\n",
    "elif product_price<=1000:\n",
    "    print(\"congrats congrats u r eligible for 30% off and u ur current value of product is {}\".format(product_price-product_price*0.3))"
   ]
  },
  {
   "cell_type": "code",
   "execution_count": 2,
   "id": "da8fda08-2334-4178-b9c9-b70c445c66d6",
   "metadata": {},
   "outputs": [
    {
     "data": {
      "text/plain": [
       "3"
      ]
     },
     "execution_count": 2,
     "metadata": {},
     "output_type": "execute_result"
    }
   ],
   "source": [
    "1+2"
   ]
  },
  {
   "cell_type": "code",
   "execution_count": 3,
   "id": "d69fe413-2809-48c1-a6dc-4220f513fe95",
   "metadata": {},
   "outputs": [],
   "source": [
    "#loop statement\n",
    "#while loop\n",
    "#for loop\n",
    "#nested loop\n",
    "#loop control (break,continue,pass)"
   ]
  },
  {
   "cell_type": "code",
   "execution_count": 12,
   "id": "5d74bbdd-7790-4a76-ae97-c9b8ef0a9b8e",
   "metadata": {},
   "outputs": [
    {
     "name": "stdout",
     "output_type": "stream",
     "text": [
      "35\n",
      "36\n",
      "37\n",
      "38\n",
      "39\n",
      "40\n",
      "41\n",
      "42\n",
      "43\n",
      "44\n",
      "45\n",
      "46\n",
      "47\n",
      "48\n",
      "49\n",
      "50\n",
      "51\n",
      "52\n",
      "53\n",
      "54\n",
      "55\n",
      "56\n",
      "57\n",
      "58\n",
      "59\n",
      "60\n",
      "its the time for retirement\n"
     ]
    }
   ],
   "source": [
    "joining_age=35\n",
    "while joining_age<=60:\n",
    "    print(joining_age)\n",
    "    joining_age=joining_age+1\n",
    "else:\n",
    "        print(\"its the time for retirement\")\n"
   ]
  },
  {
   "cell_type": "code",
   "execution_count": 6,
   "id": "a686cbf4-6f73-4b0e-89d4-a8369e76ea8f",
   "metadata": {},
   "outputs": [
    {
     "data": {
      "text/plain": [
       "4"
      ]
     },
     "execution_count": 6,
     "metadata": {},
     "output_type": "execute_result"
    }
   ],
   "source": [
    "1+3"
   ]
  },
  {
   "cell_type": "code",
   "execution_count": 13,
   "id": "df957aa3-8349-46ea-87e0-f00f2e4826f6",
   "metadata": {},
   "outputs": [],
   "source": [
    "#atm machine has 1000 ruppes every transaction pe 100 deduct hojate hai if all money gone at the end of day \n",
    "#money exhausted"
   ]
  },
  {
   "cell_type": "code",
   "execution_count": 28,
   "id": "0dd9b46b-f4f9-43df-aa06-11cd7ec0e05a",
   "metadata": {},
   "outputs": [
    {
     "name": "stdout",
     "output_type": "stream",
     "text": [
      "1000\n",
      "900\n",
      "800\n",
      "700\n",
      "600\n",
      "500\n",
      "400\n",
      "300\n",
      "200\n",
      "100\n",
      "Money Exhaustted\n"
     ]
    }
   ],
   "source": [
    "atm_money=1000\n",
    "while atm_money!=0:\n",
    "    print(atm_money)\n",
    "    atm_money=atm_money-100\n",
    "    \n",
    "else:\n",
    "        print(\"Money Exhaustted\")\n"
   ]
  },
  {
   "cell_type": "code",
   "execution_count": 29,
   "id": "75daed0a-97f1-424a-b03c-039aad7cb64c",
   "metadata": {},
   "outputs": [],
   "source": [
    "#for loop"
   ]
  },
  {
   "cell_type": "code",
   "execution_count": 31,
   "id": "aadc68b8-8457-4a2a-8392-ae05bf7a1862",
   "metadata": {},
   "outputs": [],
   "source": [
    "lst=[1,34,87654,87,56,\"name\"]"
   ]
  },
  {
   "cell_type": "code",
   "execution_count": 32,
   "id": "5d6d323d-907b-40f5-ad61-501d2ec78259",
   "metadata": {},
   "outputs": [
    {
     "data": {
      "text/plain": [
       "1"
      ]
     },
     "execution_count": 32,
     "metadata": {},
     "output_type": "execute_result"
    }
   ],
   "source": [
    "lst[0]"
   ]
  },
  {
   "cell_type": "code",
   "execution_count": 34,
   "id": "adecd8e2-9dba-4222-af34-e895824ddb38",
   "metadata": {},
   "outputs": [
    {
     "data": {
      "text/plain": [
       "'name'"
      ]
     },
     "execution_count": 34,
     "metadata": {},
     "output_type": "execute_result"
    }
   ],
   "source": [
    "lst[-1]"
   ]
  },
  {
   "cell_type": "code",
   "execution_count": 37,
   "id": "84b170e2-8bf9-4667-8c4b-2b05c42de475",
   "metadata": {},
   "outputs": [],
   "source": [
    "lst[1]=1"
   ]
  },
  {
   "cell_type": "code",
   "execution_count": 39,
   "id": "14a178e6-c6a7-4418-a28f-94c5f2d196f4",
   "metadata": {},
   "outputs": [
    {
     "data": {
      "text/plain": [
       "[1, 1, 87654, 87, 56, 'name']"
      ]
     },
     "execution_count": 39,
     "metadata": {},
     "output_type": "execute_result"
    }
   ],
   "source": [
    "lst"
   ]
  },
  {
   "cell_type": "code",
   "execution_count": 42,
   "id": "eac18470-2e6f-47b6-af7b-a6ffd682077c",
   "metadata": {},
   "outputs": [
    {
     "name": "stdout",
     "output_type": "stream",
     "text": [
      "1\n",
      "1\n",
      "87654\n",
      "87\n",
      "56\n",
      "name\n",
      "hahaa\n"
     ]
    }
   ],
   "source": [
    "for i in lst:\n",
    "    print(i)\n",
    "    if i==\"name\":\n",
    "        print(\"hahaa\")"
   ]
  },
  {
   "cell_type": "code",
   "execution_count": 43,
   "id": "820fff8d-7bab-4658-9590-cdc5f5ebf746",
   "metadata": {},
   "outputs": [
    {
     "name": "stdout",
     "output_type": "stream",
     "text": [
      "m\n",
      "a\n",
      "n\n",
      "g\n",
      "o\n"
     ]
    }
   ],
   "source": [
    "fruit='mango'\n",
    "for a in fruit:\n",
    "    print(a)"
   ]
  },
  {
   "cell_type": "code",
   "execution_count": 44,
   "id": "ec90b755-0399-4ba2-af80-ac5c491e52ba",
   "metadata": {},
   "outputs": [
    {
     "data": {
      "text/plain": [
       "'m'"
      ]
     },
     "execution_count": 44,
     "metadata": {},
     "output_type": "execute_result"
    }
   ],
   "source": [
    "fruit[0]"
   ]
  },
  {
   "cell_type": "code",
   "execution_count": 45,
   "id": "441bf698-dda0-4bad-be66-2eb3f9839610",
   "metadata": {},
   "outputs": [
    {
     "ename": "TypeError",
     "evalue": "'str' object does not support item assignment",
     "output_type": "error",
     "traceback": [
      "\u001b[0;31m---------------------------------------------------------------------------\u001b[0m",
      "\u001b[0;31mTypeError\u001b[0m                                 Traceback (most recent call last)",
      "Cell \u001b[0;32mIn[45], line 1\u001b[0m\n\u001b[0;32m----> 1\u001b[0m \u001b[43mfruit\u001b[49m\u001b[43m[\u001b[49m\u001b[38;5;241;43m0\u001b[39;49m\u001b[43m]\u001b[49m\u001b[38;5;241m=\u001b[39m\u001b[38;5;241m1\u001b[39m\n",
      "\u001b[0;31mTypeError\u001b[0m: 'str' object does not support item assignment"
     ]
    }
   ],
   "source": [
    "fruit[0]=1"
   ]
  },
  {
   "cell_type": "code",
   "execution_count": 46,
   "id": "074a5c79-b600-48d7-96c2-0aa1af240ab6",
   "metadata": {},
   "outputs": [],
   "source": [
    "#nested loops"
   ]
  },
  {
   "cell_type": "code",
   "execution_count": 47,
   "id": "21a2db22-66ab-4b06-a6fb-4adc5a8c6964",
   "metadata": {},
   "outputs": [
    {
     "data": {
      "text/plain": [
       "range(1, 6)"
      ]
     },
     "execution_count": 47,
     "metadata": {},
     "output_type": "execute_result"
    }
   ],
   "source": [
    "range(1,6)"
   ]
  },
  {
   "cell_type": "code",
   "execution_count": 48,
   "id": "53be2978-3711-4df6-91f7-13c75ac3707b",
   "metadata": {},
   "outputs": [
    {
     "name": "stdout",
     "output_type": "stream",
     "text": [
      "1\n",
      "2\n",
      "3\n",
      "4\n",
      "5\n"
     ]
    }
   ],
   "source": [
    "for i in range(1,6):\n",
    "    print(i)"
   ]
  },
  {
   "cell_type": "code",
   "execution_count": 49,
   "id": "f1cc0683-cec1-4c3e-ade3-378a1e58086f",
   "metadata": {},
   "outputs": [
    {
     "name": "stdout",
     "output_type": "stream",
     "text": [
      "*\n",
      "*\n",
      "*\n",
      "*\n",
      "*\n",
      "*\n",
      "*\n",
      "*\n",
      "*\n",
      "*\n",
      "*\n",
      "*\n",
      "*\n",
      "*\n",
      "*\n",
      "*\n",
      "*\n",
      "*\n",
      "*\n",
      "*\n",
      "*\n",
      "*\n",
      "*\n",
      "*\n",
      "*\n",
      "*\n",
      "*\n",
      "*\n"
     ]
    }
   ],
   "source": [
    "n=7\n",
    "for i in range(0,n):\n",
    "    for j in range(0,i+1):\n",
    "        print(\"*\")"
   ]
  },
  {
   "cell_type": "code",
   "execution_count": 50,
   "id": "0133e0cd-e22e-42cc-9598-b35b62a504f8",
   "metadata": {},
   "outputs": [
    {
     "name": "stdout",
     "output_type": "stream",
     "text": [
      "****************************"
     ]
    }
   ],
   "source": [
    "n=7\n",
    "for i in range(0,n):\n",
    "    for j in range(0,i+1):\n",
    "        print(\"*\",end='')"
   ]
  },
  {
   "cell_type": "code",
   "execution_count": 58,
   "id": "efe20ed4-657d-4dca-9e08-f9d10e937a50",
   "metadata": {},
   "outputs": [
    {
     "name": "stdout",
     "output_type": "stream",
     "text": [
      "*\n",
      "\n",
      "*\n",
      "*\n",
      "\n",
      "*\n",
      "*\n",
      "*\n",
      "\n",
      "*\n",
      "*\n",
      "*\n",
      "*\n",
      "\n",
      "*\n",
      "*\n",
      "*\n",
      "*\n",
      "*\n",
      "\n",
      "*\n",
      "*\n",
      "*\n",
      "*\n",
      "*\n",
      "*\n",
      "\n",
      "*\n",
      "*\n",
      "*\n",
      "*\n",
      "*\n",
      "*\n",
      "*\n",
      "\n"
     ]
    }
   ],
   "source": [
    "n=7\n",
    "\n",
    "for i in range(0,n):\n",
    "    for j in range(0,i+1):\n",
    "        print(\"*\",)\n",
    "    print(\"\\r\")"
   ]
  },
  {
   "cell_type": "code",
   "execution_count": 57,
   "id": "07b026fe-2d62-4d9a-813c-7a7fb2a7e005",
   "metadata": {},
   "outputs": [],
   "source": [
    "#right angled triangle"
   ]
  },
  {
   "cell_type": "code",
   "execution_count": 59,
   "id": "4d0481bd-6bed-4262-b27b-a33ec43261be",
   "metadata": {},
   "outputs": [
    {
     "name": "stdout",
     "output_type": "stream",
     "text": [
      "*\n",
      "**\n",
      "***\n",
      "****\n",
      "*****\n",
      "******\n",
      "*******\n"
     ]
    }
   ],
   "source": [
    "n=7\n",
    "\n",
    "for i in range(0,n):\n",
    "    for j in range(0,i+1):\n",
    "        print(\"*\",end='')\n",
    "    print(\"\\r\")"
   ]
  },
  {
   "cell_type": "code",
   "execution_count": 60,
   "id": "fd994a6f-41ee-447a-8a4c-290dc4a321d7",
   "metadata": {},
   "outputs": [
    {
     "name": "stdout",
     "output_type": "stream",
     "text": [
      "*\n",
      "\n",
      "**\n",
      "\n",
      "***\n",
      "\n",
      "****\n",
      "\n",
      "*****\n",
      "\n",
      "******\n",
      "\n",
      "*******\n",
      "\n"
     ]
    }
   ],
   "source": [
    "n=7\n",
    "\n",
    "for i in range(0,n):\n",
    "    for j in range(0,i+1):\n",
    "        print(\"*\",end='')\n",
    "    print(\"\\n\")"
   ]
  },
  {
   "cell_type": "code",
   "execution_count": 61,
   "id": "908cfa04-b76a-4b98-a16d-8c26154246f1",
   "metadata": {},
   "outputs": [],
   "source": [
    "#loop controls"
   ]
  },
  {
   "cell_type": "code",
   "execution_count": 62,
   "id": "66507e12-0501-4ffb-8aa7-b3c103b994d8",
   "metadata": {},
   "outputs": [],
   "source": [
    "#break\n",
    "#continue"
   ]
  },
  {
   "cell_type": "code",
   "execution_count": 63,
   "id": "a3cb16b0-c383-42f0-a1ec-184e9f3ffb99",
   "metadata": {},
   "outputs": [],
   "source": [
    "fruits=[\"apple\",\"cherry\",\"banana\",\"mango\"]"
   ]
  },
  {
   "cell_type": "code",
   "execution_count": 84,
   "id": "e50c5125-116f-4583-b36a-6c1da040f555",
   "metadata": {},
   "outputs": [
    {
     "name": "stdout",
     "output_type": "stream",
     "text": [
      "apple\n",
      "the fruit is cherry\n"
     ]
    }
   ],
   "source": [
    "for i in fruits:\n",
    "    if i==\"cherry\":\n",
    "        print(\"the fruit is cherry\")\n",
    "        break\n",
    "    print(i)\n",
    "        "
   ]
  },
  {
   "cell_type": "code",
   "execution_count": 83,
   "id": "d399daf8-2656-4d76-b047-c094fe5462d1",
   "metadata": {},
   "outputs": [
    {
     "name": "stdout",
     "output_type": "stream",
     "text": [
      "apple\n",
      "the fruit is cherry\n",
      "cherry\n",
      "banana\n",
      "mango\n"
     ]
    }
   ],
   "source": [
    "for i in fruits:\n",
    "    if i==\"cherry\":\n",
    "        print(\"the fruit is cherry\")\n",
    "        pass\n",
    "    print(i)\n",
    "        "
   ]
  },
  {
   "cell_type": "code",
   "execution_count": 82,
   "id": "8a034732-543f-4915-a9db-958e01ae8f5a",
   "metadata": {},
   "outputs": [
    {
     "name": "stdout",
     "output_type": "stream",
     "text": [
      "apple\n",
      "the fruit is cherry\n",
      "banana\n",
      "mango\n"
     ]
    }
   ],
   "source": [
    "for i in fruits:\n",
    "    if i==\"cherry\":\n",
    "        print(\"the fruit is cherry\")\n",
    "        continue\n",
    "    print(i)\n",
    "        "
   ]
  },
  {
   "cell_type": "code",
   "execution_count": null,
   "id": "f680e93b-5c39-4bac-b2d4-7519d76f9fe6",
   "metadata": {},
   "outputs": [],
   "source": []
  }
 ],
 "metadata": {
  "kernelspec": {
   "display_name": "Python 3 (ipykernel)",
   "language": "python",
   "name": "python3"
  },
  "language_info": {
   "codemirror_mode": {
    "name": "ipython",
    "version": 3
   },
   "file_extension": ".py",
   "mimetype": "text/x-python",
   "name": "python",
   "nbconvert_exporter": "python",
   "pygments_lexer": "ipython3",
   "version": "3.10.8"
  }
 },
 "nbformat": 4,
 "nbformat_minor": 5
}
